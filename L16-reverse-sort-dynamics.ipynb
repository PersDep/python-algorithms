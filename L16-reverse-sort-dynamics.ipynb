{
  "cells": [
    {
      "cell_type": "markdown",
      "metadata": {
        "id": "vIdcSyCgs8l6"
      },
      "source": [
        "# Reverse iteration approach"
      ]
    },
    {
      "cell_type": "markdown",
      "metadata": {
        "id": "0AilsKqNvCDk"
      },
      "source": [
        "7\n",
        "\n",
        "1 2 3 1 2 4 5\n"
      ]
    },
    {
      "cell_type": "code",
      "execution_count": null,
      "metadata": {
        "id": "T2j8I6DX3Ftw"
      },
      "outputs": [],
      "source": [
        "# delete 1 2 3\n",
        "# delete 1 2\n",
        "# you have left blocks 4 5\n",
        "# ?\n",
        "# you will have to check all the previous pyramids to check where you can fit those 4 & 5"
      ]
    },
    {
      "cell_type": "code",
      "execution_count": null,
      "metadata": {
        "id": "rLAW--_nv65d"
      },
      "outputs": [],
      "source": [
        "# pyramid: 5 4 3 2 1\n",
        "# pyramid: 2 1\n",
        "# 0 blocks left"
      ]
    },
    {
      "cell_type": "code",
      "execution_count": null,
      "metadata": {
        "id": "Ci9LQzYPwM7L"
      },
      "outputs": [],
      "source": [
        "# 3\n",
        "# 3 1 2\n",
        "\n",
        "# PYRAMID: 1 2\n",
        "# 1 block left"
      ]
    },
    {
      "cell_type": "code",
      "execution_count": null,
      "metadata": {
        "id": "A80CWprfwDjf"
      },
      "outputs": [],
      "source": [
        "# 4\n",
        "# 2 1 3 1\n",
        "\n",
        "# pyramid: 1\n",
        "# pyramid: 1\n",
        "# 2 blocks left (2 and 3)"
      ]
    },
    {
      "cell_type": "markdown",
      "metadata": {
        "id": "kbq0e2pnvJ48"
      },
      "source": [
        "pyramid: 7 6 5 4 3 2 1\n",
        "\n",
        "pyramid: 1\n",
        "\n",
        "pyramid: 2 1\n",
        "\n",
        "pyramid: 3 2 1"
      ]
    },
    {
      "cell_type": "markdown",
      "metadata": {
        "id": "AlNZLjZVs8l7"
      },
      "source": [
        "As it is known, the famous Egyptian pyramids were built by extraterrestrials. They were the catalyst for the development of civilization on Earth. However, few know that these extraterrestrials were Pandorians. Now they want to replicate their success on the planet Makemake.\n",
        "\n",
        "To construct the pyramids on Makemake, $N$ stone blocks of various types were brought in and arranged in a row. There are 9 types of blocks in total. The type of a block is determined by its size: the largest blocks are of type 9, and the smallest ones are of type 1. A proper pyramid should consist of blocks stacked on top of each other, with a type 1 block at the top, and each block resting on a block of the next larger type.\n",
        "\n",
        "Of course, the pyramids are not built by the Pandorians themselves, but by the local inhabitants of Makemake. The Pandorians merely supervise the construction process, indicating which block needs to be moved. The anatomy of the Makemakeans allows them to lift one block and place it on the first block or stack of blocks they encounter to the right. As soon as the next pyramid is completed (that is, a type 1 block is placed at the top), it is removed from the row of blocks and placed on a specially prepared platform.\n",
        "\n",
        "Develop a strategy for building pyramids that leaves as few unused blocks as possible.\n",
        "\n",
        "### Input format\n",
        "\n",
        "The first line contains an integer $N$ — the number of blocks brought in $(1 \\leqslant N \\leqslant 100,000)$.\n",
        "\n",
        "The second line contains $N$ integers from $1$ to $9$ — the types of blocks in the order they are arranged in the row, listed from left to right.\n",
        "\n",
        "### Output format\n",
        "\n",
        "Output the minimum possible number of unused blocks."
      ]
    },
    {
      "cell_type": "markdown",
      "metadata": {
        "id": "psizwS_7s8l8"
      },
      "source": [
        "Let's solve it through reverse iteration:"
      ]
    },
    {
      "cell_type": "code",
      "execution_count": 6,
      "metadata": {
        "colab": {
          "base_uri": "https://localhost:8080/"
        },
        "id": "u0hfSw0Zs8l8",
        "outputId": "d07a2c30-ae9e-41ed-acb2-9466e3bd0014"
      },
      "outputs": [
        {
          "name": "stdout",
          "output_type": "stream",
          "text": [
            "9\n",
            "1 2 3 1 2 3 4 4 5\n",
            "[1, 2, 3, 1, 2, 3, 4, 4, 5]\n",
            "8 5\n",
            "7 4\n",
            "6 4\n",
            "5 3\n",
            "4 2\n",
            "3 1\n",
            "Building block of size 1\n",
            "We have the following blocks to consider [5, 4, 4, 3, 2]\n",
            "Building block of size 2\n",
            "We have the following blocks to consider [5, 4, 4, 3]\n",
            "Building block of size 3\n",
            "We have the following blocks to consider [5, 4, 4]\n",
            "Building block of size 4\n",
            "We have the following blocks to consider [5, 4]\n",
            "2 3\n",
            "1 2\n",
            "0 1\n",
            "Building block of size 1\n",
            "We have the following blocks to consider [5, 4, 3, 2]\n",
            "Building block of size 2\n",
            "We have the following blocks to consider [5, 4, 3]\n",
            "Building block of size 3\n",
            "We have the following blocks to consider [5, 4]\n",
            "Building block of size 4\n",
            "We have the following blocks to consider [5]\n",
            "Building block of size 5\n",
            "We have the following blocks to consider []\n",
            "0\n"
          ]
        }
      ],
      "source": [
        "_ = input()\n",
        "block_sizes = list(map(int, input().split()))\n",
        "\n",
        "print(block_sizes)\n",
        "\n",
        "unused_block_sizes = []\n",
        "\n",
        "# iterate from the last one to the first one (backwards)\n",
        "for i in range(len(block_sizes) - 1, -1, -1): # start, stop, step\n",
        "  print(i, block_sizes[i])\n",
        "  unused_block_sizes.append(block_sizes[i]) #just adding up all the blocks\n",
        "  needed_block_size = 1\n",
        "  if block_sizes[i] == needed_block_size: # we have reached the block with size 1, we can try building a pyramid from the top (starting with block size 1)\n",
        "    # while unuses_block_sizes is not empty and each next block (while moving forward through the initial list, but backwards through the new list [-1]) is of the the right size\n",
        "    while unused_block_sizes and unused_block_sizes[-1] == needed_block_size:\n",
        "      print(\"Building block of size\", needed_block_size)\n",
        "      # each next block has to be of the next size\n",
        "      needed_block_size += 1\n",
        "      # we can remove used blocks. They are already used to build some pyramid and we can safely remove them\n",
        "      # the blocks which we will have left at the end ar the actually unused blocks\n",
        "      unused_block_sizes.pop()\n",
        "      print(\"We have the following blocks to consider\", unused_block_sizes)\n",
        "\n",
        "# output the amount of remaining unused blocks (which were not used for pyramids and thus were not popped)\n",
        "print(len(unused_block_sizes))"
      ]
    },
    {
      "cell_type": "code",
      "execution_count": null,
      "metadata": {
        "id": "kEoKVarr2jTx"
      },
      "outputs": [],
      "source": [
        "_ = input()\n",
        "block_sizes = list(map(int, input().split()))\n",
        "\n",
        "unused_block_sizes = []\n",
        "for i in range(len(block_sizes) - 1, -1, -1): # start, stop, step\n",
        "  unused_block_sizes.append(block_sizes[i]) #just adding up all the blocks\n",
        "  needed_block_size = 1\n",
        "  if block_sizes[i] == needed_block_size: # we have reached the block with size 1, we can try building a pyramid from the top (starting with block size 1)\n",
        "    while unused_block_sizes and unused_block_sizes[-1] == needed_block_size:\n",
        "      needed_block_size += 1\n",
        "      unused_block_sizes.pop()\n",
        "\n",
        "print(len(unused_block_sizes))"
      ]
    },
    {
      "cell_type": "code",
      "execution_count": null,
      "metadata": {
        "id": "rRVUDqKf2_XG"
      },
      "outputs": [],
      "source": []
    },
    {
      "cell_type": "markdown",
      "metadata": {
        "id": "UvBR8LGTs8l9"
      },
      "source": [
        "If elements are not removed from the auxiliary list, the complexity will be nearly quadratic. By removing elements, it becomes two passes, that is, O(n)."
      ]
    },
    {
      "cell_type": "markdown",
      "metadata": {
        "id": "OCaUPRQ0s8l9"
      },
      "source": [
        "# Sorting + data processing approach"
      ]
    },
    {
      "cell_type": "markdown",
      "metadata": {
        "id": "s-rPGtzys8l9"
      },
      "source": [
        "Gleb loves shopping. One day he became excited about the idea of picking out a shirt and pants to look as stylish as possible. In Gleb's understanding, the style of clothing is greater the smaller the difference in color between the elements of his outfit.\n",
        "There are $N$ ($1 \\leq N \\leq 10^5$) shirts and $M$ ($1 \\leq M \\leq 10^5$) pants available, and each item has a known color (an integer from 1 to $10^7$). Help Gleb choose one shirt and one pair of pants so that the difference in their colors is as small as possible.\n",
        "\n",
        "### Input Format\n",
        "\n",
        "First, information about the shirts is provided: in the first line, an integer $N$ ($1 \\leq N \\leq 10^5$), and in the second line, $N$ integers from 1 to $10^7$ — the colors of the available shirts. It is guaranteed that the color numbers are in ascending order (in particular, no two shirts have the same color).\n",
        "Next, the description of the pants follows in the same format: their quantity $M$ ($1 \\leq M \\leq 10^5$), and in the next line, $M$ integers from 1 to $10^7$ in ascending order — the colors of the pants.\n",
        "\n",
        "### Output Format\n",
        "\n",
        "Output a pair of non-negative numbers — the color of the shirt and the color of the pants that Gleb should choose."
      ]
    },
    {
      "cell_type": "markdown",
      "metadata": {
        "id": "Ar9Asp5ms8l9"
      },
      "source": [
        "Let's solve this using sorting:"
      ]
    },
    {
      "cell_type": "code",
      "execution_count": null,
      "metadata": {
        "id": "LKgwyFGs44zP"
      },
      "outputs": [],
      "source": [
        "# 2\n",
        "# 3 4\n",
        "# 3\n",
        "# 1 2 3\n",
        "\n",
        "# (1, p) (2, p) (3, p) (3, s) (4, s)\n",
        "\n",
        "\n",
        "# 3 3"
      ]
    },
    {
      "cell_type": "code",
      "execution_count": 15,
      "metadata": {
        "colab": {
          "base_uri": "https://localhost:8080/"
        },
        "id": "hC5vBMKJ9AGO",
        "outputId": "6bf12f95-7be9-49b8-c3c0-2ad37d74e9e0"
      },
      "outputs": [
        {
          "name": "stdout",
          "output_type": "stream",
          "text": [
            "0 10 10\n",
            "1 11 11\n",
            "2 12 12\n",
            "3 13 13\n",
            "4 14 14\n",
            "5 15 15\n",
            "\n",
            "0 11 10\n",
            "1 12 11\n",
            "2 13 12\n",
            "3 14 13\n",
            "4 15 14\n"
          ]
        }
      ],
      "source": [
        "a = [10, 11, 12, 13, 14, 15]\n",
        "for i, elem in enumerate(a):\n",
        "  print(i, elem, a[i])\n",
        "print()\n",
        "for i, elem in enumerate(a[1:]):\n",
        "  print(i, elem, a[i])\n",
        "  # elem is current element and a[i] is previous element"
      ]
    },
    {
      "cell_type": "code",
      "execution_count": 17,
      "metadata": {
        "colab": {
          "base_uri": "https://localhost:8080/"
        },
        "id": "GjNxfAS09nnr",
        "outputId": "6a70ac9d-d4eb-4e9c-d813-8854dd6e97d7"
      },
      "outputs": [
        {
          "name": "stdout",
          "output_type": "stream",
          "text": [
            "0 10 10 100 100\n",
            "1 11 11 110 110\n",
            "2 12 12 120 120\n",
            "3 13 13 130 130\n",
            "4 14 14 140 140\n",
            "5 15 15 150 150\n",
            "\n",
            "0 11 10 110 100\n",
            "1 12 11 120 110\n",
            "2 13 12 130 120\n",
            "3 14 13 140 130\n",
            "4 15 14 150 140\n"
          ]
        }
      ],
      "source": [
        "a = [(10, 100), (11, 110), (12, 120), (13, 130), (14, 140), (15, 150)]\n",
        "for i, elem in enumerate(a):\n",
        "  print(i, elem[0], a[i][0], elem[1], a[i][1])\n",
        "print()\n",
        "for i, elem in enumerate(a[1:]):\n",
        "  print(i, elem[0], a[i][0], elem[1], a[i][1])\n",
        "  # elem is current element and a[i] is previous element"
      ]
    },
    {
      "cell_type": "code",
      "execution_count": 13,
      "metadata": {
        "colab": {
          "base_uri": "https://localhost:8080/"
        },
        "id": "QILjlVwf9Oj9",
        "outputId": "4758e68a-3cea-4fff-b2a1-64dceb2a2663"
      },
      "outputs": [
        {
          "name": "stdout",
          "output_type": "stream",
          "text": [
            "[10, 11, 12, 13, 14, 15]\n",
            "[11, 12, 13, 14, 15]\n"
          ]
        }
      ],
      "source": [
        "print(a)\n",
        "print(a[1:])"
      ]
    },
    {
      "cell_type": "code",
      "execution_count": 11,
      "metadata": {
        "colab": {
          "base_uri": "https://localhost:8080/"
        },
        "id": "KzTRD7Zas8l9",
        "outputId": "91ac47fa-6569-4877-8754-7d2f5c11eea5"
      },
      "outputs": [
        {
          "name": "stdout",
          "output_type": "stream",
          "text": [
            "2\n",
            "3 4\n",
            "3\n",
            "1 2 3\n",
            "[(3, 0), (4, 0), (1, 1), (2, 1), (3, 1)]\n",
            "[(1, 1), (2, 1), (3, 0), (3, 1), (4, 0)]\n",
            "3 3\n"
          ]
        }
      ],
      "source": [
        "shirts_amount = int(input())\n",
        "shirts = [int(shirt) for shirt in input().split()]\n",
        "\n",
        "pants_amount = int(input())\n",
        "pants = [int(pant) for pant in input().split()]\n",
        "\n",
        "clothes = [(0, 0)] * (shirts_amount + pants_amount) # 1st element in tuple is color, 2nd element in tuple is type (0 for shirts, 1 for pants)\n",
        "for i, shirt in enumerate(shirts):\n",
        "  clothes[i] = (shirt, 0)\n",
        "for i, pant in enumerate(pants):\n",
        "  clothes[i + shirts_amount] = (pant, 1)\n",
        "\n",
        "print(clothes)\n",
        "\n",
        "# apply sorting !\n",
        "# sorting by the color\n",
        "# clothes is a list of shirts and pants\n",
        "clothes.sort(key=lambda x: x[0])\n",
        "\n",
        "print(clothes)\n",
        "\n",
        "min_diff = 1000 * 1000\n",
        "shirt = 0\n",
        "pant = 0\n",
        "# 0 1 2 3 4\n",
        "#   - - - -\n",
        "# i=0 1 2 3\n",
        "for i, elem in enumerate(clothes[1:]):\n",
        "  diff = elem[0] - clothes[i][0] # calculate the difference between colors of the consecutive clothes elements\n",
        "  # check that this difference is smaller than previous ones\n",
        "  if diff < min_diff and elem[1] != clothes[i][1]: # also check if the clothes elements are different (pants & shirts)\n",
        "    # update the min diff to find out the most stylish pair3\n",
        "\n",
        "    min_diff = diff\n",
        "    # update the best pants & shirts\n",
        "    if elem[1] == 0:\n",
        "      shirt = elem[0]\n",
        "      pant = clothes[i][0]\n",
        "    else:\n",
        "      shirt = clothes[i][0]\n",
        "      pant = elem[0]\n",
        "\n",
        "print(shirt, pant)"
      ]
    },
    {
      "cell_type": "markdown",
      "metadata": {
        "id": "laeTzweL8NSo"
      },
      "source": [
        "Complexity here is O(nlogn)\n",
        "\n",
        "Because sorting is O(nlogn) and search is O(n)\n",
        "\n",
        "so overall it is O(nlogn + n) == O(nlogn)\n",
        "\n",
        "O(n + n) == O(n)"
      ]
    },
    {
      "cell_type": "markdown",
      "metadata": {
        "id": "43JxLp5_s8l9"
      },
      "source": [
        "# Dynamic Programming\n",
        "\n",
        "Dynamic programming is a method for solving complex problems by breaking them down into simpler subproblems. It is applicable to problems with a structure that resembles a set of overlapping subproblems, whose complexity is less than that of the original problem.\n",
        "\n",
        "The key idea: generally, to solve a given problem, it is necessary to solve its individual parts (subproblems), and then combine the solutions of the subproblems into one overall solution. Often, many of these subproblems are identical. The dynamic programming approach involves solving each subproblem only once, thereby reducing the number of computations. This is particularly useful in cases where the number of repeating subproblems is exponentially large."
      ]
    },
    {
      "cell_type": "markdown",
      "metadata": {},
      "source": [
        "# Let's solve the problem using dynamic programming"
      ]
    },
    {
      "cell_type": "markdown",
      "metadata": {
        "id": "DXZGQ1O7s8l9"
      },
      "source": [
        "At the top of a staircase containing \\( N \\) steps, there is a ball that starts jumping down to the base. The ball can jump to the next step, skip one step, or skip two steps. (For example, if the ball is on the 8th step, it can move to the 5th, 6th, or 7th step.) Determine the number of possible \"routes\" for the ball from the top to the ground.\n",
        "\n",
        "## Input Format\n",
        "\n",
        "A single number \\( 0 < N < 31 \\) is given.\n",
        "\n",
        "## Output Format\n",
        "\n",
        "Output a single number — the number of routes."
      ]
    },
    {
      "cell_type": "markdown",
      "metadata": {
        "id": "K_9o43Gus8l-"
      },
      "source": [
        "Let's approach it using dynamics:"
      ]
    },
    {
      "cell_type": "code",
      "execution_count": null,
      "metadata": {
        "id": "XT6BhzF5s8l-"
      },
      "outputs": [],
      "source": [
        "n = int(input())\n",
        "\n",
        "# let's create the list which will contain possible ways for each step\n",
        "ways_on_each_step = [0] * (n + 1)\n",
        "# step n will be the last one and we will accumulate all the possible ways on it\n",
        "\n",
        "# only 1 way on the first step\n",
        "ways_on_each_step[0] = 1\n",
        "\n",
        "for i in range(1, n + 1):\n",
        "    # adding the number of ways on each step from the previous one\n",
        "    ways_on_each_step[i] += ways_on_each_step[i - 1]\n",
        "    if i > 1:\n",
        "        # adding the number of ways on each step from the one before previous\n",
        "        ways_on_each_step[i] += ways_on_each_step[i - 2]\n",
        "    if i > 2:\n",
        "        # adding the number of ways on each step from the one which is 3 steps back\n",
        "        ways_on_each_step[i] += ways_on_each_step[i - 3]\n",
        "    # adding one more possible way for the current step\n",
        "    i += 1\n",
        "    # we have summed up all the possible ways for each step\n",
        "    print(ways_on_each_step)\n",
        "\n",
        "print(ways_on_each_step[n])"
      ]
    }
  ],
  "metadata": {
    "colab": {
      "provenance": []
    },
    "kernelspec": {
      "display_name": "Python 3",
      "name": "python3"
    },
    "language_info": {
      "name": "python"
    }
  },
  "nbformat": 4,
  "nbformat_minor": 0
}
