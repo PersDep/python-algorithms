{
  "cells": [
    {
      "cell_type": "markdown",
      "source": [
        "## Important points to consider when you are solving the algorithmical practical task"
      ],
      "metadata": {
        "id": "1lg1i1iLkSXA"
      }
    },
    {
      "cell_type": "markdown",
      "source": [
        "1. Avoid extra allocations, reallocations and deallocations (if possible: preallocate (if you know the needed size). Do not delete)"
      ],
      "metadata": {
        "id": "6e_D-AajkEW3"
      }
    },
    {
      "cell_type": "code",
      "source": [
        "# you need to store n values\n",
        "# you can allocate the needed amount of memory:\n",
        "n = int(input())\n",
        "a = [0] * n\n",
        "# you have list a with all the needed memory preallocated\n",
        "# how it works after that:\n",
        "for i in range(n):\n",
        "  a[i] = \"abc\"\n",
        "print(a)\n",
        "for i in range(n):\n",
        "  a[i] = (1, 2, 3)\n",
        "print(a)"
      ],
      "metadata": {
        "colab": {
          "base_uri": "https://localhost:8080/"
        },
        "id": "b_FHYbnMkD-E",
        "outputId": "0e28abe2-edd8-4e58-9a2b-fec8c1931576"
      },
      "execution_count": 2,
      "outputs": [
        {
          "output_type": "stream",
          "name": "stdout",
          "text": [
            "5\n",
            "['abc', 'abc', 'abc', 'abc', 'abc']\n",
            "[(1, 2, 3), (1, 2, 3), (1, 2, 3), (1, 2, 3), (1, 2, 3)]\n"
          ]
        }
      ]
    },
    {
      "cell_type": "markdown",
      "source": [
        "In case you get a string of values:"
      ],
      "metadata": {
        "id": "JWL_xVyQlzgI"
      }
    },
    {
      "cell_type": "code",
      "source": [
        "n = input() # here you read the amount but you don't really need it in Python\n",
        "s = input()\n",
        "a = [int(elem) for elem in s.split()]\n",
        "print(a)"
      ],
      "metadata": {
        "colab": {
          "base_uri": "https://localhost:8080/"
        },
        "id": "754s9ahEkDgl",
        "outputId": "95047963-3473-4e52-8aec-2c07c9ae5f64"
      },
      "execution_count": 3,
      "outputs": [
        {
          "output_type": "stream",
          "name": "stdout",
          "text": [
            "1 2 3 4 5 6 7 8\n",
            "[1, 2, 3, 4, 5, 6, 7, 8]\n"
          ]
        }
      ]
    },
    {
      "cell_type": "markdown",
      "source": [
        "2. Avoid nested loops if possible. Look for the ways to minimize iteration in nested loops, if they are needed"
      ],
      "metadata": {
        "id": "cPDbKvC8mZi3"
      }
    },
    {
      "cell_type": "code",
      "source": [
        "for i in range(n):\n",
        "  for j in range(n): # here we get O(n^2) complexity\n",
        "    pass\n",
        "\n",
        "for i in range(n):\n",
        "  for j in range(i, n): # Try minimizing amount of nested operations if they are needed\n",
        "    pass\n",
        "\n"
      ],
      "metadata": {
        "id": "-3eZRP-JkDeM"
      },
      "execution_count": null,
      "outputs": []
    },
    {
      "cell_type": "markdown",
      "source": [
        "3. You should always sort if it makes sense.\n",
        "Because sorting n * log(n) and that is actually very fast and often useful\n",
        "a.sort() # might be you need key=, reverse=True\n",
        "key can be also used to introduce the way to compare values which you prefer\n",
        "you might use \"from functools import cmp_to_key\""
      ],
      "metadata": {
        "id": "15Ypyaqdn1OQ"
      }
    },
    {
      "cell_type": "markdown",
      "source": [
        "4. Avoid saving extra data (however it can often be the case that saving \"extra\" means avoiding extra actions: then do save. Prefix sum is great example where you should save something \"extra\")"
      ],
      "metadata": {
        "id": "6KDF1z4yoNCw"
      }
    },
    {
      "cell_type": "markdown",
      "source": [
        "5. Use precalculations. Precalculate something once and use it many times. Often it can be just a few values, not an array or smth."
      ],
      "metadata": {
        "id": "lYR407o9pEai"
      }
    },
    {
      "cell_type": "markdown",
      "source": [
        "6. Often you can avoid saving extra through using tags on existing data\n",
        "\n",
        "Tags is basically saving some index for existing arrays (list etc.)"
      ],
      "metadata": {
        "id": "4de9S6sjoqPm"
      }
    },
    {
      "cell_type": "markdown",
      "source": [
        "7. Try to use one iteration cycle through data structure to collect everything you need. It is often possible. Try to find the way to do it"
      ],
      "metadata": {
        "id": "hmFdzhJ5pAjM"
      }
    },
    {
      "cell_type": "markdown",
      "source": [
        "Vasya came up with a new metric by which he can draw conclusions about how sorted a sequence of natural numbers is. To do this, he finds the length of the longest monotonic subsequence. A monotonic subsequence is considered to be a fragment of a sequence in which all elements are arranged either in increasing order or in decreasing order. Write a program to compute this metric."
      ],
      "metadata": {
        "id": "zxFD2QhfqGpO"
      }
    },
    {
      "cell_type": "markdown",
      "source": [
        "We will get a sequence of natural numbers, ending with 0 (0 is not included in sequence)\n",
        "\n",
        "We have to output the length of the longest monotonic subsequence"
      ],
      "metadata": {
        "id": "pk6Y9UeqqsN0"
      }
    },
    {
      "cell_type": "markdown",
      "source": [
        "Вася придумал новую метрику по которой он может делать выводы о том, насколько отсортирована последовательность натуральных чисел. Для этого он находит длину наибольшей монотонной подпоследовательности. Монотонной подпоследовательностью считается такой фрагмент последовательности, в котором все элементы располагаются либо в порядке возрастания, либо в порядке убывания. Напишите программу, вычисляющую эту метрику.\n",
        "\n",
        "Формат ввода\n",
        "Вводится последовательность целых чисел, оканчивающаяся нулем (сам 0 в последовательность не входит).\n",
        "\n",
        "Формат вывода\n",
        "Программа должна вывести длину максимальной монотонной подпоследовательности."
      ],
      "metadata": {
        "id": "xXmLMaym0Osf"
      }
    },
    {
      "cell_type": "code",
      "source": [
        "# 1. Read the input data\n",
        "\n",
        "sequence = []\n",
        "while True:\n",
        "  num = int(input())\n",
        "  if num == 0:\n",
        "    break\n",
        "  sequence.append(num)\n",
        "\n",
        "# it would be a mistake to create some extra lists to save those subsequences (rule 4)\n",
        "\n",
        "# it would be a mistake to go through the sequence more than once (rule 2)\n",
        "\n",
        "# 2. Create needed extra data (here it is just a few variables)\n",
        "\n",
        "increasing_length = 1\n",
        "decreasing_length = 1\n",
        "max_length = 1\n",
        "\n",
        "# saving this increasing/decreasing value is kind of similar to using tags\n",
        "# it is not really a tag but it is a way to track our progress without saving extra values\n",
        "# it turned out we don't need this variables, but they could help us imagine how this works\n",
        "increasing = True\n",
        "decreasing = True\n",
        "\n",
        "# let's think about sorting. Can it help us here? Obviously not, because we are interested in the real order of elements\n",
        "\n",
        "# 3. Work with the data you have to reach the solution (result)\n",
        "\n",
        "# sequence[1:] : sequence without first element\n",
        "# enumerate starts numerating from \"new\" first element\n",
        "\n",
        "for i, elem in enumerate(sequence[1:]): # we don't care are about first element\n",
        "  # although we start from the second element (element №1 instead of element №0), \"i\" will start from 0\n",
        "  # usually i - 1 for previous element, but we use i because i is 0 for element number 1, as we start from element number 1 (and with i == 0)\n",
        "  if elem > sequence[i]:\n",
        "    max_length = max(max_length, decreasing_length)\n",
        "    decreasing_length = 1\n",
        "    increasing_length += 1\n",
        "  elif elem < sequence[i]:\n",
        "    max_length = max(max_length, increasing_length)\n",
        "    increasing_length = 1\n",
        "    decreasing_length += 1\n",
        "  else:\n",
        "    # corner cases, like equality here, are often (almost always) important, so think them through\n",
        "    # our last increasing sequence ended\n",
        "    # our last decreasing sequence ended\n",
        "\n",
        "    # this is in case of equality we don't consider this monotonic\n",
        "    max_length = max(max_length, increasing_length, decreasing_length) # ?\n",
        "    increasing_length = 1\n",
        "    decreasing_length = 1\n",
        "\n",
        "    # this is in case of equality we consider this to be monotonic:\n",
        "    # increasing_length += 1\n",
        "    # decreasing_length += 1\n",
        "\n",
        "print(max(max_length, increasing_length, decreasing_length))\n",
        "\n",
        "# Great idea is to visualize some basic cases:\n",
        "# 8 7 6 10 : we had decreasing subsequence of length 3 and increasing subsequence of length 2. Answer would be 3\n",
        "# 11 12 14 10 8 6 2 : we had decreasing subsequence of length 5 and increasing subsequence of length 3. Answer would be 5\n",
        "# 11 12 14 14 14 14 14 16 18 : we had decreasing subsequence of length 1 and increasing subsequence of length 3. Answer would be 3\n",
        "# New case:\n",
        "# 11 12 14 14 14 14 14 16 18 : we had decreasing subsequence of length 5 and increasing subsequence of length 9. Answer would be 9"
      ],
      "metadata": {
        "colab": {
          "base_uri": "https://localhost:8080/"
        },
        "id": "QI2Arwy-kDb5",
        "outputId": "285c377c-743b-4094-db1e-e7de1f6a3079"
      },
      "execution_count": 14,
      "outputs": [
        {
          "output_type": "stream",
          "name": "stdout",
          "text": [
            "11\n",
            "12\n",
            "14\n",
            "14\n",
            "14\n",
            "14\n",
            "14\n",
            "16\n",
            "18\n",
            "0\n",
            "3\n"
          ]
        }
      ]
    },
    {
      "cell_type": "markdown",
      "source": [
        "max() can find max value from data structure (list)\n",
        "also max() can find max from any number of arguments\n",
        "\n",
        "max(10, 1, 11, 5) # it takes arbitraty amount of arguments"
      ],
      "metadata": {
        "id": "ZLaq71A5v5t8"
      }
    },
    {
      "cell_type": "code",
      "source": [
        "max(10, 1, 11, 5)"
      ],
      "metadata": {
        "colab": {
          "base_uri": "https://localhost:8080/"
        },
        "id": "JwmzDc3AwLdq",
        "outputId": "6e2ea088-6fa4-4d20-eeb8-9a62db65c574"
      },
      "execution_count": 10,
      "outputs": [
        {
          "output_type": "execute_result",
          "data": {
            "text/plain": [
              "11"
            ]
          },
          "metadata": {},
          "execution_count": 10
        }
      ]
    },
    {
      "cell_type": "code",
      "source": [
        "print(a)"
      ],
      "metadata": {
        "colab": {
          "base_uri": "https://localhost:8080/"
        },
        "id": "3cfZWyvRwAY-",
        "outputId": "0dd8a5e8-7a2f-4b4e-8dc3-ea50b8964be6"
      },
      "execution_count": 8,
      "outputs": [
        {
          "output_type": "stream",
          "name": "stdout",
          "text": [
            "[11, 12, 13, 14, 15, 16]\n"
          ]
        }
      ]
    },
    {
      "cell_type": "code",
      "source": [
        "max(a)"
      ],
      "metadata": {
        "colab": {
          "base_uri": "https://localhost:8080/"
        },
        "id": "DxGQuPsGv-Mz",
        "outputId": "e327356e-11f2-4d7f-ca56-e3e7fff555f4"
      },
      "execution_count": 9,
      "outputs": [
        {
          "output_type": "execute_result",
          "data": {
            "text/plain": [
              "16"
            ]
          },
          "metadata": {},
          "execution_count": 9
        }
      ]
    },
    {
      "cell_type": "code",
      "source": [
        "a[-1]"
      ],
      "metadata": {
        "colab": {
          "base_uri": "https://localhost:8080/"
        },
        "id": "8ZeIsOi4uBca",
        "outputId": "1258a76b-2529-497f-ea2b-03d7a09fbaf4"
      },
      "execution_count": 6,
      "outputs": [
        {
          "output_type": "execute_result",
          "data": {
            "text/plain": [
              "16"
            ]
          },
          "metadata": {},
          "execution_count": 6
        }
      ]
    },
    {
      "cell_type": "code",
      "source": [
        "start = 1\n",
        "stop = -1\n",
        "step = 2\n",
        "a[start:stop:step] (start is included, stop is included) # defaults are 0:None:1\n",
        "# range works the same way (range(start, stop, step)) start = 0 by default, step = 1 by default"
      ],
      "metadata": {
        "colab": {
          "base_uri": "https://localhost:8080/"
        },
        "id": "_6uvT_RUt2XE",
        "outputId": "a8aaba65-635a-4934-a995-d8dba8e862a4"
      },
      "execution_count": 5,
      "outputs": [
        {
          "output_type": "execute_result",
          "data": {
            "text/plain": [
              "[12, 14]"
            ]
          },
          "metadata": {},
          "execution_count": 5
        }
      ]
    },
    {
      "cell_type": "code",
      "source": [
        "a = [11, 12, 13, 14, 15, 16]\n",
        "\n",
        "for i in range(len(a)):\n",
        "  print(i, a[i])\n",
        "\n",
        "print('------------------------------')\n",
        "\n",
        "for elem in a:\n",
        "  print(elem)\n",
        "\n",
        "print('------------------------------')\n",
        "\n",
        "for i, elem in enumerate(a):\n",
        "  print(i, elem)"
      ],
      "metadata": {
        "colab": {
          "base_uri": "https://localhost:8080/"
        },
        "id": "7PaMKCgNkDOe",
        "outputId": "bb751497-a41b-4bc4-a2d0-b425668066b2"
      },
      "execution_count": 4,
      "outputs": [
        {
          "output_type": "stream",
          "name": "stdout",
          "text": [
            "0 11\n",
            "1 12\n",
            "2 13\n",
            "3 14\n",
            "4 15\n",
            "5 16\n",
            "------------------------------\n",
            "11\n",
            "12\n",
            "13\n",
            "14\n",
            "15\n",
            "16\n",
            "------------------------------\n",
            "0 11\n",
            "1 12\n",
            "2 13\n",
            "3 14\n",
            "4 15\n",
            "5 16\n"
          ]
        }
      ]
    },
    {
      "cell_type": "code",
      "source": [
        "a = [17, 16, 14, 15, 12, 20, 30, 31]"
      ],
      "metadata": {
        "id": "Oz4D4AqitcLM"
      },
      "execution_count": 15,
      "outputs": []
    },
    {
      "cell_type": "code",
      "source": [
        "a.sort()\n",
        "a"
      ],
      "metadata": {
        "colab": {
          "base_uri": "https://localhost:8080/"
        },
        "id": "X1LdeIY1tcI-",
        "outputId": "fbf6e839-2c43-4857-e7b7-dbe0a4742da4"
      },
      "execution_count": 16,
      "outputs": [
        {
          "output_type": "execute_result",
          "data": {
            "text/plain": [
              "[12, 14, 15, 16, 17, 20, 30, 31]"
            ]
          },
          "metadata": {},
          "execution_count": 16
        }
      ]
    },
    {
      "cell_type": "code",
      "source": [
        "a.sort(reverse=True)\n",
        "a"
      ],
      "metadata": {
        "colab": {
          "base_uri": "https://localhost:8080/"
        },
        "id": "HtABKjXw9k1_",
        "outputId": "93535bb9-6a35-47bc-9efb-84addcf71ddf"
      },
      "execution_count": 19,
      "outputs": [
        {
          "output_type": "execute_result",
          "data": {
            "text/plain": [
              "[31, 30, 20, 17, 16, 15, 14, 12]"
            ]
          },
          "metadata": {},
          "execution_count": 19
        }
      ]
    },
    {
      "cell_type": "code",
      "source": [
        "a = [(\"abcd\", 17), (\"def\", 16), (\"xyz\", 14), (\"bfg\", 20)]"
      ],
      "metadata": {
        "id": "JIZbyM3jtcGT"
      },
      "execution_count": 21,
      "outputs": []
    },
    {
      "cell_type": "code",
      "source": [
        "a.sort()\n",
        "a"
      ],
      "metadata": {
        "colab": {
          "base_uri": "https://localhost:8080/"
        },
        "id": "TKBS3QkWtb_f",
        "outputId": "9fba280b-8fdb-4c31-a828-5c56e6992701"
      },
      "execution_count": 22,
      "outputs": [
        {
          "output_type": "execute_result",
          "data": {
            "text/plain": [
              "[('abcd', 17), ('bfg', 20), ('def', 16), ('xyz', 14)]"
            ]
          },
          "metadata": {},
          "execution_count": 22
        }
      ]
    },
    {
      "cell_type": "code",
      "source": [
        "a.sort(key=lambda x : -x[1])\n",
        "a"
      ],
      "metadata": {
        "colab": {
          "base_uri": "https://localhost:8080/"
        },
        "id": "OyPCwqvFtbux",
        "outputId": "890c6585-4770-405e-a43a-faf07927678c"
      },
      "execution_count": 30,
      "outputs": [
        {
          "output_type": "execute_result",
          "data": {
            "text/plain": [
              "[('bfg', 20), ('abcd', 17), ('def', 16), ('xyz', 14)]"
            ]
          },
          "metadata": {},
          "execution_count": 30
        }
      ]
    },
    {
      "cell_type": "code",
      "source": [
        "# lambda x : x[1]\n",
        "# lambda \"argument\" : \"return value\""
      ],
      "metadata": {
        "id": "QeJ0AyOX-nB3"
      },
      "execution_count": 29,
      "outputs": []
    },
    {
      "cell_type": "code",
      "source": [
        "def get_key(x):\n",
        "  key = x[1]\n",
        "  print(x, key)\n",
        "  return key"
      ],
      "metadata": {
        "id": "7scTv5gA-P6D"
      },
      "execution_count": 26,
      "outputs": []
    },
    {
      "cell_type": "code",
      "source": [
        "a.sort(key=get_key)\n",
        "a"
      ],
      "metadata": {
        "colab": {
          "base_uri": "https://localhost:8080/"
        },
        "id": "azdlF1Av-bAx",
        "outputId": "225f25be-8bcd-4b2c-a123-ac2b6cb52673"
      },
      "execution_count": 27,
      "outputs": [
        {
          "output_type": "stream",
          "name": "stdout",
          "text": [
            "('xyz', 14) 14\n",
            "('def', 16) 16\n",
            "('abcd', 17) 17\n",
            "('bfg', 20) 20\n"
          ]
        },
        {
          "output_type": "execute_result",
          "data": {
            "text/plain": [
              "[('xyz', 14), ('def', 16), ('abcd', 17), ('bfg', 20)]"
            ]
          },
          "metadata": {},
          "execution_count": 27
        }
      ]
    },
    {
      "cell_type": "code",
      "source": [],
      "metadata": {
        "id": "LXrPT1BQ_lu9"
      },
      "execution_count": null,
      "outputs": []
    },
    {
      "cell_type": "markdown",
      "metadata": {
        "id": "ZJglKZ17wUEV"
      },
      "source": [
        "# Stacks, Queues & Heaps\n",
        "\n",
        "### Stack using Python List\n",
        "Stack is a LIFO data structure -- last-in, first-out.  \n",
        "Use append() to push an item onto the stack.  \n",
        "Use pop() to remove an item."
      ]
    },
    {
      "cell_type": "code",
      "execution_count": null,
      "metadata": {
        "scrolled": true,
        "id": "9ElHK0hBwUEW",
        "outputId": "800008a2-755c-442e-efa8-582054e9d391"
      },
      "outputs": [
        {
          "name": "stdout",
          "output_type": "stream",
          "text": [
            "[4, 7, 12, 19]\n"
          ]
        }
      ],
      "source": [
        "my_stack = list()\n",
        "my_stack.append(4)\n",
        "my_stack.append(7)\n",
        "my_stack.append(12)\n",
        "my_stack.append(19)\n",
        "print(my_stack)"
      ]
    },
    {
      "cell_type": "code",
      "execution_count": null,
      "metadata": {
        "id": "1kJNyVk9wUEW",
        "outputId": "99055b13-e41a-4fac-ab4f-4296e1137e5d"
      },
      "outputs": [
        {
          "name": "stdout",
          "output_type": "stream",
          "text": [
            "19\n",
            "12\n",
            "[4, 7]\n"
          ]
        }
      ],
      "source": [
        "print(my_stack.pop())\n",
        "print(my_stack.pop())\n",
        "print(my_stack)"
      ]
    },
    {
      "cell_type": "markdown",
      "metadata": {
        "id": "CXGNkbHJwUEX"
      },
      "source": [
        "### Stack using List with a Wrapper Class\n",
        "We create a Stack class and a full set of Stack methods.  \n",
        "But the underlying data structure is really a Python List.  \n",
        "For pop and peek methods we first check whether the stack is empty, to avoid exceptions."
      ]
    },
    {
      "cell_type": "code",
      "execution_count": null,
      "metadata": {
        "id": "6cfRyhBRwUEX"
      },
      "outputs": [],
      "source": [
        "class Stack():\n",
        "    def __init__(self):\n",
        "        self.stack = list()\n",
        "    def push(self, item):\n",
        "        self.stack.append(item)\n",
        "    def pop(self):\n",
        "        if len(self.stack) > 0:\n",
        "            return self.stack.pop()\n",
        "        else:\n",
        "            return None\n",
        "    def peek(self):\n",
        "        if len(self.stack) > 0:\n",
        "            return self.stack[len(self.stack)-1]\n",
        "        else:\n",
        "            return None\n",
        "    def __str__(self):\n",
        "        return str(self.stack)"
      ]
    },
    {
      "cell_type": "markdown",
      "metadata": {
        "id": "k42hd9ygwUEX"
      },
      "source": [
        "### Test Code for Stack Wrapper Class"
      ]
    },
    {
      "cell_type": "code",
      "execution_count": null,
      "metadata": {
        "id": "RVFxNTeRwUEX",
        "outputId": "7d7e30e2-e78f-4ef8-e5bf-272560809876"
      },
      "outputs": [
        {
          "name": "stdout",
          "output_type": "stream",
          "text": [
            "[1, 3]\n",
            "3\n",
            "1\n",
            "1\n",
            "None\n"
          ]
        }
      ],
      "source": [
        "my_stack = Stack()\n",
        "my_stack.push(1)\n",
        "my_stack.push(3)\n",
        "print(my_stack)\n",
        "print(my_stack.pop())\n",
        "print(my_stack.peek())\n",
        "print(my_stack.pop())\n",
        "print(my_stack.pop())"
      ]
    },
    {
      "cell_type": "markdown",
      "metadata": {
        "id": "g8ivoUQ0wUEX"
      },
      "source": [
        "---\n",
        "### Queue using Python Deque\n",
        "Queue is a FIFO data structure -- first-in, first-out.  \n",
        "Deque is a double-ended queue, but we can use it for our queue.  \n",
        "We use append() to enqueue an item, and popleft() to dequeue an item.  \n",
        "See [Python docs](https://docs.python.org/3/library/collections.html#collections.deque) for deque."
      ]
    },
    {
      "cell_type": "code",
      "execution_count": null,
      "metadata": {
        "id": "ZdqqguTDwUEX",
        "outputId": "85ee7033-e5ed-4f97-c3b7-b8a322f822b0"
      },
      "outputs": [
        {
          "name": "stdout",
          "output_type": "stream",
          "text": [
            "deque([5, 10])\n",
            "5\n"
          ]
        }
      ],
      "source": [
        "from collections import deque\n",
        "my_queue = deque()\n",
        "my_queue.append(5)\n",
        "my_queue.append(10)\n",
        "print(my_queue)\n",
        "print(my_queue.popleft())"
      ]
    },
    {
      "cell_type": "markdown",
      "metadata": {
        "id": "nC_7ss2lwUEX"
      },
      "source": [
        "### Fun exercise:\n",
        "Write a wrapper class for the Queue class, similar to what we did for Stack, but using Python deque.  \n",
        "Try adding enqueue, dequeue, and get_size methods."
      ]
    },
    {
      "cell_type": "markdown",
      "metadata": {
        "id": "o22mPle1wUEX"
      },
      "source": [
        "### Python Single-ended Queue Wrapper Class using Deque\n",
        "We rename the append method to enqueue, and popleft to dequeue.  \n",
        "We also add peek and get_size operations."
      ]
    },
    {
      "cell_type": "code",
      "execution_count": null,
      "metadata": {
        "id": "Epw98FItwUEY"
      },
      "outputs": [],
      "source": [
        "from collections import deque\n",
        "class Queue():\n",
        "    def __init__(self):\n",
        "        self.queue = deque()\n",
        "        self.size = 0\n",
        "    def enqueue(self, item):\n",
        "        self.queue.append(item)\n",
        "        self.size += 1\n",
        "    def dequeue(self, item):\n",
        "        if self.size > 0:\n",
        "            self.size -= 1\n",
        "            return self.queue.popleft()\n",
        "        else:\n",
        "            return None\n",
        "    def peek(self):\n",
        "        if self.size > 0:\n",
        "            ret_val = self.queue.popleft()\n",
        "            queue.appendleft(ret_val)\n",
        "            return ret_val\n",
        "        else:\n",
        "            return None\n",
        "    def get_size(self):\n",
        "        return self.size"
      ]
    },
    {
      "cell_type": "markdown",
      "metadata": {
        "id": "U3_g4uTswUEY"
      },
      "source": [
        "### Python MaxHeap\n",
        "A MaxHeap always bubbles the highest value to the top, so it can be removed instantly.  \n",
        "Public functions: push, peek, pop  \n",
        "Private functions: __swap, __floatUp, __bubbleDown, __str__."
      ]
    },
    {
      "cell_type": "code",
      "execution_count": null,
      "metadata": {
        "id": "OKIwJ9OuwUEY"
      },
      "outputs": [],
      "source": [
        "class MaxHeap:\n",
        "    def __init__(self, items=[]):\n",
        "        super().__init__()\n",
        "        self.heap = [0]\n",
        "        for item in items:\n",
        "            self.heap.append(item)\n",
        "            self.__floatUp(len(self.heap) - 1)\n",
        "\n",
        "    def push(self, data):\n",
        "        self.heap.append(data)\n",
        "        self.__floatUp(len(self.heap) - 1)\n",
        "\n",
        "    def peek(self):\n",
        "        if self.heap[1]:\n",
        "            return self.heap[1]\n",
        "        else:\n",
        "            return False\n",
        "\n",
        "    def pop(self):\n",
        "        if len(self.heap) > 2:\n",
        "            self.__swap(1, len(self.heap) - 1)\n",
        "            max = self.heap.pop()\n",
        "            self.__bubbleDown(1)\n",
        "        elif len(self.heap) == 2:\n",
        "            max = self.heap.pop()\n",
        "        else:\n",
        "            max = False\n",
        "        return max\n",
        "\n",
        "    def __swap(self, i, j):\n",
        "        self.heap[i], self.heap[j] = self.heap[j], self.heap[i]\n",
        "\n",
        "    def __floatUp(self, index):\n",
        "        parent = index//2\n",
        "        if index <= 1:\n",
        "            return\n",
        "        elif self.heap[index] > self.heap[parent]:\n",
        "            self.__swap(index, parent)\n",
        "            self.__floatUp(parent)\n",
        "\n",
        "    def __bubbleDown(self, index):\n",
        "        left = index * 2\n",
        "        right = index * 2 + 1\n",
        "        largest = index\n",
        "        if len(self.heap) > left and self.heap[largest] < self.heap[left]:\n",
        "            largest = left\n",
        "        if len(self.heap) > right and self.heap[largest] < self.heap[right]:\n",
        "            largest = right\n",
        "        if largest != index:\n",
        "            self.__swap(index, largest)\n",
        "            self.__bubbleDown(largest)\n",
        "\n",
        "    def __str__(self):\n",
        "        return str(self.heap)"
      ]
    },
    {
      "cell_type": "markdown",
      "metadata": {
        "id": "Dgi3O7glwUEY"
      },
      "source": [
        "### MaxHeap Test Code"
      ]
    },
    {
      "cell_type": "code",
      "execution_count": null,
      "metadata": {
        "id": "FkpCDdvtwUEY",
        "outputId": "0be3e69f-e85b-4b8b-c7fc-9d9049c7be5d"
      },
      "outputs": [
        {
          "name": "stdout",
          "output_type": "stream",
          "text": [
            "[0, 95, 10, 21, 3]\n",
            "95\n",
            "21\n"
          ]
        }
      ],
      "source": [
        "m = MaxHeap([95, 3, 21])\n",
        "m.push(10)\n",
        "print(m)\n",
        "print(m.pop())\n",
        "print(m.peek())"
      ]
    },
    {
      "cell_type": "code",
      "execution_count": null,
      "metadata": {
        "id": "MupVAWvkwUEY"
      },
      "outputs": [],
      "source": []
    }
  ],
  "metadata": {
    "kernelspec": {
      "display_name": "Python 3",
      "language": "python",
      "name": "python3"
    },
    "language_info": {
      "codemirror_mode": {
        "name": "ipython",
        "version": 3
      },
      "file_extension": ".py",
      "mimetype": "text/x-python",
      "name": "python",
      "nbconvert_exporter": "python",
      "pygments_lexer": "ipython3",
      "version": "3.7.0"
    },
    "colab": {
      "provenance": []
    }
  },
  "nbformat": 4,
  "nbformat_minor": 0
}