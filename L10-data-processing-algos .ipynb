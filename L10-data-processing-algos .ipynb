{
  "nbformat": 4,
  "nbformat_minor": 0,
  "metadata": {
    "colab": {
      "provenance": []
    },
    "kernelspec": {
      "name": "python3",
      "display_name": "Python 3"
    },
    "language_info": {
      "name": "python"
    }
  },
  "cells": [
    {
      "cell_type": "markdown",
      "source": [
        "# \"Drunk\" game solution:"
      ],
      "metadata": {
        "id": "4yrQ0upn5Un_"
      }
    },
    {
      "cell_type": "code",
      "source": [
        "fir = list(map(int, input().split()))\n",
        "sec = list(map(int, input().split()))\n",
        "k = 0\n",
        "\n",
        "while len(fir) != 0 and len(sec) != 0 and k < 10**6:\n",
        "    k += 1\n",
        "    fir_card = fir.pop(0)\n",
        "    sec_card = sec.pop(0)\n",
        "\n",
        "    if (fir_card == 0 and sec_card == 9):\n",
        "        fir.append(fir_card)\n",
        "        fir.append(sec_card)\n",
        "    elif (fir_card == 9 and sec_card == 0):\n",
        "        sec.append(fir_card)\n",
        "        sec.append(sec_card)\n",
        "    elif fir_card > sec_card:\n",
        "        fir.append(fir_card)\n",
        "        fir.append(sec_card)\n",
        "    elif fir_card < sec_card:\n",
        "        sec.append(fir_card)\n",
        "        sec.append(sec_card)\n",
        "\n",
        "if len(fir) == 0:\n",
        "    print('second', k)\n",
        "elif len(sec) == 0:\n",
        "    print('first', k)\n",
        "else:\n",
        "    print('botva')"
      ],
      "metadata": {
        "id": "3TCi-KlI5PGr"
      },
      "execution_count": null,
      "outputs": []
    },
    {
      "cell_type": "markdown",
      "source": [
        "# Orcs (deque)\n",
        "\n",
        "Let's start with problem from the workshop."
      ],
      "metadata": {
        "id": "8KCpobnjJjwO"
      }
    },
    {
      "cell_type": "markdown",
      "source": [
        "deque is good for appending and deleting both from the start and the end of the data structure"
      ],
      "metadata": {
        "id": "LhuLp3cg57DM"
      }
    },
    {
      "cell_type": "markdown",
      "source": [
        "The orcs of the Raven Mountains love visiting their shamans. Due to the large number of orcs, long queues often form at the shamans' places. Since a lot of orcs in one place quickly lead to brawls, which hinder the shamans from performing complex medical procedures, the shamans have decided to establish some rules regarding the order in the queue.\n",
        "\n",
        "Regular orcs, when visiting the shamans, must stand at the end of the queue. Orc commanders, who know a special password, stand exactly in the middle of the queue, and if the queue length is odd, they stand immediately after the center.\n",
        "\n",
        "Since orcs are also well-known for their respectful attitude towards all sorts of rules and laws, the shamans have asked you to write a program that would track the order of orcs in the queue.\n",
        "\n",
        "### Input Format\n",
        "\n",
        "The first line of the input contains the number N (1 <= N <= 10^5) - the number of requests to the program. The following N lines contain the descriptions of the requests in the format:\n",
        "\n",
        "- `+ i` - Orc with number i (1 <= i <= N) stands at the end of the queue.\n",
        "- `* i` - Orc commander with number i stands in the middle of the queue.\n",
        "- `-` - the first orc in the queue goes to the shamans. It is guaranteed that the queue is not empty at the moment of such a request.\n",
        "\n",
        "### Output Format\n",
        "\n",
        "Print the orcs in the order in which they go to the shaman."
      ],
      "metadata": {
        "id": "L_ppX4SJJZ4v"
      }
    },
    {
      "cell_type": "code",
      "execution_count": null,
      "metadata": {
        "id": "bxYPRmZlH1Bq",
        "colab": {
          "base_uri": "https://localhost:8080/"
        },
        "outputId": "73c144ef-ced9-4cb4-f102-828d7c0127bf"
      },
      "outputs": [
        {
          "name": "stdout",
          "output_type": "stream",
          "text": [
            "10 + 1 + 2 * 3 - + 4 * 5 - - - -\n"
          ]
        }
      ],
      "source": [
        "from collections import deque\n",
        "\n",
        "n = int(input())\n",
        "queue = deque()\n",
        "extra = deque()\n",
        "orcs_in_the_real_queue = 0\n",
        "orcs_in_the_extra_queue = 0\n",
        "\n",
        "for _ in range(n):\n",
        "  query = input().split()\n",
        "  if query[0] == '+':\n",
        "    print('Adding an orc to the end: ', query[1])\n",
        "    extra.append(query[1]) # append right in simple case\n",
        "    print('Extra queue status: ', extra)\n",
        "    orcs_in_the_extra_queue += 1\n",
        "    print('orcs_in_the_extra_queue on adding: ', orcs_in_the_extra_queue)\n",
        "    print('orcs_in_the_real_queue on adding: ', orcs_in_the_real_queue)\n",
        "  elif query[0] == \"-\":\n",
        "    print('Deleting from the real queue: ', queue.popleft())\n",
        "    # print(queue.popleft())\n",
        "    orcs_in_the_real_queue -= 1\n",
        "    print('Removing from the real queue: ', queue)\n",
        "    print('orcs_in_the_extra_queue on removing: ', orcs_in_the_extra_queue)\n",
        "    print('orcs_in_the_real_queue on removing: ', orcs_in_the_real_queue)\n",
        "  else: # *i -- middle case\n",
        "    print('Adding an orc to the middle: ', query[1])\n",
        "    extra.appendleft(query[1]) # append left instead of inserting into the middle\n",
        "    print('Extra queue status: ', extra)\n",
        "    orcs_in_the_extra_queue += 1\n",
        "    print('orcs_in_the_extra_queue on adding: ', orcs_in_the_extra_queue)\n",
        "    print('orcs_in_the_real_queue on adding: ', orcs_in_the_real_queue)\n",
        "  if orcs_in_the_real_queue < orcs_in_the_extra_queue:\n",
        "    queue.append(extra.popleft()) # put the orcs in the right order\n",
        "    print('Updating the real queue: ', queue)\n",
        "    print('Status of the extra queue: ', extra)\n",
        "    orcs_in_the_real_queue += 1\n",
        "    orcs_in_the_extra_queue -= 1\n",
        "    print('orcs_in_the_extra_queue on update of the real queue: ', orcs_in_the_extra_queue)\n",
        "    print('orcs_in_the_real_queue on update of the real queue: ', orcs_in_the_real_queue)"
      ]
    },
    {
      "cell_type": "markdown",
      "source": [
        "# Prefix sum"
      ],
      "metadata": {
        "id": "S9JU4bFqKLSe"
      }
    },
    {
      "cell_type": "markdown",
      "source": [
        "We are given an array, find prefix sums of given array. Examples:\n",
        "\n",
        "Input : arr = [1, 2, 3]\n",
        "Output : sum = [1, 3, 6]\n",
        "\n",
        "Input : arr = [4, 6, 12]\n",
        "Output : sum = [4, 10, 22]\n",
        "\n",
        "A prefix sum is a sequence of partial sums of a given sequence. For example, the cumulative sums of the sequence {a, b, c, …} are a, a+b, a+b+c and so on. We can solve this problem in python quickly using accumulate(iterable) method.\n",
        "\n",
        "Implementation:"
      ],
      "metadata": {
        "id": "wjD9QlFQKUDC"
      }
    },
    {
      "cell_type": "code",
      "source": [
        "from itertools import accumulate\n",
        "\n",
        "def cumulativeSum(input):\n",
        "    print (\"Sum :\", list(accumulate(input)))"
      ],
      "metadata": {
        "id": "qaPa4qRoKg1Z"
      },
      "execution_count": 1,
      "outputs": []
    },
    {
      "cell_type": "code",
      "source": [
        "input = [4, 6, 12, 18, 20, 10]\n",
        "cumulativeSum(input)"
      ],
      "metadata": {
        "id": "FHXAqCFKKiBI",
        "colab": {
          "base_uri": "https://localhost:8080/"
        },
        "outputId": "102dba77-0e4a-49c6-c6f4-de5567bc1bf1"
      },
      "execution_count": 3,
      "outputs": [
        {
          "output_type": "stream",
          "name": "stdout",
          "text": [
            "Sum : [4, 10, 22, 40, 60, 70]\n"
          ]
        }
      ]
    },
    {
      "cell_type": "markdown",
      "source": [
        "The time complexity of this cumulativeSum function is O(n), where n is the length of the input array.\n",
        "\n",
        "The auxiliary space complexity of this function is also O(n), where n is the length of the input array."
      ],
      "metadata": {
        "id": "HyX9lngsKiiK"
      }
    },
    {
      "cell_type": "markdown",
      "source": [
        "Without accumulate:"
      ],
      "metadata": {
        "id": "qxotSSa4Kk2i"
      }
    },
    {
      "cell_type": "code",
      "source": [
        "# Fills prefix sum array\n",
        "def fillPrefixSum(arr, n, prefixSum):\n",
        "\tprefixSum[0] = arr[0]\n",
        "\n",
        "\t# Adding present element with previous element\n",
        "\tfor i in range(1, n):\n",
        "\t\tprefixSum[i] = prefixSum[i - 1] + arr[i]\n"
      ],
      "metadata": {
        "id": "oGQuLqnOKlSX"
      },
      "execution_count": 4,
      "outputs": []
    },
    {
      "cell_type": "code",
      "source": [
        "arr = [10, 4, 16, 20]\n",
        "n = len(arr)\n",
        "prefixSum = [0] * n\n",
        "\n",
        "fillPrefixSum(arr, n, prefixSum)\n",
        "\n",
        "for i in range(n):\n",
        "\tprint(prefixSum[i], \" \", end=\"\")"
      ],
      "metadata": {
        "id": "4ugPc6eWKpHf",
        "colab": {
          "base_uri": "https://localhost:8080/"
        },
        "outputId": "c5d79951-4465-481a-f2e4-ab231a02b94d"
      },
      "execution_count": 5,
      "outputs": [
        {
          "output_type": "stream",
          "name": "stdout",
          "text": [
            "10  14  30  50  "
          ]
        }
      ]
    },
    {
      "cell_type": "markdown",
      "source": [
        "It is common that you have to create the second array which will contain some recalculation of the 1st array (like this prefix sum array but it could be some other operation)"
      ],
      "metadata": {
        "id": "y6erUKUcIDA4"
      }
    },
    {
      "cell_type": "code",
      "source": [
        "# Fills prefix multiplication array\n",
        "def fillPrefixMult(arr, n, prefixSum):\n",
        "\tprefixSum[0] = arr[0]\n",
        "\n",
        "\t# Adding present element with previous element\n",
        "\tfor i in range(1, n):\n",
        "\t\tprefixSum[i] = prefixSum[i - 1] * arr[i]\n"
      ],
      "metadata": {
        "id": "gdX1jqlyIPWM"
      },
      "execution_count": 6,
      "outputs": []
    },
    {
      "cell_type": "code",
      "source": [
        "arr = [10, 4, 16, 20]\n",
        "n = len(arr)\n",
        "prefixSum = [0] * n\n",
        "\n",
        "fillPrefixMult(arr, n, prefixSum)\n",
        "\n",
        "for i in range(n):\n",
        "\tprint(prefixSum[i], \" \", end=\"\")"
      ],
      "metadata": {
        "colab": {
          "base_uri": "https://localhost:8080/"
        },
        "id": "GaSrrkqGIWM4",
        "outputId": "b4d95890-2c87-4fa4-d452-9ad046ee0b84"
      },
      "execution_count": 8,
      "outputs": [
        {
          "output_type": "stream",
          "name": "stdout",
          "text": [
            "10  40  640  12800  "
          ]
        }
      ]
    },
    {
      "cell_type": "markdown",
      "source": [
        "# Maximum segment sum\n",
        "\n",
        "Let's solve one more problem: related to the prefix sum approach"
      ],
      "metadata": {
        "id": "sYNf65QWK1f0"
      }
    },
    {
      "cell_type": "markdown",
      "source": [
        "Given an array of integers, find the subarray with the maximum sum.\n",
        "\n",
        "### Input format\n",
        "\n",
        "The first line contains a natural number n  (1 <= n <= 10^5 ) — the size of the array. The second line lists the elements of the array separated by spaces. The numbers do not exceed 10^4.\n",
        "\n",
        "### Output format\n",
        "\n",
        "Print three numbers — the starting index of the subarray, the ending index, and the maximum sum itself. The array is indexed starting from one. If there are multiple answers, you can output any of them."
      ],
      "metadata": {
        "id": "UakaVKypK4sw"
      }
    },
    {
      "cell_type": "code",
      "source": [
        "# the problem could appear if you are trying to separately check some subarrays.\n",
        "# You should just go through everything and check element by element\n",
        "\n",
        "def max_sum(arr):\n",
        "  max_sum = float('-inf')\n",
        "  s = 0 # start of the subarray\n",
        "  e = 0 # end of the subarray\n",
        "\n",
        "  start = 0\n",
        "  sum = 0\n",
        "  for i, elem in enumerate(arr):\n",
        "    sum += elem\n",
        "    if sum > max_sum:\n",
        "      max_sum = sum\n",
        "      s = start\n",
        "      e = i\n",
        "    if sum < 0:\n",
        "      sum = 0\n",
        "      start = i + 1\n",
        "\n",
        "  return s + 1, e + 1, max_sum\n",
        "\n",
        "\n",
        "n = int(input())\n",
        "arr = list(map(int, input().split()))\n",
        "\n",
        "print(max_sum(arr))"
      ],
      "metadata": {
        "id": "-Va20QLbK69L"
      },
      "execution_count": null,
      "outputs": []
    }
  ]
}