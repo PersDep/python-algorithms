{
  "cells": [
    {
      "cell_type": "markdown",
      "metadata": {
        "collapsed": false,
        "id": "qrN7lJzWDI6V"
      },
      "source": [
        "## 0. Object oriented programming in Python."
      ]
    },
    {
      "cell_type": "markdown",
      "metadata": {
        "collapsed": false,
        "id": "57byHXhMDI6V"
      },
      "source": [
        "Sometimes, you may need to write a program that you'll run once to solve a particular task. In such cases, anything goes, and you can format the code however you like. But there's another scenario: you need to program something you'll use repeatedly, and others might want to edit the code later. In that case, it's essential to think about proper code structure.\n",
        "\n",
        "In machine learning, the focus is on models, their training, application, quality assessment, and related operations. Let's say you're planning to code the training and application of the k-nearest neighbors method and make it publicly available. Then, it makes sense to demand the following from your code:\n",
        "\n",
        "1. You can improve it without changing its logic, without breaking anything for users. It would be odd if, for example, you replaced loops with vector operations in numpy, published a new version, and any code depending on yours stopped working. After all, the essence of what your code does hasn't changed!\n",
        "2. It's relatively easy to create extended versions of kNN based on your code— for example, implementing weighted kNN.\n",
        "3. Users are shielded from all the details of your implementation— to use your kNN code, they don't need to delve into how you store data, find nearest neighbors, etc. They simply call the necessary functions, and it works.\n",
        "\n",
        "Object-oriented programming (OOP) is an approach to organizing code that is probably best suited for structuring machine learning operations. It is based on classes and objects, as well as three important properties: encapsulation, inheritance, and polymorphism. Below, we'll delve into all of this.\n",
        "\n",
        "A programmer can create a class, a kind of blueprint, that will define the behavior of objects of this class: what data they can store and what code to execute. After that, objects of the class with the expected behavior can be created.\n",
        "\n",
        "You can delve into the formal definitions of OOP [on Wikipedia](https://en.wikipedia.org/wiki/Object-oriented_programming).\n",
        "\n",
        "🥧\n",
        "PIE: Polymorphism Inheritance Encapsulation\n",
        "\n",
        "Object is just a set of functions and data (variables)\n"
      ]
    },
    {
      "cell_type": "code",
      "source": [
        "int.mro() # mro is method resolution order"
      ],
      "metadata": {
        "colab": {
          "base_uri": "https://localhost:8080/"
        },
        "id": "SO5ONSoTDNjn",
        "outputId": "fae4ddf8-bb39-48a2-cb8d-0457138d1c99"
      },
      "execution_count": 10,
      "outputs": [
        {
          "output_type": "execute_result",
          "data": {
            "text/plain": [
              "[int, object]"
            ]
          },
          "metadata": {},
          "execution_count": 10
        }
      ]
    },
    {
      "cell_type": "code",
      "source": [
        "list.mro()"
      ],
      "metadata": {
        "colab": {
          "base_uri": "https://localhost:8080/"
        },
        "id": "JUDq-ih-Dd4E",
        "outputId": "2263fa86-158d-48a0-ccc0-57cb1f3f6e5d"
      },
      "execution_count": 11,
      "outputs": [
        {
          "output_type": "execute_result",
          "data": {
            "text/plain": [
              "[list, object]"
            ]
          },
          "metadata": {},
          "execution_count": 11
        }
      ]
    },
    {
      "cell_type": "code",
      "source": [
        "object"
      ],
      "metadata": {
        "colab": {
          "base_uri": "https://localhost:8080/"
        },
        "id": "rTVy6weqCoL9",
        "outputId": "fc9b731c-5828-4378-f99c-ae6e7ca6db8c"
      },
      "execution_count": 1,
      "outputs": [
        {
          "output_type": "execute_result",
          "data": {
            "text/plain": [
              "object"
            ]
          },
          "metadata": {},
          "execution_count": 1
        }
      ]
    },
    {
      "cell_type": "code",
      "source": [
        "print(object)"
      ],
      "metadata": {
        "colab": {
          "base_uri": "https://localhost:8080/"
        },
        "id": "A3RGYySRCpuG",
        "outputId": "42389fb9-d8f5-43c4-ca64-f39758354078"
      },
      "execution_count": 2,
      "outputs": [
        {
          "output_type": "stream",
          "name": "stdout",
          "text": [
            "<class 'object'>\n"
          ]
        }
      ]
    },
    {
      "cell_type": "code",
      "source": [
        "object"
      ],
      "metadata": {
        "colab": {
          "base_uri": "https://localhost:8080/"
        },
        "id": "2fILZy--C1b2",
        "outputId": "aa1dc3fb-f318-4177-8f96-1c825bb84379"
      },
      "execution_count": 5,
      "outputs": [
        {
          "output_type": "execute_result",
          "data": {
            "text/plain": [
              "object"
            ]
          },
          "metadata": {},
          "execution_count": 5
        }
      ]
    },
    {
      "cell_type": "code",
      "source": [
        "type(object)"
      ],
      "metadata": {
        "colab": {
          "base_uri": "https://localhost:8080/"
        },
        "id": "BFLuMxC1Cr5p",
        "outputId": "f7d43ecc-b463-4876-b99d-339ecfe9dc74"
      },
      "execution_count": 3,
      "outputs": [
        {
          "output_type": "execute_result",
          "data": {
            "text/plain": [
              "type"
            ]
          },
          "metadata": {},
          "execution_count": 3
        }
      ]
    },
    {
      "cell_type": "code",
      "source": [
        "object.__dir__(object)"
      ],
      "metadata": {
        "colab": {
          "base_uri": "https://localhost:8080/"
        },
        "id": "y6COXxZCDCyh",
        "outputId": "6c83f0a6-24fb-46c1-99f5-7e4b2aa96e9e"
      },
      "execution_count": 8,
      "outputs": [
        {
          "output_type": "execute_result",
          "data": {
            "text/plain": [
              "['__new__',\n",
              " '__repr__',\n",
              " '__call__',\n",
              " '__getattribute__',\n",
              " '__setattr__',\n",
              " '__delattr__',\n",
              " '__init__',\n",
              " '__or__',\n",
              " '__ror__',\n",
              " 'mro',\n",
              " '__subclasses__',\n",
              " '__prepare__',\n",
              " '__instancecheck__',\n",
              " '__subclasscheck__',\n",
              " '__dir__',\n",
              " '__sizeof__',\n",
              " '__basicsize__',\n",
              " '__itemsize__',\n",
              " '__flags__',\n",
              " '__weakrefoffset__',\n",
              " '__base__',\n",
              " '__dictoffset__',\n",
              " '__mro__',\n",
              " '__name__',\n",
              " '__qualname__',\n",
              " '__bases__',\n",
              " '__module__',\n",
              " '__abstractmethods__',\n",
              " '__dict__',\n",
              " '__doc__',\n",
              " '__text_signature__',\n",
              " '__annotations__',\n",
              " '__hash__',\n",
              " '__str__',\n",
              " '__lt__',\n",
              " '__le__',\n",
              " '__eq__',\n",
              " '__ne__',\n",
              " '__gt__',\n",
              " '__ge__',\n",
              " '__reduce_ex__',\n",
              " '__reduce__',\n",
              " '__subclasshook__',\n",
              " '__init_subclass__',\n",
              " '__format__',\n",
              " '__class__']"
            ]
          },
          "metadata": {},
          "execution_count": 8
        }
      ]
    },
    {
      "cell_type": "code",
      "source": [
        "vars(object)"
      ],
      "metadata": {
        "colab": {
          "base_uri": "https://localhost:8080/"
        },
        "id": "wOF0iwaZCwt1",
        "outputId": "f39bb5a5-77e7-4750-841c-114871434a94"
      },
      "execution_count": 4,
      "outputs": [
        {
          "output_type": "execute_result",
          "data": {
            "text/plain": [
              "mappingproxy({'__new__': <function object.__new__(*args, **kwargs)>,\n",
              "              '__repr__': <slot wrapper '__repr__' of 'object' objects>,\n",
              "              '__hash__': <slot wrapper '__hash__' of 'object' objects>,\n",
              "              '__str__': <slot wrapper '__str__' of 'object' objects>,\n",
              "              '__getattribute__': <slot wrapper '__getattribute__' of 'object' objects>,\n",
              "              '__setattr__': <slot wrapper '__setattr__' of 'object' objects>,\n",
              "              '__delattr__': <slot wrapper '__delattr__' of 'object' objects>,\n",
              "              '__lt__': <slot wrapper '__lt__' of 'object' objects>,\n",
              "              '__le__': <slot wrapper '__le__' of 'object' objects>,\n",
              "              '__eq__': <slot wrapper '__eq__' of 'object' objects>,\n",
              "              '__ne__': <slot wrapper '__ne__' of 'object' objects>,\n",
              "              '__gt__': <slot wrapper '__gt__' of 'object' objects>,\n",
              "              '__ge__': <slot wrapper '__ge__' of 'object' objects>,\n",
              "              '__init__': <slot wrapper '__init__' of 'object' objects>,\n",
              "              '__reduce_ex__': <method '__reduce_ex__' of 'object' objects>,\n",
              "              '__reduce__': <method '__reduce__' of 'object' objects>,\n",
              "              '__subclasshook__': <method '__subclasshook__' of 'object' objects>,\n",
              "              '__init_subclass__': <method '__init_subclass__' of 'object' objects>,\n",
              "              '__format__': <method '__format__' of 'object' objects>,\n",
              "              '__sizeof__': <method '__sizeof__' of 'object' objects>,\n",
              "              '__dir__': <method '__dir__' of 'object' objects>,\n",
              "              '__class__': <attribute '__class__' of 'object' objects>,\n",
              "              '__doc__': 'The base class of the class hierarchy.\\n\\nWhen called, it accepts no arguments and returns a new featureless\\ninstance that has no instance attributes and cannot be given any.\\n'})"
            ]
          },
          "metadata": {},
          "execution_count": 4
        }
      ]
    },
    {
      "cell_type": "markdown",
      "metadata": {
        "collapsed": false,
        "id": "S9rhmW7rDI6W"
      },
      "source": [
        "Table of Contents:\n",
        "* [Creating a Class](#Creating-a-Class)\n",
        "* [Methods](#Methods)\n",
        "* [Class Attributes and the `__init__` Method](#Class-Attributes-and-the-__init__-Method)\n",
        "* [Magic Methods](#Magic-Methods)\n",
        "* [Copying](#Copying)\n",
        "* [Getter, Setter](#Getter,-Setter)\n",
        "* [`@staticmethod`](#@staticmethod)\n",
        "* [`@classmethod`](#@classmethod)\n",
        "* [Inheritance, `super()`](#Inheritance,-super())\n",
        "* [ABC — Abstract Base Classes](#ABC-—-Abstract-Base-Classes)\n",
        "* [Dataclasses](#Dataclasses)\n",
        "\n",
        "<a name=\"introduction\"></a>"
      ]
    },
    {
      "cell_type": "markdown",
      "metadata": {
        "collapsed": false,
        "id": "2CIa0wejDI6W"
      },
      "source": [
        "### Creating a class"
      ]
    },
    {
      "cell_type": "markdown",
      "metadata": {
        "collapsed": false,
        "id": "zKeAbgxwDI6W"
      },
      "source": [
        "In Python, a class is created using a special construct `class`. An instance (object) of the class is created by calling the class with parentheses."
      ]
    },
    {
      "cell_type": "code",
      "execution_count": 12,
      "metadata": {
        "colab": {
          "base_uri": "https://localhost:8080/"
        },
        "id": "79i_EYnmDI6W",
        "outputId": "7a838fdf-0e60-4905-f8be-ab0663fc61ca",
        "pycharm": {
          "name": "#%%\n"
        }
      },
      "outputs": [
        {
          "output_type": "execute_result",
          "data": {
            "text/plain": [
              "<__main__.DummyClass at 0x152d54cc850>"
            ]
          },
          "metadata": {},
          "execution_count": 12
        }
      ],
      "source": [
        "class DummyClass:\n",
        "    pass\n",
        "\n",
        "\n",
        "dummy_object = DummyClass()\n",
        "\n",
        "dummy_object"
      ]
    },
    {
      "cell_type": "code",
      "execution_count": 13,
      "metadata": {
        "colab": {
          "base_uri": "https://localhost:8080/"
        },
        "id": "6nwBilljDI6X",
        "outputId": "8a207310-016b-40fd-9858-f7e515e767a8",
        "pycharm": {
          "name": "#%%\n"
        }
      },
      "outputs": [
        {
          "output_type": "execute_result",
          "data": {
            "text/plain": [
              "mappingproxy({'__module__': '__main__',\n",
              "              '__dict__': <attribute '__dict__' of 'DummyClass' objects>,\n",
              "              '__weakref__': <attribute '__weakref__' of 'DummyClass' objects>,\n",
              "              '__doc__': None})"
            ]
          },
          "metadata": {},
          "execution_count": 13
        }
      ],
      "source": [
        "import math\n",
        "vars(DummyClass)"
      ]
    },
    {
      "cell_type": "code",
      "source": [
        "DummyClass.mro()"
      ],
      "metadata": {
        "colab": {
          "base_uri": "https://localhost:8080/"
        },
        "id": "NrtbwafAEZAd",
        "outputId": "ee90118c-0949-478e-c7b9-9d0a2abb9705"
      },
      "execution_count": 14,
      "outputs": [
        {
          "output_type": "execute_result",
          "data": {
            "text/plain": [
              "[__main__.DummyClass, object]"
            ]
          },
          "metadata": {},
          "execution_count": 14
        }
      ]
    },
    {
      "cell_type": "markdown",
      "metadata": {
        "collapsed": false,
        "id": "DyCg5UmdDI6X"
      },
      "source": [
        "Class names should be written in CamelCase, names for functions/objects/variables shoud be written in snake_case."
      ]
    },
    {
      "cell_type": "markdown",
      "metadata": {
        "collapsed": false,
        "id": "-iCFJYh0DI6X"
      },
      "source": [
        "### Methods\n"
      ]
    },
    {
      "cell_type": "markdown",
      "metadata": {
        "collapsed": false,
        "id": "ReOX6JVeDI6X"
      },
      "source": [
        "Classes can define functions that can be called from their objects. Such functions are called methods. In almost any method, the first argument is `self`. It will receive the object itself from which the method is called.\n",
        "\n",
        "Our class isn't particularly useful because it doesn't do anything. Let's write a class with a method. Methods are called using the dot operator."
      ]
    },
    {
      "cell_type": "code",
      "execution_count": 4,
      "metadata": {
        "colab": {
          "base_uri": "https://localhost:8080/"
        },
        "id": "uIe4LRcPDI6X",
        "outputId": "cccad8e1-4507-4b35-879c-02cdbcd0ccca",
        "pycharm": {
          "name": "#%%\n"
        }
      },
      "outputs": [
        {
          "output_type": "stream",
          "name": "stdout",
          "text": [
            "\n",
            "░░░░░▄▀▀▀▄░░░░░░░░\n",
            "▄███▀░◐░░░▌░░░░░░░\n",
            "░░░░▌░░░░░▐░░░░░░░\n",
            "░░░░▐░░░░░▐░░░░░░░\n",
            "░░░░▌░░░░░▐▄▄░░░░░\n",
            "░░░░▌░░░░▄▀▒▒▀▀▀▀▄\n",
            "░░░▐░░░░▐▒▒▒▒▒▒▒▒▀▀▄\n",
            "░░░▐░░░░▐▄▒▒▒▒▒▒▒▒▒▒▀▄\n",
            "░░░░▀▄░░░░▀▄▒▒▒▒▒▒▒▒▒▒▀▄\n",
            "░░░░░░▀▄▄▄▄▄█▄▄▄▄▄▄▄▄▄▄▄▀▄\n",
            "░░░░░░░░░░░▌▌▌▌░░░░░\n",
            "░░░░░░░░░░░▌▌░▌▌░░░░░\n",
            "░░░░░░░░░▄▄▌▌▄▌▌░░░░░\n"
          ]
        }
      ],
      "source": [
        "GOOSE = \"\"\"\n",
        "░░░░░▄▀▀▀▄░░░░░░░░\n",
        "▄███▀░◐░░░▌░░░░░░░\n",
        "░░░░▌░░░░░▐░░░░░░░\n",
        "░░░░▐░░░░░▐░░░░░░░\n",
        "░░░░▌░░░░░▐▄▄░░░░░\n",
        "░░░░▌░░░░▄▀▒▒▀▀▀▀▄\n",
        "░░░▐░░░░▐▒▒▒▒▒▒▒▒▀▀▄\n",
        "░░░▐░░░░▐▄▒▒▒▒▒▒▒▒▒▒▀▄\n",
        "░░░░▀▄░░░░▀▄▒▒▒▒▒▒▒▒▒▒▀▄\n",
        "░░░░░░▀▄▄▄▄▄█▄▄▄▄▄▄▄▄▄▄▄▀▄\n",
        "░░░░░░░░░░░▌▌▌▌░░░░░\n",
        "░░░░░░░░░░░▌▌░▌▌░░░░░\n",
        "░░░░░░░░░▄▄▌▌▄▌▌░░░░░\"\"\"\n",
        "\n",
        "class GoosePrinter:\n",
        "    GOOSE = 'goose'\n",
        "    def print_goose(self) -> None: # None is return value\n",
        "        print(GOOSE)\n",
        "\n",
        "\n",
        "goose_printer = GoosePrinter()\n",
        "\n",
        "goose_printer.print_goose()\n",
        "\n",
        "# GoosePrinter.print_goose()"
      ]
    },
    {
      "cell_type": "code",
      "execution_count": null,
      "metadata": {
        "id": "WJeeqPgiDI6Y",
        "pycharm": {
          "name": "#%%\n"
        }
      },
      "outputs": [],
      "source": [
        "vars(GoosePrinter)"
      ]
    },
    {
      "cell_type": "markdown",
      "metadata": {
        "collapsed": false,
        "id": "t2qmFba2DI6Y"
      },
      "source": [
        "Attention: we have called the functions without agruments, although it has `self` asrgument in signature. `self` is being passed \"automatically\"."
      ]
    },
    {
      "cell_type": "markdown",
      "metadata": {
        "collapsed": false,
        "id": "E21HgeRADI6Y"
      },
      "source": [
        "**NB:** this argument may be called by any name, doesn't have to be `self`. But it is much better to use default names which are easy to understand."
      ]
    },
    {
      "cell_type": "markdown",
      "metadata": {
        "collapsed": false,
        "id": "p_jqonyODI6Y"
      },
      "source": [
        "### Class attributes and `__init__` method\n"
      ]
    },
    {
      "cell_type": "markdown",
      "metadata": {
        "collapsed": false,
        "id": "vZVJPZcIDI6Y"
      },
      "source": [
        "In addition to methods, class objects can have attributes — variables. They can also be accessed using `.` notation, and inside the class, they can be created using the aforementioned `self`.\n",
        "\n",
        "Any class can define the `__init__` method — the constructor: it is executed when an object of the class is created, and its arguments are passed in parentheses after the class name during creation. Usually, this method is where class attributes are set.\n",
        "\n",
        "Let's write a class for integer points on the plane, objects of which will be able to print their coordinates:"
      ]
    },
    {
      "cell_type": "code",
      "execution_count": 7,
      "metadata": {
        "colab": {
          "base_uri": "https://localhost:8080/"
        },
        "id": "BY3N2D_8DI6Z",
        "outputId": "8c550145-e709-4064-b224-d9b42c0cf307",
        "pycharm": {
          "name": "#%%\n"
        }
      },
      "outputs": [
        {
          "output_type": "stream",
          "name": "stdout",
          "text": [
            "(3, 5)\n",
            "{'x': 3, 'y': 5}\n",
            "<__main__.Point2D object at 0x7a0686912e90>\n"
          ]
        },
        {
          "output_type": "execute_result",
          "data": {
            "text/plain": [
              "<__main__.Point2D at 0x7a0686912e90>"
            ]
          },
          "metadata": {},
          "execution_count": 7
        }
      ],
      "source": [
        "class Point2D:\n",
        "    \"\"\"\n",
        "    A point in 2D space\n",
        "    :param x: x coordinate\n",
        "    :param y: y coordinate\n",
        "    \"\"\"\n",
        "    def __init__(self, x: int, y: int) -> None:\n",
        "        # Creating attributes\n",
        "        self.x = x\n",
        "        self.y = y\n",
        "\n",
        "    def print_coords(self) -> None:\n",
        "        print(f\"({self.x}, {self.y})\")\n",
        "\n",
        "    def first_coord(self) -> int:\n",
        "        return self.n\n",
        "\n",
        "\n",
        "point = Point2D(3, 5)\n",
        "point.print_coords()\n",
        "\n",
        "print(vars(point))\n",
        "\n",
        "point.x\n",
        "\n",
        "del point.x\n",
        "\n",
        "# point.print_coords()\n",
        "\n",
        "point.n = 10\n",
        "\n",
        "point.first_coord()\n",
        "\n",
        "print(point)\n",
        "\n",
        "point"
      ]
    },
    {
      "cell_type": "markdown",
      "metadata": {
        "collapsed": false,
        "id": "mkSztPH2DI6Z"
      },
      "source": [
        "We set the coordinates in the constructor by assigning them to `self` using the dot notation, and then we can use them in the method."
      ]
    },
    {
      "cell_type": "markdown",
      "metadata": {
        "collapsed": false,
        "id": "AgksAiRIDI6Z"
      },
      "source": [
        "### \"Magic\" methods"
      ]
    },
    {
      "cell_type": "markdown",
      "metadata": {
        "collapsed": false,
        "id": "42aEngaBDI6Z"
      },
      "source": [
        "In Python, classes can have so-called magic methods. These are methods that a class can define to enable it to act in a certain way. Usually, they are not called directly.\n",
        "\n",
        "All magic methods are distinguished by their names starting and ending with double underscores (`__method__`). We've already encountered one such method — `__init__`, which is called when an object of the class is created. Let's see what other magic methods are available:"
      ]
    },
    {
      "cell_type": "markdown",
      "metadata": {
        "collapsed": false,
        "id": "XHQEELK_DI6a"
      },
      "source": [
        "#### \\_\\_str\\_\\_ и \\_\\_repr\\_\\_ [(docs)](https://docs.python.org/3/reference/datamodel.html#object.__repr__)"
      ]
    },
    {
      "cell_type": "markdown",
      "metadata": {
        "collapsed": false,
        "id": "uwNcaox3DI6a"
      },
      "source": [
        "The `__str__` and `__repr__` methods allow us to add textual descriptions to objects of the class. They return a string describing the object.\n",
        "\n",
        "The `__str__` method should return a string that describes the object in a simple, understandable, and readable way, while the `__repr__` method is more intended for debugging and should return all the information about the object, ideally in executable code format that could be used to create the same object.\n",
        "\n",
        "The `__str__` method is called, for example, when we print the object or use `str` on it (e.g., `str(point)`).\n",
        "The `__repr__` method is called, for example, when we simply output the object in the console or use `repr` on it.\n",
        "If `__str__` is not defined, `__repr__` will play its role by default.\n",
        "\n",
        "Let's get rid of the `print_coords` method and add proper formatting to our points:"
      ]
    },
    {
      "cell_type": "code",
      "execution_count": null,
      "metadata": {
        "id": "emSxWDoPDI6a",
        "pycharm": {
          "name": "#%%\n"
        }
      },
      "outputs": [],
      "source": [
        "# Let's try to print as is\n",
        "print(f\"Ugly output: {Point2D(5, 5)}\")\n",
        "\n",
        "class Point2D:\n",
        "    \"\"\"\n",
        "    A point in 2D space\n",
        "    :param x: x coordinate\n",
        "    :param y: y coordinate\n",
        "    \"\"\"\n",
        "    def __init__(self, x: int, y: int) -> None:\n",
        "        self.x = x\n",
        "        self.y = y\n",
        "\n",
        "    def __repr__(self) -> str:\n",
        "        return f\"Point2D({self.x}, {self.y})\"\n",
        "\n",
        "    def __str__(self) -> str:\n",
        "        return f\"A 2D point with coordinates ({self.x}, {self.y})\"\n",
        "\n",
        "print(str(Point2D(5, 5)))\n",
        "Point2D(3, 4)"
      ]
    },
    {
      "cell_type": "code",
      "execution_count": null,
      "metadata": {
        "id": "fVbzdcZvDI6a",
        "pycharm": {
          "name": "#%%\n"
        }
      },
      "outputs": [],
      "source": [
        "p = Point2D(10, 11)\n",
        "p"
      ]
    },
    {
      "cell_type": "code",
      "execution_count": null,
      "metadata": {
        "id": "uV6iL3PBDI6a",
        "pycharm": {
          "name": "#%%\n"
        }
      },
      "outputs": [],
      "source": [
        "print(p)\n",
        "p + Point2D(1, 1)"
      ]
    },
    {
      "cell_type": "markdown",
      "metadata": {
        "collapsed": false,
        "id": "nSeeQGQ_DI6b"
      },
      "source": [
        "Worth mentioning: `__str__` was called when we had printed an object аnd `__repr__` was called when we trigerred iPython style output (iPython \"prints\" the last object in the cell automatically)"
      ]
    },
    {
      "cell_type": "markdown",
      "metadata": {
        "collapsed": false,
        "id": "HlTeTyJwDI6b"
      },
      "source": [
        "#### \\_\\_add\\_\\_, \\_\\_sub\\_\\_, \\_\\_mul\\_\\_, \\_\\_truediv\\_\\_, etc. [(docs)](https://docs.python.org/3/reference/datamodel.html#emulating-numeric-types)"
      ]
    },
    {
      "cell_type": "markdown",
      "metadata": {
        "collapsed": false,
        "id": "DR7FklQdDI6b"
      },
      "source": [
        "The `__add__`, `__sub__`, `__mul__`, `__truediv__` methods allow us to add functionality for addition, subtraction, multiplication, division, and so on to the class (operators `+`, `-`, `*`, `/`, etc.). They are called on the left operand and applied to the right one, returning the result. Let's teach our points how to be added and subtracted:"
      ]
    },
    {
      "cell_type": "code",
      "execution_count": null,
      "metadata": {
        "id": "BYA5_43VDI6b",
        "pycharm": {
          "name": "#%%\n"
        }
      },
      "outputs": [],
      "source": [
        "class Point2D:\n",
        "    \"\"\"\n",
        "    A point in 2D space\n",
        "    :param x: x coordinate\n",
        "    :param y: y coordinate\n",
        "    \"\"\"\n",
        "    def __init__(self, x: int, y: int) -> None:\n",
        "        self.set_x(x)\n",
        "        self.y = y\n",
        "\n",
        "    def __repr__(self) -> str:\n",
        "        return f\"Point2D({self.x}, {self.y})\"\n",
        "\n",
        "    def __str__(self) -> str:\n",
        "        return f\"A 2D point with coordinates ({self.x}, {self.y})\"\n",
        "\n",
        "    def __add__(self, other: Point2D) -> Point2D:\n",
        "        return Point2D(self.x + other.x, self.y + other.y)\n",
        "\n",
        "    def __sub__(self, other: Point2D) -> Point2D:\n",
        "        return Point2D(self.x - other.x, self.y - other.y)\n",
        "\n",
        "    def set_x(self, value):\n",
        "        self.x = value\n",
        "\n",
        "    def get_x(self):\n",
        "        return self.x\n",
        "\n",
        "print(Point2D(3, 5) + Point2D(4, 7))\n",
        "print(Point2D(3, 5) - Point2D(4, 7))"
      ]
    },
    {
      "cell_type": "markdown",
      "metadata": {
        "collapsed": false,
        "id": "BcHy0-BNDI6c"
      },
      "source": [
        "Each of the aforementioned methods also has a version with an \"i\" at the beginning, responsible for the assignment operation (`__iadd__` — `+=`, `__isub__` — `-=`, etc.).\n",
        "\n",
        "In principle, assignment operations will work without explicitly defining these methods; Python will derive them from the regular operations. However, they won't actually modify the object in-place; instead, they will return a new object and assign it to the variable:"
      ]
    },
    {
      "cell_type": "code",
      "execution_count": null,
      "metadata": {
        "id": "eJHiiwi5DI6c",
        "pycharm": {
          "name": "#%%\n"
        }
      },
      "outputs": [],
      "source": [
        "a = Point2D(3, 3)\n",
        "print(id(a))\n",
        "\n",
        "a += Point2D(1, 1)\n",
        "print(id(a))\n",
        "print(a)"
      ]
    },
    {
      "cell_type": "markdown",
      "metadata": {
        "collapsed": false,
        "id": "rBhIpwPCDI6c"
      },
      "source": [
        "In this case, it's more of the correct behavior, but for practice, let's add these methods to our class:"
      ]
    },
    {
      "cell_type": "code",
      "execution_count": null,
      "metadata": {
        "id": "8RkpFz-CDI6c",
        "pycharm": {
          "name": "#%%\n"
        }
      },
      "outputs": [],
      "source": [
        "class Point2D:\n",
        "    \"\"\"\n",
        "    A point in 2D space\n",
        "    :param x: x coordinate\n",
        "    :param y: y coordinate\n",
        "    \"\"\"\n",
        "    def __init__(self, x: int, y: int) -> None:\n",
        "        self.x = x\n",
        "        self.y = y\n",
        "\n",
        "    def __repr__(self) -> str:\n",
        "        return f\"Point2D({self.x}, {self.y})\"\n",
        "\n",
        "    def __str__(self) -> str:\n",
        "        return f\"A 2D point with coordinates ({self.x}, {self.y})\"\n",
        "\n",
        "    def __add__(self, other: Point2D) -> Point2D:\n",
        "        return Point2D(self.x + other.x, self.y + other.y)\n",
        "\n",
        "    def __sub__(self, other: Point2D) -> Point2D:\n",
        "        return Point2D(self.x - other.x, self.y - other.y)\n",
        "\n",
        "    def __iadd__(self, other: Point2D) -> Point2D:\n",
        "        self.x += other.x\n",
        "        self.y += other.y\n",
        "        return self\n",
        "\n",
        "    def __isub__(self, other: Point2D) -> Point2D:\n",
        "        self.x -= other.x\n",
        "        self.y -= other.y\n",
        "        return self"
      ]
    },
    {
      "cell_type": "code",
      "execution_count": null,
      "metadata": {
        "id": "JcPagzzgDI6c",
        "pycharm": {
          "name": "#%%\n"
        }
      },
      "outputs": [],
      "source": [
        "a = Point2D(3, 3)\n",
        "print(id(a))\n",
        "\n",
        "a += Point2D(2, 2)\n",
        "print(id(a))\n",
        "print(a)\n",
        "\n",
        "a += Point2D(2, 2)\n",
        "print(id(a))\n",
        "print(a)"
      ]
    },
    {
      "cell_type": "markdown",
      "metadata": {
        "collapsed": false,
        "id": "jqf5IscXDI6d"
      },
      "source": [
        "Now we have the same object after using `+=`"
      ]
    },
    {
      "cell_type": "markdown",
      "metadata": {
        "collapsed": false,
        "id": "B6DWpUovDI6d"
      },
      "source": [
        "#### \\_\\_eq\\_\\_, \\_\\_ne\\_\\_, \\_\\_lt\\_\\_, \\_\\_le\\_\\_, \\_\\_gt\\_\\_, \\_\\_ge\\_\\_,  [(docs)](https://docs.python.org/3/reference/datamodel.html#object.__lt__)"
      ]
    },
    {
      "cell_type": "markdown",
      "metadata": {
        "collapsed": false,
        "id": "MaIJiWD0DI6d"
      },
      "source": [
        "By default, objects of classes in Python do not have an order and are compared for equality using `is`. Thus, two points will be equal to each other only when they represent the same object in memory:"
      ]
    },
    {
      "cell_type": "code",
      "execution_count": null,
      "metadata": {
        "id": "47czREhWDI6d",
        "pycharm": {
          "name": "#%%\n"
        }
      },
      "outputs": [],
      "source": [
        "a = Point2D(1, 1)\n",
        "b = Point2D(1, 1)\n",
        "\n",
        "a == b, a == a"
      ]
    },
    {
      "cell_type": "markdown",
      "metadata": {
        "collapsed": false,
        "id": "cQZaiz_fDI6d"
      },
      "source": [
        "The methods `__eq__`, `__ne__`, `__lt__`, `__le__`, `__gt__`, `__ge__` allow us to define comparison rules for objects of the class.\n",
        "\n",
        "Let's teach our points how to compare themselves:"
      ]
    },
    {
      "cell_type": "code",
      "execution_count": null,
      "metadata": {
        "id": "NwaGlmg2DI6d",
        "pycharm": {
          "name": "#%%\n"
        }
      },
      "outputs": [],
      "source": [
        "class Point2D:\n",
        "    \"\"\"\n",
        "    A point in 2D space\n",
        "    :param x: x coordinate\n",
        "    :param y: y coordinate\n",
        "    \"\"\"\n",
        "    def __init__(self, x: int, y: int) -> None:\n",
        "        self.x = x\n",
        "        self.y = y\n",
        "\n",
        "    def __repr__(self) -> str:\n",
        "        return f\"Point2D({self.x}, {self.y})\"\n",
        "\n",
        "    def __str__(self) -> str:\n",
        "        return f\"A 2D point with coordinates ({self.x}, {self.y})\"\n",
        "\n",
        "    def __add__(self, other: Point2D) -> Point2D:\n",
        "        return Point2D(self.x + other.x, self.y + other.y)\n",
        "\n",
        "    def __sub__(self, other: Point2D) -> Point2D:\n",
        "        return Point2D(self.x - other.x, self.y - other.y)\n",
        "\n",
        "    def __iadd__(self, other: Point2D) -> Point2D:\n",
        "        self.x += other.x\n",
        "        self.y += other.y\n",
        "        return self\n",
        "\n",
        "    def __isub__(self, other: Point2D) -> Point2D:\n",
        "        self.x -= other.x\n",
        "        self.y -= other.y\n",
        "        return self\n",
        "\n",
        "    def __eq__(self, other: Point2D) -> Point2D:\n",
        "        return self.x == other.x and self.y == other.y\n",
        "\n",
        "    def __call__(self):\n",
        "        print('сall', end=' ')\n",
        "        print(self)\n",
        "\n",
        "print(Point2D(1, 1) == Point2D(1, 1))\n",
        "print(Point2D(1, 1) != Point2D(1, 1))\n",
        "print(Point2D(1, 1) == Point2D(1, 2))\n",
        "print(Point2D(1, 1) != Point2D(1, 2))\n",
        "\n",
        "p = Point2D(1, 1)\n",
        "p()"
      ]
    },
    {
      "cell_type": "markdown",
      "metadata": {
        "collapsed": false,
        "id": "I1pqo2nLDI6e"
      },
      "source": [
        "Note that when we defined `__eq__` (==) for comparison, `__ne__` (!=) was automatically inferred. However, this is an exception. If, for example, we also define `__gt__` (>), the `__le__` (<=) operation will not be automatically inferred.\n",
        "\n",
        "**NB**: If you want to write one operation and have the others inferred automatically, use the [`functools.total_ordering`](https://docs.python.org/3/library/functools.html#functools.total_ordering) decorator."
      ]
    },
    {
      "cell_type": "markdown",
      "metadata": {
        "collapsed": false,
        "id": "6jWMexRKDI6e"
      },
      "source": [
        "In addition to those described in Python, there is a multitude of magic methods capable of implementing almost any behavior you've seen in Python. You can find all of them [in the documentation](https://docs.python.org/3/reference/datamodel.html#special-method-names) or by searching online.\n",
        "\n",
        "Among the useful ones, we can highlight:\n",
        "* `__new__` and `__del__` — object creation and deletion.\n",
        "* `__len__` — returns the length of an object (e.g., a container). Used by the `len` function.\n",
        "* `__getitem__`, `__setitem__` — square bracket indexing.\n",
        "* `__getattr__`, `__setattr__` — attribute access via dot notation.\n",
        "* `__iter__` — returns an iterator traversing the object. Used, for example, in `for` loops.\n",
        "* `__next__` — returns the next state of the iterator.\n",
        "* `__nonzero__` — determines the behavior of the `bool` function on the object.\n",
        "* `__contains__` — determines the behavior of the `in` operator (useful for containers).\n",
        "* `__call__` — called when an object of the class is called with parentheses (like a function). Allows making class objects callable.\n",
        "* `__copy__`, `__deepcopy__` — define how an object of the class is copied."
      ]
    },
    {
      "cell_type": "markdown",
      "metadata": {
        "collapsed": false,
        "id": "kQrOYapCDI6e"
      },
      "source": [
        "### Copying"
      ]
    },
    {
      "cell_type": "markdown",
      "metadata": {
        "collapsed": false,
        "id": "M5ta9BYhDI6e"
      },
      "source": [
        "In Python, variables always store a reference to an object. If we assign an object of our class to two different variables, they will both store the same object and \"change\" together:"
      ]
    },
    {
      "cell_type": "code",
      "execution_count": null,
      "metadata": {
        "id": "zxClRc39DI6e",
        "pycharm": {
          "name": "#%%\n"
        }
      },
      "outputs": [],
      "source": [
        "a = Point2D(3, 4)\n",
        "print(a)\n",
        "\n",
        "b = a\n",
        "b.x = -1\n",
        "\n",
        "print(a)\n",
        "\n",
        "print(id(a), id(b))"
      ]
    },
    {
      "cell_type": "markdown",
      "metadata": {
        "collapsed": false,
        "id": "OpdmkkM1DI6e"
      },
      "source": [
        "We changed the value in the variable `b`, but the value in `a` also changed because they both refer to the same object.\n",
        "\n",
        "To avoid this misunderstanding in Python, there is the `copy` module and the corresponding function:"
      ]
    },
    {
      "cell_type": "code",
      "execution_count": null,
      "metadata": {
        "id": "FHRLkZACDI6f",
        "pycharm": {
          "name": "#%%\n"
        }
      },
      "outputs": [],
      "source": [
        "from copy import copy\n",
        "\n",
        "a = Point2D(3, 4)\n",
        "print(a)\n",
        "\n",
        "b = copy(a)\n",
        "b.x = -1\n",
        "\n",
        "print(a)\n",
        "print(b)\n",
        "\n",
        "print(id(a), id(b))"
      ]
    },
    {
      "cell_type": "code",
      "execution_count": null,
      "metadata": {
        "id": "5wiGg6ReC4bh"
      },
      "outputs": [],
      "source": [
        "c = [1, 2, 3]\n",
        "d = c\n",
        "d[1] = 10\n",
        "c"
      ]
    },
    {
      "cell_type": "markdown",
      "metadata": {
        "collapsed": false,
        "id": "2hjToR63DI6g"
      },
      "source": [
        "However, even this won't save us if the object of our class again contains mutable variables (e.g., lists). In this case, we will need the `deepcopy` function, which will completely copy both the class object itself and everything inside it, essentially acting recursively.\n",
        "\n",
        "Let's demonstrate this with a new class `Student`:"
      ]
    },
    {
      "cell_type": "code",
      "execution_count": null,
      "metadata": {
        "id": "Gcw90je9DI6h",
        "pycharm": {
          "name": "#%%\n"
        }
      },
      "outputs": [],
      "source": [
        "from typing import Iterable\n",
        "import copy\n",
        "\n",
        "class Student:\n",
        "    \"\"\"\n",
        "    A class representing student along with his name and classes he/she takes\n",
        "    :param name: name of the student\n",
        "    :param classes: iterable of strings with names of classes\n",
        "    \"\"\"\n",
        "    def __init__(self, name: str, classes: Iterable[str]) -> None:\n",
        "        self.name = name\n",
        "        self.classes = classes\n",
        "\n",
        "    def __repr__(self) -> str:\n",
        "        return f\"Student({repr(self.name)}, {repr(self.classes)})\"\n",
        "\n",
        "student = Student(\"Ваня\", [\"Линал\", \"Алгосы\", \"Машинное обучение\"])\n",
        "student_deepcopy = copy.deepcopy(student)\n",
        "student_copy = copy.copy(student)\n",
        "student_naive = student\n",
        "\n",
        "print(\"Before changes\")\n",
        "print(student)\n",
        "\n",
        "student_deepcopy.name = \"Катя\"\n",
        "student_deepcopy.classes[0] = \"Матан\"\n",
        "print(\"\\nResult of deepcopy\")\n",
        "print(f\"{student_deepcopy}\")\n",
        "print(f\"{student}\")\n",
        "\n",
        "student_copy.name = \"Лиза\"\n",
        "student_copy.classes[0] = \"Экономика\"\n",
        "print(\"\\nResult of copy\")\n",
        "print(f\"{student_copy}\")\n",
        "print(f\"{student}\")\n",
        "\n",
        "student_naive.name = \"Лёша\"\n",
        "student_naive.classes[0] = \"Алгебра\"\n",
        "print(\"\\nResult of naive change \")\n",
        "print(f\"{student_naive}\")\n",
        "print(f\"{student}\")"
      ]
    },
    {
      "cell_type": "markdown",
      "metadata": {
        "collapsed": false,
        "id": "qarYv69kDI6h"
      },
      "source": [
        "As we can see, if we use `copy` alone, the student's name indeed does not change in the original `student` variable because the corresponding `name` attribute was copied. However, the list of subjects changes because `copy` copied a **reference** to this list into the new object, and we are accessing it from both students. `deepcopy` allows us to avoid this problem because it creates a new list."
      ]
    },
    {
      "cell_type": "markdown",
      "metadata": {
        "collapsed": false,
        "id": "vIG6mKzPDI6i"
      },
      "source": [
        "### getter, setter"
      ]
    },
    {
      "cell_type": "markdown",
      "metadata": {
        "collapsed": false,
        "id": "p2Z_flzyDI6i"
      },
      "source": [
        "Sometimes, we want reading or setting an object's attribute to be accompanied by some logic, whether it's validation or something else. Let's say we're creating a thermometer class:"
      ]
    },
    {
      "cell_type": "code",
      "execution_count": null,
      "metadata": {
        "id": "RhYlU8aTDI6i",
        "pycharm": {
          "name": "#%%\n"
        }
      },
      "outputs": [],
      "source": [
        "class Thermometer:\n",
        "    \"\"\"\n",
        "    Thermometer containing temperature in Celsius\n",
        "    :param temperature: temperature to contain\n",
        "    \"\"\"\n",
        "    def __init__(self, temperature: float) -> None:\n",
        "        self.temperature = temperature"
      ]
    },
    {
      "cell_type": "markdown",
      "metadata": {
        "collapsed": false,
        "id": "K-AoC_qBDI6i"
      },
      "source": [
        "This class has a problem, we can assign it a temperature below the possible minimum:"
      ]
    },
    {
      "cell_type": "code",
      "execution_count": null,
      "metadata": {
        "id": "o26v7yqcDI6i",
        "pycharm": {
          "name": "#%%\n"
        }
      },
      "outputs": [],
      "source": [
        "thermometer = Thermometer(10.)\n",
        "thermometer.temperature = -100000."
      ]
    },
    {
      "cell_type": "code",
      "execution_count": null,
      "metadata": {
        "id": "D0L0UQuN7Vff"
      },
      "outputs": [],
      "source": [
        "del thermometer.temperature\n",
        "thermometer.temperature"
      ]
    },
    {
      "cell_type": "markdown",
      "metadata": {
        "collapsed": false,
        "id": "AiqQN1AsDI6j"
      },
      "source": [
        "We could solve this problem by adding a special function `set_temperature` and stating that the temperature should only be set through it:"
      ]
    },
    {
      "cell_type": "code",
      "execution_count": null,
      "metadata": {
        "id": "QuXTv52-DI6j",
        "pycharm": {
          "name": "#%%\n"
        }
      },
      "outputs": [],
      "source": [
        "class Thermometer:\n",
        "    \"\"\"\n",
        "    Thermometer containing temperature in Celsius\n",
        "    :param temperature: temperature to contain\n",
        "    \"\"\"\n",
        "    MINIMAL_TEMPERATURE = -273.15\n",
        "    def __init__(self, temperature: float) -> None:\n",
        "        self.set_temperature(temperature)\n",
        "\n",
        "    def set_temperature(self, value: float) -> None:\n",
        "        if value < Thermometer.MINIMAL_TEMPERATURE:\n",
        "            raise ValueError(f\"Temperature cannot be less than {Thermometer.MINIMAL_TEMPERATURE}\")\n",
        "        self.temperature = value\n",
        "\n",
        "thermometer = Thermometer(10.)\n",
        "thermometer.set_temperature(-100000.)"
      ]
    },
    {
      "cell_type": "markdown",
      "metadata": {
        "collapsed": false,
        "id": "lQuzjP4UDI6j"
      },
      "source": [
        "With this solution, firstly, we lose the convenience of assigning via attribute name, and secondly, all code that previously used `temperature` directly will now work incorrectly."
      ]
    },
    {
      "cell_type": "markdown",
      "metadata": {
        "collapsed": false,
        "id": "S2l1LpJoDI6j"
      },
      "source": [
        "To avoid these problems, Python provides the `@property` decorator: it allows us to turn a function into an attribute and define behavior when setting and reading the attribute:"
      ]
    },
    {
      "cell_type": "code",
      "execution_count": null,
      "metadata": {
        "id": "0yQ08aSLG5E_"
      },
      "outputs": [],
      "source": [
        "class Thermometer:\n",
        "    \"\"\"\n",
        "    Thermometer containing temperature in Celsius\n",
        "    :param temperature: temperature to contain\n",
        "    \"\"\"\n",
        "    MINIMAL_TEMPERATURE = -273.15\n",
        "    def __init__(self, temperature: float) -> None:\n",
        "        self.temperature = temperature\n",
        "\n",
        "    def __setattr__(self, name, value) -> None:\n",
        "        print(name)\n",
        "        if value < Thermometer.MINIMAL_TEMPERATURE:\n",
        "            raise ValueError(f\"Temperature cannot be less than {Thermometer.MINIMAL_TEMPERATURE}\")\n",
        "        self.__dict__[name] = value\n",
        "\n",
        "    # def __getattribute__(self, name) -> float:\n",
        "    #     return self.__dict__[name] * 2\n",
        "\n",
        "    def __delattr__(self, name):\n",
        "        pass\n",
        "\n",
        "thermometer = Thermometer(10.)\n",
        "thermometer.temperature = 20\n",
        "print(thermometer.temperature)\n",
        "del thermometer.temperature\n",
        "print(thermometer.temperature)"
      ]
    },
    {
      "cell_type": "code",
      "execution_count": null,
      "metadata": {
        "id": "nd_OCxFJDI6j",
        "pycharm": {
          "name": "#%%\n"
        }
      },
      "outputs": [],
      "source": [
        "class Thermometer:\n",
        "    \"\"\"\n",
        "    Thermometer containing temperature in Celsius\n",
        "    :param temperature: temperature to contain\n",
        "    \"\"\"\n",
        "    MINIMAL_TEMPERATURE = -273.15\n",
        "    def __init__(self, temperature: float) -> None:\n",
        "        self.temperature = temperature\n",
        "\n",
        "    @property\n",
        "    def temperature(self):\n",
        "        pass\n",
        "\n",
        "    @temperature.setter\n",
        "    def temperature(self, value: float) -> None:\n",
        "        if value < Thermometer.MINIMAL_TEMPERATURE:\n",
        "            raise ValueError(f\"Temperature cannot be less than {Thermometer.MINIMAL_TEMPERATURE}\")\n",
        "        self._temperature = value\n",
        "\n",
        "    @temperature.deleter\n",
        "    def temperature(self) -> None:\n",
        "        pass\n",
        "\n",
        "    @temperature.getter\n",
        "    def temperature(self) -> float:\n",
        "        return self._temperature * 2\n",
        "\n",
        "thermometer = Thermometer(10.)\n",
        "thermometer.temperature = 20\n",
        "print(thermometer.temperature)\n",
        "del thermometer.temperature\n",
        "print(thermometer.temperature)"
      ]
    },
    {
      "cell_type": "markdown",
      "metadata": {
        "collapsed": false,
        "id": "veHOi3aoDI6j"
      },
      "source": [
        "Let's understand how this works. Firstly, we will now store our actual temperature in the variable `self._temperature`.\n",
        "Accessing this variable will not involve any other logic, but we will only assign the temperature to it inside the class, and the user from the outside will not know about it and should not access it.\n",
        "\n",
        "**NB:** An underscore at the beginning of an attribute or method name is a standard Python convention indicating part of the internal interface of the class. The developer does not promise that this interface will not change in future versions, and the user should not use it. Moreover, Python itself does not prohibit accessing such attributes and methods; it's just a gentleman's agreement among programmers (quote from the documentation).\n",
        "\n",
        "First, we create a function with the name of our attribute (in our case, `def temperature`) with the `@property` decorator, and in it, we return our actual temperature value (`return self._temperature`). Now, when we access `thermometer.temperature`, this function will be called.\n",
        "\n",
        "Then we create another function with the same name, but now with the `@temperature.setter` decorator, in which we check our condition and assign a new value to our internal variable `self._temperature`. This function will be called when we assign a value to `thermometer.temperature`."
      ]
    },
    {
      "cell_type": "markdown",
      "metadata": {
        "id": "3HO9e-ZJdmsS"
      },
      "source": [
        "### Descriptors\n"
      ]
    },
    {
      "cell_type": "markdown",
      "metadata": {
        "id": "E8K72WeRfIFB"
      },
      "source": [
        "Descriptors allow us to generalize this behavior. Suppose we have 2 elements at once that we want to restrict from being, say, negative. We could specify properties for each, or we could do better!"
      ]
    },
    {
      "cell_type": "code",
      "execution_count": null,
      "metadata": {
        "id": "e3pT0PC2dbSs"
      },
      "outputs": [],
      "source": [
        "class Order:\n",
        "    def __init__(self, name, price, quantity):\n",
        "        self.name = name\n",
        "        self.price = price\n",
        "        self.quantity = quantity\n",
        "    def total(self):\n",
        "        return self.price * self.quantity"
      ]
    },
    {
      "cell_type": "code",
      "execution_count": null,
      "metadata": {
        "id": "c5vVx7sNfGJh"
      },
      "outputs": [],
      "source": [
        "class Order:\n",
        "    price = NonNegative('price')\n",
        "    quantity = NonNegative('quantity')\n",
        "    def __init__(self, name, price, quantity):\n",
        "        self._name = name\n",
        "        self.price = price\n",
        "        self.quantity = quantity\n",
        "    def total(self):\n",
        "        return self.price * self.quantity"
      ]
    },
    {
      "cell_type": "code",
      "execution_count": null,
      "metadata": {
        "id": "TlgYCPq8fanC"
      },
      "outputs": [],
      "source": [
        "class NonNegative:\n",
        "    def __init__(self, name):\n",
        "        self.name = name\n",
        "    def __get__(self, instance, owner):\n",
        "        return instance.__dict__[self.name] * 2\n",
        "    def __set__(self, instance, value):\n",
        "        if value < 0:\n",
        "            raise ValueError('Cannot be negative.')\n",
        "        instance.__dict__[self.name] = value"
      ]
    },
    {
      "cell_type": "code",
      "execution_count": null,
      "metadata": {
        "id": "9tgr4mvNy6Rg"
      },
      "outputs": [],
      "source": [
        "order = Order('apple', 10, 5)\n",
        "print(order.total())\n",
        "order.quantity = -1\n",
        "print(order.total())"
      ]
    },
    {
      "cell_type": "markdown",
      "metadata": {
        "id": "dizc14rDfwO5"
      },
      "source": [
        "Lets's remove a bit more code duplication! (3.6+)"
      ]
    },
    {
      "cell_type": "code",
      "execution_count": null,
      "metadata": {
        "id": "cE1ZffXQgllt"
      },
      "outputs": [],
      "source": [
        "class Order:\n",
        "    price = NonNegative()\n",
        "    quantity = NonNegative()\n",
        "    def __init__(self, name, price, quantity):\n",
        "        self._name = name\n",
        "        self.price = price\n",
        "        self.quantity = quantity\n",
        "    def total(self):\n",
        "        return self.price * self.quantity"
      ]
    },
    {
      "cell_type": "code",
      "execution_count": null,
      "metadata": {
        "id": "MTJIOjWJfyxn"
      },
      "outputs": [],
      "source": [
        "class NonNegative:\n",
        "    def __get__(self, instance, owner):\n",
        "        return instance.__dict__[self.name]\n",
        "    def __set__(self, instance, value):\n",
        "        if value < 0:\n",
        "            raise ValueError('Cannot be negative.')\n",
        "        instance.__dict__[self.name] = value\n",
        "    def __set_name__(self, owner, name):\n",
        "        self.name = name"
      ]
    },
    {
      "cell_type": "code",
      "execution_count": null,
      "metadata": {
        "id": "LhxBNe7ZgeVZ"
      },
      "outputs": [],
      "source": [
        "apple_order = Order('apple', 1, 10)\n",
        "print(apple_order.total())\n",
        "apple_order.__dict__"
      ]
    },
    {
      "cell_type": "markdown",
      "metadata": {
        "collapsed": false,
        "id": "fVBNIXVdDI6k"
      },
      "source": [
        "### `@staticmethod`"
      ]
    },
    {
      "cell_type": "markdown",
      "metadata": {
        "collapsed": false,
        "id": "abNc0aYsDI6k"
      },
      "source": [
        "Sometimes an object's method doesn't use its attributes at all (it doesn't refer to `self`) and simply executes independent logic. In such cases, such a method is called static. We can use the special `@staticmethod` decorator on it, and then, among other things, we can call it without even creating an object."
      ]
    },
    {
      "cell_type": "markdown",
      "metadata": {
        "collapsed": false,
        "id": "jq5g8IM-DI6k"
      },
      "source": [
        "Let's try this with an example using our thermometer. Suppose we want to teach it how to calculate and output the temperature in degrees Fahrenheit. In this case, we should define the method `get_fahrenheit`, and it would be nice to separate the actual conversion into a separate method called `celsius_to_fahrenheit`:"
      ]
    },
    {
      "cell_type": "code",
      "execution_count": null,
      "metadata": {
        "id": "9KTyV7O8DI6k",
        "pycharm": {
          "name": "#%%\n"
        }
      },
      "outputs": [],
      "source": [
        "class Thermometer:\n",
        "    \"\"\"\n",
        "    Thermometer containing temperature in Celsius\n",
        "    :param temperature: temperature to contain\n",
        "    \"\"\"\n",
        "    MINIMAL_TEMPERATURE = -273.15\n",
        "    def __init__(self, temperature: float) -> None:\n",
        "        self.temperature = temperature\n",
        "\n",
        "    @property\n",
        "    def temperature(self) -> float:\n",
        "        return self._temperature\n",
        "\n",
        "    @temperature.setter\n",
        "    def temperature(self, value: float) -> None:\n",
        "        if value < Thermometer.MINIMAL_TEMPERATURE:\n",
        "            raise ValueError(f\"Temperature cannot be less than {Thermometer.MINIMAL_TEMPERATURE}\")\n",
        "        self._temperature = value\n",
        "\n",
        "    def celsius_to_fahrenheit(self, value) -> float:\n",
        "        return value * 1.8 + 32\n",
        "\n",
        "    def get_fahrenheit(self) -> float:\n",
        "        return self.celsius_to_fahrenheit(self.temperature)\n",
        "\n",
        "thermometer = Thermometer(10.)\n",
        "print(f\"{thermometer.temperature} degrees Celsius are equal to {thermometer.get_fahrenheit()} degrees Fahrenheit\")"
      ]
    },
    {
      "cell_type": "markdown",
      "metadata": {
        "collapsed": false,
        "id": "iyp2Jw9sDI6k"
      },
      "source": [
        "Our `celsius_to_fahrenheit` function simply converts the temperature it receives as input. It doesn't use `self` in any way. Let's make it a static method."
      ]
    },
    {
      "cell_type": "code",
      "execution_count": null,
      "metadata": {
        "id": "ovzIRBQKDI6k",
        "pycharm": {
          "name": "#%%\n"
        }
      },
      "outputs": [],
      "source": [
        "class Thermometer:\n",
        "    \"\"\"\n",
        "    Thermometer containing temperature in Celsius\n",
        "    :param temperature: temperature to contain\n",
        "    \"\"\"\n",
        "    MINIMAL_TEMPERATURE = -273.15\n",
        "    def __init__(self, temperature: float) -> None:\n",
        "        self.temperature = temperature\n",
        "\n",
        "    @property\n",
        "    def temperature(self) -> float:\n",
        "        return self._temperature\n",
        "\n",
        "    @temperature.setter\n",
        "    def temperature(self, value: float) -> None:\n",
        "        if value < Thermometer.MINIMAL_TEMPERATURE:\n",
        "            raise ValueError(f\"Temperature cannot be less than {Thermometer.MINIMAL_TEMPERATURE}\")\n",
        "        self._temperature = value\n",
        "\n",
        "    @staticmethod\n",
        "    def celsius_to_fahrenheit(value) -> float:\n",
        "        return value * 1.8 + 32\n",
        "\n",
        "    def get_fahrenheit(self) -> float:\n",
        "        return self.celsius_to_fahrenheit(self.temperature)\n",
        "\n",
        "print(Thermometer.celsius_to_fahrenheit(10))\n",
        "thermometer = Thermometer(10)\n",
        "print(f\"{thermometer.temperature} degrees Celsius are equal to {thermometer.get_fahrenheit()} degrees Fahrenheit\")"
      ]
    },
    {
      "cell_type": "markdown",
      "metadata": {
        "collapsed": false,
        "id": "h8l75EO_DI6l"
      },
      "source": [
        "Note that we can still call the function from an object of the class (as we do, for example, from `self` in `get_fahrenheit`). But now we can also call it from the class itself:"
      ]
    },
    {
      "cell_type": "code",
      "execution_count": null,
      "metadata": {
        "id": "kVSsW6SIDI6l",
        "pycharm": {
          "name": "#%%\n"
        }
      },
      "outputs": [],
      "source": [
        "Thermometer.celsius_to_fahrenheit(10.)"
      ]
    },
    {
      "cell_type": "markdown",
      "metadata": {
        "collapsed": false,
        "id": "YwHIhiokDI6l"
      },
      "source": [
        "### `@classmethod`"
      ]
    },
    {
      "cell_type": "markdown",
      "metadata": {
        "collapsed": false,
        "id": "ByG2zLQtDI6l"
      },
      "source": [
        "There is another situation as well. When a method doesn't use the object's attributes (doesn't refer to `self`), but it does use knowledge about which class it's called from. Such a method is called a class method, and we can denote it with the `@classmethod` decorator. A method with the `@classmethod` decorator takes the class itself (`cls`) as its first argument, not the class object (`self`)."
      ]
    },
    {
      "cell_type": "markdown",
      "metadata": {
        "collapsed": false,
        "id": "cWBysNbCDI6l"
      },
      "source": [
        "Suppose we want to be able to create our thermometer directly from the temperature in Fahrenheit. However, our `__init__` method takes the temperature in Celsius. Let's create a new class method `from_fahrenheit`, which will convert the received temperature from Fahrenheit to Celsius (using a new static method `fahrenheit_to_celsius`) and return a new object of the class:"
      ]
    },
    {
      "cell_type": "code",
      "execution_count": null,
      "metadata": {
        "id": "lPGs12jrDI6l",
        "pycharm": {
          "name": "#%%\n"
        }
      },
      "outputs": [],
      "source": [
        "class Thermometer:\n",
        "    \"\"\"\n",
        "    Thermometer containing temperature in Celsius\n",
        "    :param temperature: temperature to contain\n",
        "    \"\"\"\n",
        "    MINIMAL_TEMPERATURE = -273.15\n",
        "    def __init__(self, temperature: float) -> None:\n",
        "        self.temperature = temperature\n",
        "\n",
        "    @property\n",
        "    def temperature(self) -> float:\n",
        "        return self._temperature\n",
        "\n",
        "    @temperature.setter\n",
        "    def temperature(self, value: float) -> None:\n",
        "        if value < Thermometer.MINIMAL_TEMPERATURE:\n",
        "            raise ValueError(f\"Temperature cannot be less than {Thermometer.MINIMAL_TEMPERATURE}\")\n",
        "        self._temperature = value\n",
        "\n",
        "    @staticmethod\n",
        "    def celsius_to_fahrenheit(value) -> float:\n",
        "        return value * 1.8 + 32\n",
        "\n",
        "    @staticmethod\n",
        "    def fahrenheit_to_celsius(value) -> float:\n",
        "        return (value - 32) / 1.8\n",
        "\n",
        "    def get_fahrenheit(self) -> float:\n",
        "        print(type(self))\n",
        "        return self.celsius_to_fahrenheit(self.temperature)\n",
        "\n",
        "    @classmethod\n",
        "    def from_fahrenheit(cls, temperature_fahrenheit) -> Thermometer:\n",
        "        temperature_celsius = cls.fahrenheit_to_celsius(temperature_fahrenheit)\n",
        "        print(type(cls))\n",
        "        return cls(temperature_celsius)"
      ]
    },
    {
      "cell_type": "markdown",
      "metadata": {
        "collapsed": false,
        "id": "0VcD9xRhDI6m"
      },
      "source": [
        "Now we can create a thermometer from degrees Fahrenheit:"
      ]
    },
    {
      "cell_type": "code",
      "execution_count": null,
      "metadata": {
        "id": "44fabdpzDI6m",
        "pycharm": {
          "name": "#%%\n"
        }
      },
      "outputs": [],
      "source": [
        "thermometer_celsius = Thermometer.from_fahrenheit(100)\n",
        "print(thermometer_celsius.temperature)\n",
        "print(\"%.1000f\" % thermometer_celsius.get_fahrenheit())\n",
        "thermometer_celsius.get_fahrenheit() == 100"
      ]
    },
    {
      "cell_type": "markdown",
      "metadata": {
        "collapsed": false,
        "id": "bhVUAsxSDI6m"
      },
      "source": [
        "### Inheritance, `super()`"
      ]
    },
    {
      "cell_type": "markdown",
      "metadata": {
        "collapsed": false,
        "id": "Ys0KUFTXDI6m"
      },
      "source": [
        "One of the main mechanisms of OOP is inheritance. A class can inherit from another class, thereby gaining access to its methods and attributes. The child class can add its own new methods and override methods of the parent class, but it can also use all the methods defined in the parent class."
      ]
    },
    {
      "cell_type": "markdown",
      "metadata": {
        "collapsed": false,
        "id": "WvSoJF0JDI6m"
      },
      "source": [
        "In Python, the parent class is specified in parentheses after the class name during declaration: `class Children(Parent)`. Moreover, one class can be a child of several classes at once. In this case, they are listed separated by commas."
      ]
    },
    {
      "cell_type": "markdown",
      "metadata": {
        "collapsed": false,
        "id": "EnC0fcWDDI6o"
      },
      "source": [
        "Let's try creating a general class `Person`, which will have an attribute `name` and be able to introduce itself using the `introduce` method:"
      ]
    },
    {
      "cell_type": "code",
      "execution_count": null,
      "metadata": {
        "id": "ToR9XqnxDI6o",
        "pycharm": {
          "name": "#%%\n"
        }
      },
      "outputs": [],
      "source": [
        "class Person:\n",
        "    \"\"\"\n",
        "    A class representing a person with a name that can introduce himself\n",
        "    :param name: the name of the person\n",
        "    \"\"\"\n",
        "    def __init__(self, name: str) -> None:\n",
        "        self.name = name\n",
        "\n",
        "    def introduce(self) -> None:\n",
        "        print(f\"Hello, my name is {self.name}\")\n",
        "\n",
        "    @classmethod\n",
        "    def f(cls):\n",
        "      print(cls)\n",
        "\n",
        "    def __str__(self) -> str:\n",
        "        return f\"A person named {self.name}\"\n",
        "\n",
        "person = Person(\"Dima\")\n",
        "person.introduce()\n",
        "print(person)"
      ]
    },
    {
      "cell_type": "code",
      "execution_count": null,
      "metadata": {
        "id": "qotM5ffu35o4"
      },
      "outputs": [],
      "source": [
        "type(Person)"
      ]
    },
    {
      "cell_type": "markdown",
      "metadata": {
        "collapsed": false,
        "id": "sPuXprzcDI6o"
      },
      "source": [
        "Now let's create subclasses `Teacher` and `Student`. In addition to the name, the teacher will have a field `discipline`, and the student will have a field `marks`:"
      ]
    },
    {
      "cell_type": "code",
      "execution_count": null,
      "metadata": {
        "id": "wh6BkdztDI6o",
        "pycharm": {
          "name": "#%%\n"
        }
      },
      "outputs": [],
      "source": [
        "from typing import Dict\n",
        "\n",
        "class Teacher(Person):\n",
        "    \"\"\"\n",
        "    A class representing a teacher with his discipline\n",
        "    :param name: the name of the teacher\n",
        "    :param discipline: the discipline taught by the teacher\n",
        "    \"\"\"\n",
        "    def __init__(self, name: str, discipline: str) -> None:\n",
        "        super().__init__(name)  # Using __init__ of parent class\n",
        "        self.discipline = discipline\n",
        "\n",
        "    def __str__(self) -> str:\n",
        "        return f\"A teacher named {self.name} who teaches {self.discipline}\"\n",
        "\n",
        "\n",
        "class Student(Person):\n",
        "    \"\"\"\n",
        "    A class representing a student and his marks\n",
        "    :param name: the name of the student\n",
        "    :param marks: a dict of disciplines as keys and marks as values\n",
        "    \"\"\"\n",
        "    def __init__(self, name: str, marks: Dict[str, int]) -> None:\n",
        "        super().__init__(name)  # Using __init__ of parent class\n",
        "        self.marks = marks\n",
        "\n",
        "    def __str__(self) -> str:\n",
        "        return f\"A student named {self.name} with marks {self.marks}\"\n",
        "\n",
        "teacher = Teacher(\"Evgeny\", \"Machine Learning\")\n",
        "teacher.introduce()\n",
        "print(teacher)\n",
        "print()\n",
        "\n",
        "student = Student(\"Liza\", {\"Calculus\": 5, \"Machine Learning\": 10})\n",
        "student.introduce()\n",
        "print(student)"
      ]
    },
    {
      "cell_type": "code",
      "execution_count": null,
      "metadata": {
        "id": "TOp8OfzJCq1o"
      },
      "outputs": [],
      "source": [
        "persons = []\n",
        "persons.append(person)\n",
        "persons.append(teacher)\n",
        "persons.append(student)\n",
        "\n",
        "for i in persons:\n",
        "  i.introduce()"
      ]
    },
    {
      "cell_type": "markdown",
      "metadata": {
        "collapsed": false,
        "id": "Iq8XEYvEDI6o"
      },
      "source": [
        "Now any code that uses the `introduce` method can work with both the `Person` class and the `Teacher` and `Student` classes.\n",
        "\n",
        "And at the same time, none of these classes explicitly defined the `introduce` function because it already exists in the parent class `Person`, so we avoided code duplication and unified objects with similar logic."
      ]
    },
    {
      "cell_type": "markdown",
      "metadata": {
        "collapsed": false,
        "id": "eQBhp8mHDI6o"
      },
      "source": [
        "It's worth paying special attention to the `super()` operator. All methods invoked from `super()` will be called from the parent class (classes) of the object. Thus, when we call `super().__init__(name)` in the `Teacher` and `Student` classes, we execute the code from the `__init__` method of the parent class `Person`: `self.name = name`, meaning we define the `name` attribute in the object. Then we add new attributes. If the `__init__` function in the parent class changes in any way, nothing will break in our code, and these changes will be used in the child classes as well.\n",
        "\n",
        "Also, it's important to note that the `__str__` method is defined both in the parent class `Person` and in the child classes `Teacher` and `Student`. Therefore, the child classes override this method, and when `print` or `str` is called on objects of the child classes, their `__str__` method will be invoked, not the parent's."
      ]
    },
    {
      "cell_type": "markdown",
      "metadata": {
        "collapsed": false,
        "id": "qF8tj4_nDI6p"
      },
      "source": [
        "We could use `super()` not only in `__init__`, for example, we can also use it to extend the functionality of representation:"
      ]
    },
    {
      "cell_type": "code",
      "execution_count": null,
      "metadata": {
        "id": "Tf6BVeSWDI6p",
        "pycharm": {
          "name": "#%%\n"
        }
      },
      "outputs": [],
      "source": [
        "class Teacher(Person):\n",
        "    \"\"\"\n",
        "    A class representing a teacher with his discipline\n",
        "    :param name: the name of the teacher\n",
        "    :param discipline: the discipline taught by the teacher\n",
        "    \"\"\"\n",
        "    def __init__(self, name: str, discipline: str) -> None:\n",
        "        super().__init__(name)  # Вызываем __init__ класса-родителя\n",
        "        self.discipline = discipline\n",
        "\n",
        "    def introduce(self) -> None:\n",
        "        super().introduce()\n",
        "        print(f\"I teach {self.discipline}\")\n",
        "\n",
        "    def __str__(self) -> str:\n",
        "        return f\"A teacher named {self.name} who teaches {self.discipline}\"\n",
        "\n",
        "teacher = Teacher(\"Evgeny\", \"Machine Learning\")\n",
        "teacher.introduce()"
      ]
    },
    {
      "cell_type": "markdown",
      "metadata": {
        "collapsed": false,
        "id": "g1M-zCfGDI6p"
      },
      "source": [
        "Moreover, we could define entirely new methods in the child classes that are not present in the parent class:"
      ]
    },
    {
      "cell_type": "code",
      "execution_count": null,
      "metadata": {
        "id": "ht51qMWeDI6p",
        "pycharm": {
          "name": "#%%\n"
        }
      },
      "outputs": [],
      "source": [
        "class Student(Person):\n",
        "    \"\"\"\n",
        "    A class representing a student and his marks\n",
        "    :param name: the name of the student\n",
        "    :param marks: a dict of disciplines as keys and marks as values\n",
        "    \"\"\"\n",
        "    def __init__(self, name: str, marks) -> None:\n",
        "        super().__init__(name)  # Вызываем __init__ класса-родителя\n",
        "        self.marks = marks\n",
        "\n",
        "    def __str__(self) -> str:\n",
        "        return f\"A student named {self.name} with marks {self.marks}\"\n",
        "\n",
        "    def get_fails(self):\n",
        "        \"\"\"\n",
        "        Gets failed disciplines\n",
        "        \"\"\"\n",
        "        return {discipline: mark for discipline, mark in self.marks.items() if mark < 4}\n",
        "\n",
        "student = Student(\"Liza\", {\"Calculus\": 3, \"Machine Learning\": 10})\n",
        "student.introduce()\n",
        "print(f\"Failed disciplines: {student.get_fails()}\")"
      ]
    },
    {
      "cell_type": "markdown",
      "metadata": {
        "collapsed": false,
        "id": "Fe90ZXL_DI6p"
      },
      "source": [
        "We've covered a very simple example of inheritance. In practice, inheritance trees can be very large; one class may have multiple children and multiple parents. In such cases, it may become unclear in what exact order Python traverses the class parents to determine which implementation of a method to use.\n",
        "\n",
        "To see this order, you can use the class attribute `__mro__` (Method Resolution Order):"
      ]
    },
    {
      "cell_type": "code",
      "execution_count": null,
      "metadata": {
        "id": "8p6-4LJxDI6q",
        "pycharm": {
          "name": "#%%\n"
        }
      },
      "outputs": [],
      "source": [
        "Student.__mro__"
      ]
    },
    {
      "cell_type": "markdown",
      "metadata": {
        "collapsed": false,
        "id": "kqZvuIPPDI6q"
      },
      "source": [
        "We can see that if we try to call the `introduce` method on an object of the `Student` class, for example, Python will first try to find its implementation in the `Student` class itself. If it's not found there, it will try the `Person` class, and if not there either, it will try the parent class of all classes, `object`. (If it's not found there either, it will raise an `AttributeError`.)\n",
        "\n",
        "For more details on how exactly Python determines this order, you can read, for example, [here](https://habr.com/ru/post/62203/)."
      ]
    },
    {
      "cell_type": "markdown",
      "metadata": {
        "collapsed": false,
        "id": "y5M9b-UHDI6q"
      },
      "source": [
        "### ABC &mdash; Abstract Base Classes"
      ]
    },
    {
      "cell_type": "markdown",
      "metadata": {
        "collapsed": false,
        "id": "4zxZsdGwDI6q"
      },
      "source": [
        "Sometimes, we may want to specify a list of methods that all classes in a family should implement, but we cannot provide a default implementation for these methods. For example, we need to write code that calculates the sum of areas or perimeters of a list of shapes, but for each type of shape, these values are calculated differently. However, we still want to somehow unify all of them into one parent class and specify what methods a shape should have.\n",
        "\n",
        "In such cases, the `abc` module and the `@abstractmethod` decorator come to our aid. If we inherit our class from the `abc.ABC` class and add the `@abc.abstractmethod` decorator to the methods, all classes inheriting from ours will be required to declare these methods, or else Python will raise an error.\n",
        "\n",
        "Let's try it out:"
      ]
    },
    {
      "cell_type": "code",
      "execution_count": null,
      "metadata": {
        "id": "VjKu_B2dDI6r",
        "pycharm": {
          "name": "#%%\n"
        }
      },
      "outputs": [],
      "source": [
        "import abc\n",
        "\n",
        "class Shape(abc.ABC):\n",
        "    \"\"\"\n",
        "    Shape class capable of calculating its area and perimeter\n",
        "    \"\"\"\n",
        "    @abc.abstractmethod\n",
        "    def get_area(self) -> float:\n",
        "        \"\"\"\n",
        "        Method for getting the area of the shape\n",
        "        \"\"\"\n",
        "        pass\n",
        "\n",
        "    @abc.abstractmethod\n",
        "    def get_perimeter(self) -> float:\n",
        "        \"\"\"\n",
        "        Method for getting the perimeter of the shape\n",
        "        \"\"\"\n",
        "        pass"
      ]
    },
    {
      "cell_type": "markdown",
      "metadata": {
        "collapsed": false,
        "id": "LrG8z_O9DI6r"
      },
      "source": [
        "Let's try to create a class that inherits from `Shape` but does not implement these methods:"
      ]
    },
    {
      "cell_type": "code",
      "execution_count": null,
      "metadata": {
        "id": "PrjHjRPRIZFi"
      },
      "outputs": [],
      "source": [
        "bad_shape = Shape()"
      ]
    },
    {
      "cell_type": "code",
      "execution_count": null,
      "metadata": {
        "id": "UPePamX8DI6r",
        "pycharm": {
          "name": "#%%\n"
        }
      },
      "outputs": [],
      "source": [
        "class BadShape(Shape):\n",
        "    pass\n",
        "\n",
        "bad_shape = BadShape()"
      ]
    },
    {
      "cell_type": "markdown",
      "metadata": {
        "collapsed": false,
        "id": "HUVv30kzDI6s"
      },
      "source": [
        "As we can see, Python didn't allow us to create an object of such a class (but it did allow us to create the class itself!)\n",
        "\n",
        "Also, we won't be able to create an object of the most abstract class `Shape`:"
      ]
    },
    {
      "cell_type": "code",
      "execution_count": null,
      "metadata": {
        "id": "4wNvuIx9DI6s",
        "pycharm": {
          "name": "#%%\n"
        }
      },
      "outputs": [],
      "source": [
        "shape = Shape()"
      ]
    },
    {
      "cell_type": "markdown",
      "metadata": {
        "collapsed": false,
        "id": "vrYjLxHGDI6s"
      },
      "source": [
        "Let's implement common shapes:"
      ]
    },
    {
      "cell_type": "code",
      "execution_count": null,
      "metadata": {
        "id": "cUyS3dowDI6s",
        "pycharm": {
          "name": "#%%\n"
        }
      },
      "outputs": [],
      "source": [
        "import math\n",
        "\n",
        "class Circle(Shape):\n",
        "    \"\"\"\n",
        "    A circle with a some radius\n",
        "    \"\"\"\n",
        "    def __init__(self, radius: float) -> None:\n",
        "        self.radius = radius\n",
        "\n",
        "    @property\n",
        "    def radius(self) -> float:\n",
        "        return self._radius\n",
        "\n",
        "    @radius.setter\n",
        "    def radius(self, value: float) -> None:\n",
        "        if value < 0:\n",
        "            raise ValueError(f\"Radius has to be >= 0\")\n",
        "        self._radius = value\n",
        "\n",
        "    @radius.deleter\n",
        "    def radius(self) -> None:\n",
        "        pass\n",
        "\n",
        "    def get_area(self) -> float:\n",
        "        return math.pi * self.radius ** 2\n",
        "\n",
        "    def get_perimeter(self) -> float:\n",
        "        return 2 * math.pi * self.radius\n",
        "\n",
        "\n",
        "class Rectangle(Shape):\n",
        "    \"\"\"\n",
        "    A rectangle with some width and height\n",
        "    \"\"\"\n",
        "    def __init__(self, width: float, height: float) -> None:\n",
        "        self.width = width\n",
        "        self.height = height\n",
        "\n",
        "    def get_area(self) -> float:\n",
        "        return self.width * self.height\n",
        "\n",
        "    def get_perimeter(self) -> float:\n",
        "        return 2 * (self.width + self.height)"
      ]
    },
    {
      "cell_type": "markdown",
      "metadata": {
        "collapsed": false,
        "id": "AIKL7kN8DI6t"
      },
      "source": [
        "Now we can write functions that will work with our `Shape` objects, and they can be sure that all classes inheriting from `Shape` will implement the required methods:"
      ]
    },
    {
      "cell_type": "code",
      "execution_count": null,
      "metadata": {
        "id": "2g8KaBvlDI6t",
        "pycharm": {
          "name": "#%%\n"
        }
      },
      "outputs": [],
      "source": [
        "def get_areas_sum(shapes):\n",
        "    # Проверяем, что все наши объекты наследуются от Shape:\n",
        "    for shape in shapes:\n",
        "        if not isinstance(shape, Shape):\n",
        "          raise ValueError(f\"Only Shape objects are allowed, you tried to pass object of type {type(shape)}\")\n",
        "    # if not all(isinstance(shape, Shape) for shape in shapes):\n",
        "    #   raise ValueError(\"Only Shape objects are allowed\")\n",
        "    return sum(shape.get_area() for shape in shapes)\n",
        "\n",
        "def get_perimeters_sum(shapes):\n",
        "    # Проверяем, что все наши объекты наследуются от Shape:\n",
        "    if not all(isinstance(shape, Shape) for shape in shapes):\n",
        "        raise ValueError(\"Only Shape objects are allowed\")\n",
        "    return sum(shape.get_perimeter() for shape in shapes)"
      ]
    },
    {
      "cell_type": "markdown",
      "metadata": {
        "collapsed": false,
        "id": "OjBSNNdBDI6u"
      },
      "source": [
        "Let's try to use our functions as intended:"
      ]
    },
    {
      "cell_type": "code",
      "execution_count": null,
      "metadata": {
        "id": "XpUhqOqkAAu0"
      },
      "outputs": [],
      "source": [
        "my_circle = Circle(10)\n",
        "del my_circle.radius"
      ]
    },
    {
      "cell_type": "code",
      "execution_count": null,
      "metadata": {
        "id": "wpsL5gDSDI6u",
        "pycharm": {
          "name": "#%%\n"
        }
      },
      "outputs": [],
      "source": [
        "print(get_areas_sum([Circle(1.), Rectangle(1., 1.)]))\n",
        "print(get_areas_sum([Circle(1.), Circle(2.), Rectangle(3., 2.), my_circle]))\n",
        "\n",
        "print(get_perimeters_sum([Circle(1.), Rectangle(1., 1.)]))\n",
        "print(get_perimeters_sum([Circle(1.), Circle(2.), Rectangle(3., 2.)]))"
      ]
    },
    {
      "cell_type": "markdown",
      "metadata": {
        "collapsed": false,
        "id": "7ZK91JtIDI6u"
      },
      "source": [
        "Let's try to pass incorrect objects:"
      ]
    },
    {
      "cell_type": "code",
      "execution_count": null,
      "metadata": {
        "id": "Qu6_wxojDI6u",
        "pycharm": {
          "name": "#%%\n"
        }
      },
      "outputs": [],
      "source": [
        "print(get_areas_sum([Circle(1.), Rectangle(1., 1.), \"STRING\"]))"
      ]
    },
    {
      "cell_type": "markdown",
      "metadata": {
        "collapsed": false,
        "id": "S47Y7IOcDI6u"
      },
      "source": [
        "Python also provides a variety of built-in abstract classes that you can use to check whether an object satisfies a certain interface: [collections.abc](https://docs.python.org/3/library/collections.abc.html)."
      ]
    },
    {
      "cell_type": "code",
      "execution_count": null,
      "metadata": {
        "id": "U64s8X-X7vVj"
      },
      "outputs": [],
      "source": [
        "from collections.abc import *\n",
        "class MyStorage(Sequence):\n",
        "  def __getitem__(self, instance):\n",
        "    pass\n",
        "  def __len__(self):\n",
        "    pass\n",
        "\n",
        "storage = MyStorage()\n",
        "# dir(storage)\n",
        "\n",
        "# for i in storage:\n",
        "#   print(i)"
      ]
    },
    {
      "cell_type": "markdown",
      "metadata": {
        "collapsed": false,
        "id": "7HTzGbvDDI6u"
      },
      "source": [
        "### [Dataclasses](https://docs.python.org/3/library/dataclasses.html)"
      ]
    },
    {
      "cell_type": "markdown",
      "metadata": {
        "collapsed": false,
        "id": "OURss0OvDI6v"
      },
      "source": [
        "Зачастую нам нужен небольшой класс, который не имеет своих методов, но просто хранит в себе какие-то данные. Например, класс человека с именем, фамилией и возрастом.\n",
        "\n",
        "Если мы напишем для такой цели полноценный питоновский класс, мы получим громоздкую конструкцию с множеством повторений:"
      ]
    },
    {
      "cell_type": "code",
      "execution_count": null,
      "metadata": {
        "id": "DyDykQeQDI6v",
        "pycharm": {
          "name": "#%%\n"
        }
      },
      "outputs": [],
      "source": [
        "class Person:\n",
        "    def __init__(self, name, surname, age):\n",
        "        self.name = name\n",
        "        self.surname = surname\n",
        "        self.age = age\n",
        "\n",
        "person = Person(\"Stern\", \"Morgenov\", 13)\n",
        "person"
      ]
    },
    {
      "cell_type": "markdown",
      "metadata": {
        "collapsed": false,
        "id": "8IiIxWFwDI61"
      },
      "source": [
        "Often, we need a small class that doesn't have methods but simply stores some data. For example, a person class with a name, surname, and age.\n",
        "\n",
        "If we write a full-fledged Python class for this purpose, we'll end up with a cumbersome construction with lots of repetitions:"
      ]
    },
    {
      "cell_type": "code",
      "execution_count": null,
      "metadata": {
        "id": "SnizQo5EDI61",
        "pycharm": {
          "name": "#%%\n"
        }
      },
      "outputs": [],
      "source": [
        "from dataclasses import dataclass\n",
        "\n",
        "@dataclass\n",
        "class Person:\n",
        "    name: str\n",
        "    surname: str\n",
        "    age: int\n",
        "\n",
        "    def birthday(self):\n",
        "      self.age += 1\n",
        "\n",
        "person = Person(\"Stern\", \"Morgenov\", 13)\n",
        "print(person)\n",
        "person.birthday()\n",
        "print(person)"
      ]
    },
    {
      "cell_type": "markdown",
      "metadata": {
        "collapsed": false,
        "id": "_BHChG0IDI62"
      },
      "source": [
        "It's worth noting that type annotations here are a mandatory part of the syntax.\n",
        "This construction automatically creates a class `Person` with defined methods `__init__`, `__repr__`, and even `__eq__`.\n",
        "\n",
        "When creating an object, the parameters will be passed in the same order as they are declared in the class.\n",
        "\n",
        "You can fine-tune which methods are automatically added using parameters of the decorator itself. For example, if we don't want `__repr__` to be generated for us, we can do this:"
      ]
    },
    {
      "cell_type": "code",
      "execution_count": null,
      "metadata": {
        "id": "G9mwjRLPDI62",
        "pycharm": {
          "name": "#%%\n"
        }
      },
      "outputs": [],
      "source": [
        "@dataclass(repr=False)\n",
        "class PersonWORepr:\n",
        "    name: str\n",
        "    surname: str\n",
        "    age: int\n",
        "\n",
        "person_wo_repr = PersonWORepr(\"Stern\", \"Morgenov\", 13)\n",
        "person_wo_repr"
      ]
    },
    {
      "cell_type": "markdown",
      "metadata": {
        "collapsed": false,
        "id": "2J3raCHSDI62"
      },
      "source": [
        "As we can see, the `__repr__` method wasn't added, and information about the object wasn't nicely printed."
      ]
    },
    {
      "cell_type": "markdown",
      "metadata": {
        "collapsed": false,
        "id": "dGxyQc9RDI62"
      },
      "source": [
        "Dataclasses support default values:"
      ]
    },
    {
      "cell_type": "code",
      "execution_count": null,
      "metadata": {
        "id": "SrtFJJrwDI62",
        "pycharm": {
          "name": "#%%\n"
        }
      },
      "outputs": [],
      "source": [
        "@dataclass\n",
        "class PersonWithDefaultAge:\n",
        "    name: str\n",
        "    surname: str\n",
        "    age: int = 28\n",
        "\n",
        "person_with_default_age = PersonWithDefaultAge(\"Stern\", \"Morgenov\")\n",
        "person_with_default_age"
      ]
    },
    {
      "cell_type": "markdown",
      "metadata": {
        "collapsed": false,
        "id": "qU8QUoP-DI62"
      },
      "source": [
        "Just like in function arguments, all variables with default values should come after all variables without them."
      ]
    },
    {
      "cell_type": "markdown",
      "metadata": {
        "collapsed": false,
        "id": "nHfqsn05DI63"
      },
      "source": [
        "Last but not least, sometimes you may need additional logic when defining fields of a dataclass. For example, you want to add a mutable object as a default value. For such cases, the `field` function in the `dataclasses` module comes in handy."
      ]
    },
    {
      "cell_type": "code",
      "execution_count": null,
      "metadata": {
        "id": "Wx4CfV83DI63",
        "pycharm": {
          "name": "#%%\n"
        }
      },
      "outputs": [],
      "source": [
        "from typing import List\n",
        "from dataclasses import field\n",
        "\n",
        "@dataclass\n",
        "class Student:\n",
        "    name: str\n",
        "    surname: str\n",
        "    age: int = 28\n",
        "    classes: List[int] = field(default_factory=lambda: [1, 2, 3])\n",
        "\n",
        "student = Student(\"Stern\", \"Morgenov\")\n",
        "print(student)\n",
        "student.somename = 100\n",
        "print(student.__dict__)\n",
        "del student.name\n",
        "print(student)"
      ]
    },
    {
      "cell_type": "markdown",
      "metadata": {
        "collapsed": false,
        "id": "7LSLxDulDI63"
      },
      "source": [
        "The `default_factory` parameter in `field` accepts a function that creates the default value. (For more information on why mutable objects in defaults are bad, ask your instructor or read [here](https://docs.quantifiedcode.com/python-anti-patterns/correctness/mutable_default_value_as_argument.html))"
      ]
    },
    {
      "cell_type": "markdown",
      "metadata": {
        "collapsed": false,
        "id": "2ivq4RUtDI63"
      },
      "source": [
        "Dataclasses also support inheritance.\n",
        "\n",
        "For more information on dataclasses, you can read the [documentation](https://docs.python.org/3/library/dataclasses.html) or check out [this article](https://habr.com/ru/post/415829/)."
      ]
    },
    {
      "cell_type": "markdown",
      "metadata": {
        "id": "n0FTk_gZMdf9"
      },
      "source": [
        "### Slots"
      ]
    },
    {
      "cell_type": "markdown",
      "metadata": {
        "id": "zJ0JX2rkg_Hl"
      },
      "source": [
        "To make our classes even more controlled, we can tightly restrict the attribute names used!"
      ]
    },
    {
      "cell_type": "code",
      "execution_count": null,
      "metadata": {
        "id": "qqr71tVHDI63",
        "pycharm": {
          "name": "#%%\n"
        }
      },
      "outputs": [],
      "source": [
        "class SlotsClass:\n",
        "\n",
        "    __slots__ = ('foo', 'bar')"
      ]
    },
    {
      "cell_type": "code",
      "execution_count": null,
      "metadata": {
        "id": "pz7WLnZshHaF"
      },
      "outputs": [],
      "source": [
        "obj = SlotsClass()\n",
        "obj.foo = 5\n",
        "print(obj.foo)\n",
        "obj.bar = 100\n",
        "obj.bar"
      ]
    },
    {
      "cell_type": "code",
      "execution_count": null,
      "metadata": {
        "id": "MQ35CcQvhMME"
      },
      "outputs": [],
      "source": [
        "obj.another_attribute = 'Elvis has left the building'"
      ]
    },
    {
      "cell_type": "code",
      "execution_count": null,
      "metadata": {
        "id": "sgyHxMB7Ae0o"
      },
      "outputs": [],
      "source": [
        "del obj.bar"
      ]
    },
    {
      "cell_type": "code",
      "execution_count": null,
      "metadata": {
        "id": "T-dD79BsBATs"
      },
      "outputs": [],
      "source": [
        "obj.bar"
      ]
    },
    {
      "cell_type": "markdown",
      "metadata": {
        "id": "KDaoDdtPi-2E"
      },
      "source": [
        "### Classes to be used as decorators"
      ]
    },
    {
      "cell_type": "code",
      "execution_count": null,
      "metadata": {
        "id": "Ogo9WELTi8Zn"
      },
      "outputs": [],
      "source": [
        "class Repeater:\n",
        "    def __init__(self, n):\n",
        "        self.n = n\n",
        "\n",
        "    def __call__(self, f):\n",
        "        def wrapper(*args, **kwargs):\n",
        "            for _ in range(self.n):\n",
        "                f(*args, **kwargs)\n",
        "        return wrapper\n",
        "\n",
        "@Repeater(3)\n",
        "def foo(a, b):\n",
        "    print('foo')\n",
        "\n",
        "foo(1, 2)"
      ]
    },
    {
      "cell_type": "markdown",
      "metadata": {
        "id": "HVOzttTLLmIo"
      },
      "source": [
        "Error handling:"
      ]
    },
    {
      "cell_type": "code",
      "execution_count": null,
      "metadata": {
        "id": "vqfU1GG7Lltz"
      },
      "outputs": [],
      "source": [
        "class MyError(ValueError):\n",
        "  pass"
      ]
    },
    {
      "cell_type": "code",
      "execution_count": null,
      "metadata": {
        "id": "w78F_DMkLqwN"
      },
      "outputs": [],
      "source": [
        "try:\n",
        "    n = int('weew')\n",
        "    data = n / 0\n",
        "    raise(MyError('some error happened'))\n",
        "    # raise(BaseException())\n",
        "except MyError as e:\n",
        "    print(e)\n",
        "    print('My Error')\n",
        "except ValueError as e:\n",
        "    print(e)\n",
        "    print('Could not convert!')\n",
        "except ArithmeticError as e:\n",
        "    print(e)\n",
        "    print('Could not divide by zero!')\n",
        "else:\n",
        "    print('else')\n",
        "finally:\n",
        "    print('finish')"
      ]
    },
    {
      "cell_type": "markdown",
      "metadata": {
        "id": "w2oVKa3ajuqw"
      },
      "source": [
        "Class decorators"
      ]
    },
    {
      "cell_type": "code",
      "execution_count": null,
      "metadata": {
        "id": "AQJgxKRxjwqI"
      },
      "outputs": [],
      "source": [
        "import time\n",
        "\n",
        "def timeit(method):\n",
        "    def timed(*args, **kw):\n",
        "        ts = time.time()\n",
        "        result = method(*args, **kw)\n",
        "        te = time.time()\n",
        "        delta = (te - ts) * 1000\n",
        "        print(f'{method.__name__} took {delta} ms')\n",
        "        return result\n",
        "    return timed\n",
        "\n",
        "\n",
        "def time_all_methods(cls):\n",
        "    class NewCls:\n",
        "        def __init__(self, *args, **kwargs):\n",
        "            self._obj = cls(*args, **kwargs)\n",
        "        def __getattribute__(self, s):\n",
        "            try:\n",
        "                x = super().__getattribute__(s)\n",
        "            except AttributeError:\n",
        "                pass\n",
        "            else:\n",
        "                return x\n",
        "            attr = self._obj.__getattribute__(s)\n",
        "            if isinstance(attr, type(self.__init__)):\n",
        "                return timeit(attr)\n",
        "            else:\n",
        "                return attr\n",
        "    return NewCls\n",
        "\n",
        "\n",
        "@time_all_methods\n",
        "class Foo:\n",
        "    def func(self):\n",
        "        print('start')\n",
        "        time.sleep(0.56)\n",
        "        print('end')\n",
        "\n",
        "\n",
        "f = Foo()\n",
        "f.func()"
      ]
    },
    {
      "cell_type": "code",
      "execution_count": null,
      "metadata": {
        "id": "LvoGRJC8Hw5t"
      },
      "outputs": [],
      "source": [
        "class SelfCount:\n",
        "    __count = 0\n",
        "\n",
        "    def __init__(self):\n",
        "        SelfCount.__count += 1\n",
        "\n",
        "    def get_count(self):\n",
        "        return SelfCount.__count\n",
        "\n",
        "    def set_count(self, value):\n",
        "        return\n",
        "\n",
        "    def del_count(self):\n",
        "        return\n",
        "\n",
        "    def __del__(self):\n",
        "        SelfCount.__count -= 1\n",
        "\n",
        "    count = property(get_count, set_count, del_count)"
      ]
    }
  ],
  "metadata": {
    "colab": {
      "provenance": []
    },
    "kernelspec": {
      "display_name": "Python 3",
      "language": "python",
      "name": "python3"
    },
    "language_info": {
      "codemirror_mode": {
        "name": "ipython",
        "version": 3
      },
      "file_extension": ".py",
      "mimetype": "text/x-python",
      "name": "python",
      "nbconvert_exporter": "python",
      "pygments_lexer": "ipython3",
      "version": "3.8.5"
    },
    "toc": {
      "base_numbering": 1,
      "nav_menu": {},
      "number_sections": true,
      "sideBar": true,
      "skip_h1_title": false,
      "title_cell": "Table of Contents",
      "title_sidebar": "Contents",
      "toc_cell": false,
      "toc_position": {},
      "toc_section_display": true,
      "toc_window_display": true
    },
    "varInspector": {
      "cols": {
        "lenName": 16,
        "lenType": 16,
        "lenVar": 40
      },
      "kernels_config": {
        "python": {
          "delete_cmd_postfix": "",
          "delete_cmd_prefix": "del ",
          "library": "var_list.py",
          "varRefreshCmd": "print(var_dic_list())"
        },
        "r": {
          "delete_cmd_postfix": ") ",
          "delete_cmd_prefix": "rm(",
          "library": "var_list.r",
          "varRefreshCmd": "cat(var_dic_list()) "
        }
      },
      "types_to_exclude": [
        "module",
        "function",
        "builtin_function_or_method",
        "instance",
        "_Feature"
      ],
      "window_display": false
    }
  },
  "nbformat": 4,
  "nbformat_minor": 0
}