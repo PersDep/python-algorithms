{
 "cells": [
  {
   "cell_type": "markdown",
   "metadata": {},
   "source": [
    "### Самые распространенные методы решения задач на алгоритмы\n",
    "\n",
    "1. Метод скользящего окна (Sliding Window)\n",
    "2. Метод двух указателей (Two Pointers)\n",
    "3. [Нахождение цикла](https://ru.wikipedia.org/wiki/%D0%9D%D0%B0%D1%85%D0%BE%D0%B6%D0%B4%D0%B5%D0%BD%D0%B8%D0%B5_%D1%86%D0%B8%D0%BA%D0%BB%D0%B0) (Fast & Slow Pointers)\n",
    "4. Интервальное слияние (Merge Intervals)\n",
    "5. Цикличная сортировка (Cyclic Sort)\n",
    "6. In-place Reversal для LinkedList (In-place Reversal of a LinkedList)\n",
    "7. Поиск в ширину (Tree Breadth-First Search)\n",
    "8. Поиск в глубину (Tree Depth First Search)\n",
    "9. Две кучи (Two Heaps)\n",
    "10. Подмножества (Subsets)\n",
    "11. Модифицированный бинарный поиск (Modified Binary Search)\n",
    "12. Побитовое исключающее ИЛИ (Bitwise XOR)\n",
    "13. Наибольшие K элементов (Top K Elements)\n",
    "14. K-образное слияние (K-way Merge)\n",
    "15. Задача о рюкзаке 0-1 (0/1 Knapsack)\n",
    "16. Задача о неограниченном рюкзаке (Unbounded Knapsack)\n",
    "17. Числа Фибоначчи (Fibonacci Numbers)\n",
    "18. Наибольшая последовательность-палиндром (Palindromic Subsequence)\n",
    "19. Наибольшая общая подстрока (Longest Common Substring)\n",
    "20. Топологическая сортировка (Topological Sort)\n",
    "21. Чтение префиксного дерева (Trie Traversal)\n",
    "22. Количество островов в матрице (Number of Island)\n",
    "23. Метод проб и ошибок (Trial & Error)\n",
    "24. Система непересекающихся множеств (Union Find)"
   ]
  }
 ],
 "metadata": {
  "language_info": {
   "name": "python"
  }
 },
 "nbformat": 4,
 "nbformat_minor": 2
}
