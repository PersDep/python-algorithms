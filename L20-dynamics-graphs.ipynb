{
  "cells": [
    {
      "cell_type": "markdown",
      "metadata": {
        "id": "wCYckHVwEjia"
      },
      "source": [
        "# Dynamic Programming\n",
        "\n",
        "Dynamic programming is a method for solving complex problems by breaking them down into simpler subproblems. It is applicable to problems with a structure that resembles a set of overlapping subproblems, whose complexity is less than that of the original problem.\n",
        "\n",
        "The key idea: generally, to solve a given problem, it is necessary to solve its individual parts (subproblems), and then combine the solutions of the subproblems into one overall solution. Often, many of these subproblems are identical. The dynamic programming approach involves solving each subproblem only once, thereby reducing the number of computations. This is particularly useful in cases where the number of repeating subproblems is exponentially large."
      ]
    },
    {
      "cell_type": "markdown",
      "metadata": {
        "id": "-Wr-00NXEjib"
      },
      "source": [
        "At the top of a staircase containing \\( N \\) steps, there is a ball that starts jumping down to the base. The ball can jump to the next step, skip one step, or skip two steps. (For example, if the ball is on the 8th step, it can move to the 5th, 6th, or 7th step.) Determine the number of possible \"routes\" for the ball from the top to the ground.\n",
        "\n",
        "## Input Format\n",
        "\n",
        "A single number \\( 0 < N < 31 \\) is given.\n",
        "\n",
        "## Output Format\n",
        "\n",
        "Output a single number — the number of routes."
      ]
    },
    {
      "cell_type": "markdown",
      "metadata": {
        "id": "auJqP3zfEjib"
      },
      "source": [
        "Let's approach it using dynamics:"
      ]
    },
    {
      "cell_type": "code",
      "execution_count": 3,
      "metadata": {
        "colab": {
          "base_uri": "https://localhost:8080/"
        },
        "id": "keC7xIlxEjib",
        "outputId": "a366efd5-cd60-4928-b005-28e8e6f08421"
      },
      "outputs": [
        {
          "output_type": "stream",
          "name": "stdout",
          "text": [
            "20\n",
            "1\n",
            "2\n",
            "4\n",
            "7\n",
            "13\n",
            "24\n",
            "44\n",
            "81\n",
            "149\n",
            "274\n",
            "504\n",
            "927\n",
            "1705\n",
            "3136\n",
            "5768\n",
            "10609\n",
            "19513\n",
            "35890\n",
            "66012\n",
            "121415\n",
            "121415\n"
          ]
        }
      ],
      "source": [
        "n = int(input())\n",
        "\n",
        "# Let's create the list which will contain possible ways on EACH step\n",
        "ways_on_each_step = [0] * (n + 1)\n",
        "# step n will be the last one (the base of the stairs) and while reaching it we will accumulate all the possible ways\n",
        "\n",
        "ways_on_each_step[0] = 1\n",
        "\n",
        "# the key idea is to find all the ways for the current step\n",
        "# and by the end you will just automatically have all the ways\n",
        "for i in range(1, n + 1):\n",
        "  # adding number of ways on each step from the previous one, from which this current step could be reached\n",
        "  ways_on_each_step[i] += ways_on_each_step[i - 1]\n",
        "  if i > 1:\n",
        "    # adding number of ways on each step from the one before previous, from which this current step could be reached\n",
        "    ways_on_each_step[i] += ways_on_each_step[i - 2]\n",
        "  if i > 2:\n",
        "    # adding number of ways on each step from the one which is 3 steps back, from which this current step could be reached\n",
        "    ways_on_each_step[i] += ways_on_each_step[i - 3]\n",
        "  # we have summed up all the ways for the current step\n",
        "  print(ways_on_each_step[i])\n",
        "\n",
        "# we have all the ways accumulated\n",
        "print(ways_on_each_step[n])"
      ]
    },
    {
      "cell_type": "markdown",
      "metadata": {
        "id": "KwmeH9pqEjic"
      },
      "source": [
        "# Depth-First Search (DFS) <a name=\"dfs\"></a>\n",
        "\n",
        "A method for traversing a graph. Depth-first search (DFS) can be more accurately translated as \"search prioritizing depth first.\" Accordingly, the recursive search algorithm goes \"deep\" into the graph as much as possible. There are non-recursive variants of the algorithm that offload the call stack."
      ]
    },
    {
      "cell_type": "code",
      "execution_count": 5,
      "metadata": {
        "id": "xhcCU98SEjic"
      },
      "outputs": [],
      "source": [
        "graph = {\n",
        "    '5' : ['3', '7'],\n",
        "    '3' : ['2', '4'],\n",
        "    '7' : ['8'],\n",
        "    '2' : [],\n",
        "    '4' : ['8'],\n",
        "    '8' : []\n",
        "}"
      ]
    },
    {
      "cell_type": "code",
      "execution_count": 6,
      "metadata": {
        "colab": {
          "base_uri": "https://localhost:8080/"
        },
        "id": "nIHcVepyEjic",
        "outputId": "c2aedf52-7ae0-4ced-cc0d-c8c6a7a9156d"
      },
      "outputs": [
        {
          "output_type": "stream",
          "name": "stdout",
          "text": [
            "5\n",
            "3\n",
            "2\n",
            "4\n",
            "8\n",
            "7\n"
          ]
        }
      ],
      "source": [
        "import sys\n",
        "sys.setrecursionlimit(100000)\n",
        "\n",
        "def dfs(visited, graph, node):\n",
        "  if node not in visited:\n",
        "    print(node)\n",
        "    visited.add(node)\n",
        "    for neighbour in graph[node]:\n",
        "      dfs(visited, graph, neighbour)\n",
        "\n",
        "visited = set()\n",
        "dfs(visited, graph, '5')"
      ]
    },
    {
      "cell_type": "code",
      "execution_count": 11,
      "metadata": {
        "id": "5U2xtX8KEjic"
      },
      "outputs": [],
      "source": [
        "def convert_graph(graph):\n",
        "  new_graph = {}\n",
        "  for elem in graph:\n",
        "    new_graph[elem] = set(graph[elem])\n",
        "  return new_graph"
      ]
    },
    {
      "cell_type": "code",
      "execution_count": 12,
      "metadata": {
        "colab": {
          "base_uri": "https://localhost:8080/"
        },
        "id": "0GTbJHujEjic",
        "outputId": "ea8448ae-c869-4459-ebb5-f7aa4bb11dee"
      },
      "outputs": [
        {
          "output_type": "stream",
          "name": "stdout",
          "text": [
            "{'5': {'3', '7'}, '3': {'4', '2'}, '7': {'8'}, '2': set(), '4': {'8'}, '8': set()}\n"
          ]
        }
      ],
      "source": [
        "print(convert_graph(graph))"
      ]
    },
    {
      "cell_type": "code",
      "source": [
        "a = [1, 2, [11, 12, 13, 14], 4]\n",
        "b = a"
      ],
      "metadata": {
        "id": "d5v3TE4yOerG"
      },
      "execution_count": 13,
      "outputs": []
    },
    {
      "cell_type": "code",
      "source": [
        "b[1] = 10"
      ],
      "metadata": {
        "id": "Zer7O2C8Ok_0"
      },
      "execution_count": 14,
      "outputs": []
    },
    {
      "cell_type": "code",
      "source": [
        "a"
      ],
      "metadata": {
        "colab": {
          "base_uri": "https://localhost:8080/"
        },
        "id": "R-hirc-SOn0A",
        "outputId": "b498e5ca-92a4-4597-b827-65e93be971bb"
      },
      "execution_count": 15,
      "outputs": [
        {
          "output_type": "execute_result",
          "data": {
            "text/plain": [
              "[1, 10, [11, 12, 13, 14], 4]"
            ]
          },
          "metadata": {},
          "execution_count": 15
        }
      ]
    },
    {
      "cell_type": "code",
      "source": [
        "from copy import copy"
      ],
      "metadata": {
        "id": "Bu1pjv3xOpFW"
      },
      "execution_count": 16,
      "outputs": []
    },
    {
      "cell_type": "code",
      "source": [
        "a = [1, 2, [11, 12, 13, 14], 4]\n",
        "b = copy(a)"
      ],
      "metadata": {
        "id": "F51COUmIOrX4"
      },
      "execution_count": 17,
      "outputs": []
    },
    {
      "cell_type": "code",
      "source": [
        "b[1] = 10"
      ],
      "metadata": {
        "id": "4MtM4EzKOv_p"
      },
      "execution_count": 18,
      "outputs": []
    },
    {
      "cell_type": "code",
      "source": [
        "a"
      ],
      "metadata": {
        "colab": {
          "base_uri": "https://localhost:8080/"
        },
        "id": "o5i54bGDOxUh",
        "outputId": "5039dca0-d313-4474-b099-6a0e384d95d6"
      },
      "execution_count": 19,
      "outputs": [
        {
          "output_type": "execute_result",
          "data": {
            "text/plain": [
              "[1, 2, [11, 12, 13, 14], 4]"
            ]
          },
          "metadata": {},
          "execution_count": 19
        }
      ]
    },
    {
      "cell_type": "code",
      "source": [
        "b"
      ],
      "metadata": {
        "colab": {
          "base_uri": "https://localhost:8080/"
        },
        "id": "oimFBOYJOyOY",
        "outputId": "419a9008-6769-402c-a763-fb04314686f4"
      },
      "execution_count": 20,
      "outputs": [
        {
          "output_type": "execute_result",
          "data": {
            "text/plain": [
              "[1, 10, [11, 12, 13, 14], 4]"
            ]
          },
          "metadata": {},
          "execution_count": 20
        }
      ]
    },
    {
      "cell_type": "code",
      "source": [
        "b[2][2] = 3"
      ],
      "metadata": {
        "id": "3YcMn2J-OzT8"
      },
      "execution_count": 21,
      "outputs": []
    },
    {
      "cell_type": "code",
      "source": [
        "a"
      ],
      "metadata": {
        "colab": {
          "base_uri": "https://localhost:8080/"
        },
        "id": "K0ITbTFOO3zr",
        "outputId": "2f0a7fc4-e95e-46ba-d9aa-72223eaaa0e1"
      },
      "execution_count": 22,
      "outputs": [
        {
          "output_type": "execute_result",
          "data": {
            "text/plain": [
              "[1, 2, [11, 12, 3, 14], 4]"
            ]
          },
          "metadata": {},
          "execution_count": 22
        }
      ]
    },
    {
      "cell_type": "code",
      "source": [
        "a = [1, 2, [11, 12, 13, 14], 4]\n",
        "b = deepcopy(a)"
      ],
      "metadata": {
        "id": "jjC37ZMtO8-2"
      },
      "execution_count": 24,
      "outputs": []
    },
    {
      "cell_type": "code",
      "source": [
        "b[2][2] = 3"
      ],
      "metadata": {
        "id": "2HtZOEp5PAaa"
      },
      "execution_count": 25,
      "outputs": []
    },
    {
      "cell_type": "code",
      "source": [
        "a"
      ],
      "metadata": {
        "colab": {
          "base_uri": "https://localhost:8080/"
        },
        "id": "TLOjiQtgPC_M",
        "outputId": "5ed98583-b4f1-483d-86c8-fcd2d806ddc6"
      },
      "execution_count": 26,
      "outputs": [
        {
          "output_type": "execute_result",
          "data": {
            "text/plain": [
              "[1, 2, [11, 12, 13, 14], 4]"
            ]
          },
          "metadata": {},
          "execution_count": 26
        }
      ]
    },
    {
      "cell_type": "code",
      "source": [
        "b"
      ],
      "metadata": {
        "colab": {
          "base_uri": "https://localhost:8080/"
        },
        "id": "SqotRU28PDn4",
        "outputId": "9276f780-5722-45dc-fa1c-051c6f68ede3"
      },
      "execution_count": 27,
      "outputs": [
        {
          "output_type": "execute_result",
          "data": {
            "text/plain": [
              "[1, 2, [11, 12, 3, 14], 4]"
            ]
          },
          "metadata": {},
          "execution_count": 27
        }
      ]
    },
    {
      "cell_type": "code",
      "source": [
        "graph"
      ],
      "metadata": {
        "colab": {
          "base_uri": "https://localhost:8080/"
        },
        "id": "U-w-X2-OPzkj",
        "outputId": "cdb5c6e0-2639-4ce6-9a2b-b77ed70630e3"
      },
      "execution_count": 29,
      "outputs": [
        {
          "output_type": "execute_result",
          "data": {
            "text/plain": [
              "{'5': ['3', '7'], '3': ['2', '4'], '7': ['8'], '2': [], '4': ['8'], '8': []}"
            ]
          },
          "metadata": {},
          "execution_count": 29
        }
      ]
    },
    {
      "cell_type": "code",
      "execution_count": 28,
      "metadata": {
        "colab": {
          "base_uri": "https://localhost:8080/"
        },
        "id": "7DiYnpIbEjic",
        "outputId": "7facae84-15c0-4fe6-8b1d-8874f074d8f1"
      },
      "outputs": [
        {
          "output_type": "stream",
          "name": "stdout",
          "text": [
            "5\n",
            "Adding node  5  to the adjacency list for the neighbour 3\n",
            "3\n",
            "Adding node  3  to the adjacency list for the neighbour 2\n",
            "2\n",
            "Adding node  2  to the adjacency list for the neighbour 3\n",
            "Adding node  3  to the adjacency list for the neighbour 4\n",
            "4\n",
            "Adding node  4  to the adjacency list for the neighbour 8\n",
            "8\n",
            "Adding node  8  to the adjacency list for the neighbour 4\n",
            "Adding node  4  to the adjacency list for the neighbour 3\n",
            "Adding node  4  to the adjacency list for the neighbour 8\n",
            "Adding node  3  to the adjacency list for the neighbour 5\n",
            "Adding node  3  to the adjacency list for the neighbour 2\n",
            "Adding node  3  to the adjacency list for the neighbour 4\n",
            "Adding node  5  to the adjacency list for the neighbour 7\n",
            "7\n",
            "Adding node  7  to the adjacency list for the neighbour 8\n",
            "Adding node  7  to the adjacency list for the neighbour 5\n",
            "Adding node  5  to the adjacency list for the neighbour 3\n",
            "Adding node  5  to the adjacency list for the neighbour 7\n"
          ]
        }
      ],
      "source": [
        "from copy import deepcopy\n",
        "new_graph = deepcopy(graph)\n",
        "\n",
        "def filling(visited, graph, node):\n",
        "  if node not in visited:\n",
        "    print(node)\n",
        "    visited.add(node)\n",
        "    for neighbour in graph[node]:\n",
        "      print('Adding node ', node, ' to the adjacency list for the neighbour', neighbour)\n",
        "      graph[neighbour].append(node)\n",
        "      filling(visited, graph, neighbour)\n",
        "\n",
        "filling_visited = set()\n",
        "filling(filling_visited, new_graph, '5')"
      ]
    },
    {
      "cell_type": "code",
      "source": [
        "new_graph"
      ],
      "metadata": {
        "colab": {
          "base_uri": "https://localhost:8080/"
        },
        "id": "kE8jNScuP8Hh",
        "outputId": "5fdac14e-f721-489a-d72b-11e406de3c9d"
      },
      "execution_count": 30,
      "outputs": [
        {
          "output_type": "execute_result",
          "data": {
            "text/plain": [
              "{'5': ['3', '7', '3', '7'],\n",
              " '3': ['2', '4', '5', '2', '4', '5'],\n",
              " '7': ['8', '5', '5'],\n",
              " '2': ['3', '3'],\n",
              " '4': ['8', '3', '8', '3'],\n",
              " '8': ['4', '4', '7']}"
            ]
          },
          "metadata": {},
          "execution_count": 30
        }
      ]
    },
    {
      "cell_type": "code",
      "source": [
        "set_graph = convert_graph(new_graph)\n",
        "set_graph"
      ],
      "metadata": {
        "colab": {
          "base_uri": "https://localhost:8080/"
        },
        "id": "sChU5Pa-P93P",
        "outputId": "d83fc09c-6c50-4ab6-b863-c9de2679498d"
      },
      "execution_count": 31,
      "outputs": [
        {
          "output_type": "execute_result",
          "data": {
            "text/plain": [
              "{'5': {'3', '7'},\n",
              " '3': {'2', '4', '5'},\n",
              " '7': {'5', '8'},\n",
              " '2': {'3'},\n",
              " '4': {'3', '8'},\n",
              " '8': {'4', '7'}}"
            ]
          },
          "metadata": {},
          "execution_count": 31
        }
      ]
    },
    {
      "cell_type": "markdown",
      "metadata": {
        "id": "HULZgvK2Ejic"
      },
      "source": [
        "# Breadth-First Search (BFS) <a name=\"bfs\"></a>\n",
        "\n",
        "Unlike the previous algorithm, Breadth-first search (BFS) first explores the vertices at the same distance from the root, and only then does it go \"deeper.\""
      ]
    },
    {
      "cell_type": "code",
      "source": [
        "graph"
      ],
      "metadata": {
        "colab": {
          "base_uri": "https://localhost:8080/"
        },
        "id": "AFB72A3BNR8M",
        "outputId": "569e8fa2-475c-414d-d8a7-ba9f8d5bf229"
      },
      "execution_count": 10,
      "outputs": [
        {
          "output_type": "execute_result",
          "data": {
            "text/plain": [
              "{'5': ['3', '7'], '3': ['2', '4'], '7': ['8'], '2': [], '4': ['8'], '8': []}"
            ]
          },
          "metadata": {},
          "execution_count": 10
        }
      ]
    },
    {
      "cell_type": "code",
      "execution_count": 32,
      "metadata": {
        "colab": {
          "base_uri": "https://localhost:8080/"
        },
        "id": "6ED7cpxCEjic",
        "outputId": "9f9cccb7-aebc-446f-b4f4-05f49fae72d0"
      },
      "outputs": [
        {
          "output_type": "stream",
          "name": "stdout",
          "text": [
            "{'4', '8', '3', '7', '2'}\n"
          ]
        }
      ],
      "source": [
        "from collections import deque\n",
        "\n",
        "def bfs(graph, root):\n",
        "  # print(root)\n",
        "  visited = set()\n",
        "  queue = deque([root])\n",
        "  while queue:\n",
        "    node = queue.popleft()\n",
        "    for neighbour in graph[node]:\n",
        "      if neighbour not in visited:\n",
        "        visited.add(neighbour)\n",
        "        queue.append(neighbour)\n",
        "  return visited\n",
        "\n",
        "print(bfs(graph, '5'))"
      ]
    },
    {
      "cell_type": "code",
      "source": [
        "print(bfs(set_graph, '8'))"
      ],
      "metadata": {
        "colab": {
          "base_uri": "https://localhost:8080/"
        },
        "id": "HKmK_ADEQTfh",
        "outputId": "e6313376-1595-4ee2-87df-4bfef3fa4f11"
      },
      "execution_count": 33,
      "outputs": [
        {
          "output_type": "stream",
          "name": "stdout",
          "text": [
            "{'4', '8', '3', '7', '5', '2'}\n"
          ]
        }
      ]
    },
    {
      "cell_type": "code",
      "execution_count": null,
      "metadata": {
        "id": "ETPIVaYUEjic"
      },
      "outputs": [],
      "source": []
    },
    {
      "cell_type": "code",
      "execution_count": null,
      "metadata": {
        "id": "MDSidiAEEjid"
      },
      "outputs": [],
      "source": []
    },
    {
      "cell_type": "markdown",
      "metadata": {
        "id": "ID9zN9jnEjid"
      },
      "source": []
    },
    {
      "cell_type": "markdown",
      "metadata": {
        "id": "f_vIgMqwEjid"
      },
      "source": [
        "# Dijkstra's Algorithm\n",
        "\n",
        "Finds the shortest paths from one vertex of a graph to all the others. The algorithm only works for graphs without negative edges."
      ]
    },
    {
      "cell_type": "code",
      "execution_count": 34,
      "metadata": {
        "id": "RSLE98KjEjid"
      },
      "outputs": [],
      "source": [
        "distance_graph = {\n",
        "    'A': {'B': 5, 'D': 3, 'E': 12, 'F': 5},\n",
        "    'B': {'A': 5, 'D': 1, 'G': 2},\n",
        "    'C': {'G': 2, 'E': 1, 'F': 16},\n",
        "    'D': {'A': 3, 'B': 1, 'E': 1, 'G': 1},\n",
        "    'G': {'B': 2, 'C': 2, 'D': 1},\n",
        "    'E': {'A': 12, 'C': 1, 'D': 1, 'F': 2},\n",
        "    'F': {'A': 5, 'C': 16, 'E': 2}\n",
        "}"
      ]
    },
    {
      "cell_type": "code",
      "source": [
        "unvisited = {node : None for node in distance_graph}\n",
        "print(unvisited)"
      ],
      "metadata": {
        "colab": {
          "base_uri": "https://localhost:8080/"
        },
        "id": "Wl6m3n1VQ94e",
        "outputId": "ee25f0cd-c95d-44bd-e899-22cc688765bd"
      },
      "execution_count": 40,
      "outputs": [
        {
          "output_type": "stream",
          "name": "stdout",
          "text": [
            "{'A': None, 'B': None, 'C': None, 'D': None, 'G': None, 'E': None, 'F': None}\n"
          ]
        }
      ]
    },
    {
      "cell_type": "code",
      "source": [
        "current = 'B'\n",
        "currentDistance = 0\n",
        "unvisited[current] = currentDistance\n",
        "\n",
        "visited = {}\n",
        "\n",
        "while True:\n",
        "  for neighbour, distance in distance_graph[current].items():\n",
        "    if neighbour not in unvisited:\n",
        "      continue # skip iteration\n",
        "    print(neighbour, distance) # from node 'B'\n",
        "    newDistance = currentDistance + distance\n",
        "    if unvisited[neighbour] is None or unvisited[neighbour] > newDistance:\n",
        "      unvisited[neighbour] = newDistance\n",
        "  visited[current] = currentDistance\n",
        "  del unvisited[current]\n",
        "  if not unvisited: break\n",
        "  candidates = [node for node in unvisited.items() if node[1]]\n",
        "  current, currentDistance = sorted(candidates, key = lambda x : x[1])[0]\n",
        "\n",
        "print(visited)"
      ],
      "metadata": {
        "colab": {
          "base_uri": "https://localhost:8080/"
        },
        "id": "FhCyaQ9VRWEu",
        "outputId": "e0a75199-9536-48f3-c394-f2334a2711a5"
      },
      "execution_count": 42,
      "outputs": [
        {
          "output_type": "stream",
          "name": "stdout",
          "text": [
            "A 5\n",
            "D 1\n",
            "A 3\n",
            "E 1\n",
            "A 12\n",
            "C 1\n",
            "F 2\n",
            "F 16\n",
            "F 5\n",
            "{'B': 0, 'D': 1, 'E': 2, 'C': 3, 'A': 4, 'F': 4}\n"
          ]
        }
      ]
    },
    {
      "cell_type": "markdown",
      "metadata": {
        "id": "5Dg9H2DQEjid"
      },
      "source": [
        "# Let's solve a graph problem (graph traversal)"
      ]
    },
    {
      "cell_type": "markdown",
      "metadata": {
        "id": "QahVR_Y6Ejid"
      },
      "source": [
        "*By a step-by-step traversal of a graph* from a vertex $v$, we mean a sequence of vertices $u_1, \\, u_2, \\, \\ldots, \\, u_r$ such that:\n",
        "\n",
        "$\\circ$ $u_1 = u_r = v$,\n",
        "\n",
        "$\\circ$ Each vertex of the graph that is reachable from $v$ appears in it at least once, and\n",
        "\n",
        "$\\circ$ Between any two adjacent vertices of the sequence, there exists an edge in the graph.\n",
        "A connected undirected graph and one of its vertices $v$ are given.\n",
        "\n",
        "Output any step-by-step traversal of this graph.\n",
        "\n",
        "## Input format\n",
        "\n",
        "In the first line of the input file, the numbers $N$, $M$, and $v$ are given separated by a space --- the number of vertices and edges in the graph, and the starting vertex for the traversal ($1 \\leqslant N \\leqslant 100$, $0 \\leqslant M \\leqslant 10 \\, 000$, $1 \\leqslant v \\leqslant N$).\n",
        "The next $M$ lines contain two numbers $u_i$ and $v_i$ separated by a space ($1 \\leqslant u_i, \\, v_i \\leqslant N$); each such line means that there is an edge between vertices $u_i$ and $v_i$ in the graph.\n",
        "\n",
        "## Output format\n",
        "\n",
        "In the first line of the output file, print the number $r$ -- the number of vertices in the found step-by-step traversal ($1 \\leqslant r \\leqslant 10 \\, 000$; it is guaranteed that a traversal satisfying these constraints exists). In the second line, print the numbers $u_1, \\, u_2, \\, \\ldots, \\, u_r$ themselves, separated by a space."
      ]
    },
    {
      "cell_type": "code",
      "execution_count": null,
      "metadata": {
        "id": "s-sd7JpcEjid"
      },
      "outputs": [],
      "source": []
    }
  ],
  "metadata": {
    "language_info": {
      "name": "python"
    },
    "colab": {
      "provenance": []
    },
    "kernelspec": {
      "name": "python3",
      "display_name": "Python 3"
    }
  },
  "nbformat": 4,
  "nbformat_minor": 0
}