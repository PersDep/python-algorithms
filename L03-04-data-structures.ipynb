{
  "nbformat": 4,
  "nbformat_minor": 0,
  "metadata": {
    "colab": {
      "provenance": [],
      "collapsed_sections": [
        "_rehYX145nEk",
        "g4-XjayC8KO7"
      ]
    },
    "kernelspec": {
      "display_name": "Python 3",
      "language": "python",
      "name": "python3"
    }
  },
  "cells": [
    {
      "metadata": {
        "id": "s39SnnxrZxsx"
      },
      "cell_type": "markdown",
      "source": [
        "# Lecture 4: Python Data Structures\n"
      ]
    },
    {
      "metadata": {
        "id": "0mnOHaZpZ1CU"
      },
      "cell_type": "markdown",
      "source": [
        "## 4.1 Use lists and tuples"
      ]
    },
    {
      "metadata": {
        "id": "aCBZvOZn3V6D"
      },
      "cell_type": "markdown",
      "source": [
        "### Sequences\n",
        "Lists, tuples, and strings are all Python sequences, and share many of the same methods."
      ]
    },
    {
      "metadata": {
        "id": "MgQzM2FbzhpW"
      },
      "cell_type": "markdown",
      "source": [
        "### Creating an empty list"
      ]
    },
    {
      "metadata": {
        "id": "1gUdm3jfzlCB",
        "outputId": "02ee06a6-8649-4c65-d8a4-5de1b117e353",
        "colab": {
          "base_uri": "https://localhost:8080/"
        }
      },
      "cell_type": "code",
      "source": [
        "empty = []\n",
        "empty"
      ],
      "execution_count": null,
      "outputs": [
        {
          "output_type": "execute_result",
          "data": {
            "text/plain": [
              "[]"
            ]
          },
          "metadata": {},
          "execution_count": 1
        }
      ]
    },
    {
      "metadata": {
        "id": "fLx7Rtstz3Pn"
      },
      "cell_type": "markdown",
      "source": [
        "### Using square brackets with initial values"
      ]
    },
    {
      "metadata": {
        "id": "X6_VTC9moTAM",
        "outputId": "b15b69a1-ab74-4037-ae9d-46a162a46885",
        "colab": {
          "base_uri": "https://localhost:8080/"
        }
      },
      "cell_type": "code",
      "source": [
        "numbers = [1, 2, 3]\n",
        "numbers\n"
      ],
      "execution_count": null,
      "outputs": [
        {
          "output_type": "execute_result",
          "data": {
            "text/plain": [
              "[1, 2, 3]"
            ]
          },
          "metadata": {},
          "execution_count": 2
        }
      ]
    },
    {
      "cell_type": "code",
      "source": [
        "numbers.append(4)"
      ],
      "metadata": {
        "id": "xJ-KwEXsfG6-"
      },
      "execution_count": null,
      "outputs": []
    },
    {
      "cell_type": "code",
      "source": [
        "numbers"
      ],
      "metadata": {
        "colab": {
          "base_uri": "https://localhost:8080/"
        },
        "id": "XElCg966fJcx",
        "outputId": "17b1a303-5534-45fe-ca4f-1f8f4ecc52a9"
      },
      "execution_count": null,
      "outputs": [
        {
          "output_type": "execute_result",
          "data": {
            "text/plain": [
              "[1, 2, 3, 4]"
            ]
          },
          "metadata": {},
          "execution_count": 4
        }
      ]
    },
    {
      "cell_type": "code",
      "source": [
        "numbers.pop()"
      ],
      "metadata": {
        "colab": {
          "base_uri": "https://localhost:8080/"
        },
        "id": "mAOQTuzPfK9P",
        "outputId": "cdc5c622-6243-4dae-8795-cbdb6c99fd51"
      },
      "execution_count": null,
      "outputs": [
        {
          "output_type": "execute_result",
          "data": {
            "text/plain": [
              "4"
            ]
          },
          "metadata": {},
          "execution_count": 5
        }
      ]
    },
    {
      "cell_type": "code",
      "source": [
        "numbers"
      ],
      "metadata": {
        "colab": {
          "base_uri": "https://localhost:8080/"
        },
        "id": "ihxlW8rwfMod",
        "outputId": "d8df8e6a-829f-4bfc-c8ff-946d97fa7ff8"
      },
      "execution_count": null,
      "outputs": [
        {
          "output_type": "execute_result",
          "data": {
            "text/plain": [
              "[1, 2, 3]"
            ]
          },
          "metadata": {},
          "execution_count": 6
        }
      ]
    },
    {
      "cell_type": "code",
      "source": [
        "del numbers[1]"
      ],
      "metadata": {
        "id": "ZVRFAJaTfRhs"
      },
      "execution_count": null,
      "outputs": []
    },
    {
      "cell_type": "code",
      "source": [
        "numbers"
      ],
      "metadata": {
        "colab": {
          "base_uri": "https://localhost:8080/"
        },
        "id": "GybtoiBtfWlu",
        "outputId": "ac81ed82-3740-4a57-f1e9-c7dbe634801b"
      },
      "execution_count": null,
      "outputs": [
        {
          "output_type": "execute_result",
          "data": {
            "text/plain": [
              "[1, 3]"
            ]
          },
          "metadata": {},
          "execution_count": 8
        }
      ]
    },
    {
      "cell_type": "code",
      "source": [
        "numbers.insert(0, 10)\n",
        "numbers"
      ],
      "metadata": {
        "colab": {
          "base_uri": "https://localhost:8080/"
        },
        "id": "WJxohJ9QfqO0",
        "outputId": "78b789d5-a0a5-43ec-8a9f-569ab667d37b"
      },
      "execution_count": null,
      "outputs": [
        {
          "output_type": "execute_result",
          "data": {
            "text/plain": [
              "[10, 10, 1, 3]"
            ]
          },
          "metadata": {},
          "execution_count": 10
        }
      ]
    },
    {
      "cell_type": "code",
      "source": [
        "numbers.insert(2, 11)\n",
        "numbers"
      ],
      "metadata": {
        "colab": {
          "base_uri": "https://localhost:8080/"
        },
        "id": "-ItUsml3f2nl",
        "outputId": "bb8bc753-bb05-4eac-e578-3d95a398bdaa"
      },
      "execution_count": null,
      "outputs": [
        {
          "output_type": "execute_result",
          "data": {
            "text/plain": [
              "[10, 10, 11, 1, 3]"
            ]
          },
          "metadata": {},
          "execution_count": 11
        }
      ]
    },
    {
      "cell_type": "code",
      "source": [
        "%%time\n",
        "\n",
        "one_more_list = list(range(10 * 1000 * 1000))\n",
        "# [0 .. 9 999 999]"
      ],
      "metadata": {
        "colab": {
          "base_uri": "https://localhost:8080/"
        },
        "id": "TyOcIOXvl2lj",
        "outputId": "08d48e3f-0af5-4b30-bf63-67fc3039b44d"
      },
      "execution_count": null,
      "outputs": [
        {
          "output_type": "stream",
          "name": "stdout",
          "text": [
            "Wall time: 121 ms\n"
          ]
        }
      ]
    },
    {
      "cell_type": "code",
      "source": [
        "%%time\n",
        "# list comprehension\n",
        "\n",
        "my_list = [i + 200 for i in range(10 * 1000 * 1000)]"
      ],
      "metadata": {
        "colab": {
          "base_uri": "https://localhost:8080/"
        },
        "id": "0tnSh0p9k9Uk",
        "outputId": "b5ca216b-5cf6-41d1-d642-f331e3fd6548"
      },
      "execution_count": null,
      "outputs": [
        {
          "output_type": "stream",
          "name": "stdout",
          "text": [
            "Wall time: 569 ms\n"
          ]
        }
      ]
    },
    {
      "cell_type": "code",
      "source": [
        "%%time\n",
        "\n",
        "big_list = []\n",
        "for i in range(10 * 1000 * 1000):\n",
        "  big_list.append(i + 200)"
      ],
      "metadata": {
        "colab": {
          "base_uri": "https://localhost:8080/"
        },
        "id": "zyiDGyV2gEEt",
        "outputId": "7983130c-4b1e-48d8-e811-98e5b157a0b5"
      },
      "execution_count": null,
      "outputs": [
        {
          "output_type": "stream",
          "name": "stdout",
          "text": [
            "Wall time: 1.16 s\n"
          ]
        }
      ]
    },
    {
      "cell_type": "code",
      "source": [
        "big_list == my_list"
      ],
      "metadata": {
        "colab": {
          "base_uri": "https://localhost:8080/"
        },
        "id": "5BvT8lV1lZy5",
        "outputId": "72ee8ae8-6d98-4d52-e43a-2900b217da99"
      },
      "execution_count": null,
      "outputs": [
        {
          "output_type": "execute_result",
          "data": {
            "text/plain": [
              "True"
            ]
          },
          "metadata": {},
          "execution_count": 36
        }
      ]
    },
    {
      "cell_type": "code",
      "source": [
        "%%time\n",
        "\n",
        "for i in range(10 * 1000 * 1000):\n",
        "  big_list.pop()"
      ],
      "metadata": {
        "colab": {
          "base_uri": "https://localhost:8080/"
        },
        "id": "8MiI1vETgB7y",
        "outputId": "913c48c9-eb22-497f-8736-9c3bc22b298d"
      },
      "execution_count": null,
      "outputs": [
        {
          "output_type": "stream",
          "name": "stdout",
          "text": [
            "Wall time: 640 ms\n"
          ]
        }
      ]
    },
    {
      "cell_type": "code",
      "source": [
        "%%time\n",
        "\n",
        "for i in range(1000):\n",
        "  big_list.remove(i + 77777) # remove deletes by value"
      ],
      "metadata": {
        "colab": {
          "base_uri": "https://localhost:8080/"
        },
        "id": "St3MKNjtha3H",
        "outputId": "8b2a4169-74c2-4fec-cea3-7cddc8a0dc0d"
      },
      "execution_count": null,
      "outputs": [
        {
          "output_type": "stream",
          "name": "stdout",
          "text": [
            "Wall time: 11.3 s\n"
          ]
        }
      ]
    },
    {
      "cell_type": "code",
      "source": [
        "%%time\n",
        "\n",
        "for i in range(100):\n",
        "  del big_list[i + 77777] # del deletes by index"
      ],
      "metadata": {
        "colab": {
          "base_uri": "https://localhost:8080/"
        },
        "id": "pTODDJKggine",
        "outputId": "1b19fe82-6f0c-4805-a7af-cb33482fb3fd"
      },
      "execution_count": null,
      "outputs": [
        {
          "output_type": "stream",
          "name": "stdout",
          "text": [
            "Wall time: 849 ms\n"
          ]
        }
      ]
    },
    {
      "cell_type": "code",
      "source": [
        "%%time\n",
        "\n",
        "for i in range(100):\n",
        "  big_list.pop(i + 77777) # pop deletes by index"
      ],
      "metadata": {
        "colab": {
          "base_uri": "https://localhost:8080/"
        },
        "id": "ma9zfxbKxskv",
        "outputId": "f2d121a8-a819-4151-f8dc-6c076ad49162"
      },
      "execution_count": null,
      "outputs": [
        {
          "output_type": "stream",
          "name": "stdout",
          "text": [
            "Wall time: 864 ms\n"
          ]
        }
      ]
    },
    {
      "cell_type": "code",
      "source": [
        "%%time\n",
        "\n",
        "for i in range(1000 * 1000):\n",
        "  big_list[i + 88888] = -1"
      ],
      "metadata": {
        "colab": {
          "base_uri": "https://localhost:8080/"
        },
        "id": "IurYWKpjoL7A",
        "outputId": "eaa6c1bd-83bf-435b-b359-4e6c60252665"
      },
      "execution_count": null,
      "outputs": [
        {
          "output_type": "stream",
          "name": "stdout",
          "text": [
            "Wall time: 71.7 ms\n"
          ]
        }
      ]
    },
    {
      "cell_type": "code",
      "source": [
        "%%time\n",
        "\n",
        "for i in range(1000 * 1000):\n",
        "  big_list[i + 88888] = \"abcde\""
      ],
      "metadata": {
        "colab": {
          "base_uri": "https://localhost:8080/"
        },
        "id": "TBG2zMKvojP1",
        "outputId": "fedbeff0-1cf5-4d78-ef3a-a5510c42d33b"
      },
      "execution_count": null,
      "outputs": [
        {
          "output_type": "stream",
          "name": "stdout",
          "text": [
            "Wall time: 63.3 ms\n"
          ]
        }
      ]
    },
    {
      "cell_type": "code",
      "source": [
        "%%time\n",
        "\n",
        "for i in range(1000 * 1000):\n",
        "  big_list[i + 88888] = (1, 2, 3, 4, 5)"
      ],
      "metadata": {
        "colab": {
          "base_uri": "https://localhost:8080/"
        },
        "id": "h2aWpUXbr78E",
        "outputId": "15ee40d3-e023-40d3-dfff-06303b213598"
      },
      "execution_count": null,
      "outputs": [
        {
          "output_type": "stream",
          "name": "stdout",
          "text": [
            "Wall time: 87.5 ms\n"
          ]
        }
      ]
    },
    {
      "cell_type": "code",
      "source": [
        "# 1000 ms == 1 s\n",
        "# ms == milliseconds\n",
        "# s == seconds"
      ],
      "metadata": {
        "id": "gL6RzyfUsFNH"
      },
      "execution_count": null,
      "outputs": []
    },
    {
      "cell_type": "code",
      "source": [
        "4 == 4"
      ],
      "metadata": {
        "colab": {
          "base_uri": "https://localhost:8080/"
        },
        "id": "vD4Un8MasMsz",
        "outputId": "f1abf29b-143a-486a-ea8b-f32cd7dde396"
      },
      "execution_count": null,
      "outputs": [
        {
          "output_type": "execute_result",
          "data": {
            "text/plain": [
              "True"
            ]
          },
          "metadata": {},
          "execution_count": 123
        }
      ]
    },
    {
      "cell_type": "code",
      "source": [
        "x = 4"
      ],
      "metadata": {
        "id": "aM_MBQWxsOhV"
      },
      "execution_count": null,
      "outputs": []
    },
    {
      "cell_type": "code",
      "source": [
        "%%time\n",
        "\n",
        "for i in range(1000 * 1000):\n",
        "  big_list[i + 88888] = [1, 2, 3, 4, 5]"
      ],
      "metadata": {
        "colab": {
          "base_uri": "https://localhost:8080/"
        },
        "id": "Emqak_fDovbN",
        "outputId": "012fe87f-89a8-4adc-c33a-deba29996de6"
      },
      "execution_count": null,
      "outputs": [
        {
          "output_type": "stream",
          "name": "stdout",
          "text": [
            "Wall time: 1.88 s\n"
          ]
        }
      ]
    },
    {
      "cell_type": "code",
      "source": [
        "%%time\n",
        "\n",
        "for i in range(1000):\n",
        "  big_list.insert(i + 55555, i) # i + 55555 -- index ; i is a value"
      ],
      "metadata": {
        "colab": {
          "base_uri": "https://localhost:8080/"
        },
        "id": "kodta_P7g7Q7",
        "outputId": "f326c45e-c14e-4ef9-e481-658d49a04c82"
      },
      "execution_count": null,
      "outputs": [
        {
          "output_type": "stream",
          "name": "stdout",
          "text": [
            "Wall time: 13.1 s\n"
          ]
        }
      ]
    },
    {
      "cell_type": "code",
      "source": [
        "len(big_list)"
      ],
      "metadata": {
        "colab": {
          "base_uri": "https://localhost:8080/"
        },
        "id": "jT9YwVbWhmSa",
        "outputId": "627afe70-6471-4685-e0fd-3fc5483e6c1f"
      },
      "execution_count": null,
      "outputs": [
        {
          "output_type": "execute_result",
          "data": {
            "text/plain": [
              "10000000"
            ]
          },
          "metadata": {},
          "execution_count": 21
        }
      ]
    },
    {
      "cell_type": "code",
      "source": [
        "a = [1, 2, 3, 4, 5]"
      ],
      "metadata": {
        "id": "79i--TQbjKQJ"
      },
      "execution_count": null,
      "outputs": []
    },
    {
      "cell_type": "code",
      "source": [
        "a.insert(2, 10) # 2 -- index; 10 -- value"
      ],
      "metadata": {
        "id": "meaj44EjjMWf"
      },
      "execution_count": null,
      "outputs": []
    },
    {
      "cell_type": "code",
      "source": [
        "a"
      ],
      "metadata": {
        "colab": {
          "base_uri": "https://localhost:8080/"
        },
        "id": "d5d5-GjCjPAe",
        "outputId": "c5f3bd95-5ece-4b96-d070-77f5fe61663a"
      },
      "execution_count": null,
      "outputs": [
        {
          "output_type": "execute_result",
          "data": {
            "text/plain": [
              "[1, 2, 10, 3, 4, 5]"
            ]
          },
          "metadata": {},
          "execution_count": 32
        }
      ]
    },
    {
      "metadata": {
        "id": "RN5dAwcv4EwQ"
      },
      "cell_type": "markdown",
      "source": [
        "### Casting an iterable\n",
        "Any iterable can be cast to a list"
      ]
    },
    {
      "metadata": {
        "id": "IWCOdiiJ4Iv5",
        "outputId": "25075626-ca9b-4ed6-f069-f053e0bd0187",
        "colab": {
          "base_uri": "https://localhost:8080/"
        }
      },
      "cell_type": "code",
      "source": [
        "numbers = list(range(10))\n",
        "numbers"
      ],
      "execution_count": null,
      "outputs": [
        {
          "output_type": "execute_result",
          "data": {
            "text/plain": [
              "[0, 1, 2, 3, 4, 5, 6, 7, 8, 9]"
            ]
          },
          "metadata": {},
          "execution_count": 37
        }
      ]
    },
    {
      "metadata": {
        "id": "m7FQdEVcAMJl"
      },
      "cell_type": "markdown",
      "source": [
        "### Creating using multiplication"
      ]
    },
    {
      "cell_type": "code",
      "source": [
        "10 * 10"
      ],
      "metadata": {
        "colab": {
          "base_uri": "https://localhost:8080/"
        },
        "id": "Ph9TshpOmW1z",
        "outputId": "431eea31-7321-4f13-f9ff-0bc016c95403"
      },
      "execution_count": null,
      "outputs": [
        {
          "output_type": "execute_result",
          "data": {
            "text/plain": [
              "100"
            ]
          },
          "metadata": {},
          "execution_count": 48
        }
      ]
    },
    {
      "metadata": {
        "id": "lanCHsNZATqK",
        "outputId": "3e7c7301-f2dd-42d0-a79e-7bbf4b91d7e7",
        "colab": {
          "base_uri": "https://localhost:8080/"
        }
      },
      "cell_type": "code",
      "source": [
        "num_players = 10\n",
        "scores = [0] * num_players\n",
        "scores"
      ],
      "execution_count": null,
      "outputs": [
        {
          "output_type": "execute_result",
          "data": {
            "text/plain": [
              "[0, 0, 0, 0, 0, 0, 0, 0, 0, 0]"
            ]
          },
          "metadata": {},
          "execution_count": 46
        }
      ]
    },
    {
      "cell_type": "code",
      "source": [
        "type([0])"
      ],
      "metadata": {
        "colab": {
          "base_uri": "https://localhost:8080/"
        },
        "id": "bMQdlbkamiF7",
        "outputId": "1b6bc6c4-1962-4c60-9cd3-9e1f1b8932d1"
      },
      "execution_count": null,
      "outputs": [
        {
          "output_type": "execute_result",
          "data": {
            "text/plain": [
              "list"
            ]
          },
          "metadata": {},
          "execution_count": 49
        }
      ]
    },
    {
      "cell_type": "code",
      "source": [
        "type(num_players)"
      ],
      "metadata": {
        "colab": {
          "base_uri": "https://localhost:8080/"
        },
        "id": "vH7Jin8Mmh0r",
        "outputId": "bb43a7f3-3360-4e95-a5ff-a3ac9e518382"
      },
      "execution_count": null,
      "outputs": [
        {
          "output_type": "execute_result",
          "data": {
            "text/plain": [
              "int"
            ]
          },
          "metadata": {},
          "execution_count": 50
        }
      ]
    },
    {
      "cell_type": "code",
      "source": [
        "type([0] * num_players)"
      ],
      "metadata": {
        "colab": {
          "base_uri": "https://localhost:8080/"
        },
        "id": "CY_6EN_gmvLo",
        "outputId": "a54b08f8-9ae1-44d3-cd5d-cde2c2226e1f"
      },
      "execution_count": null,
      "outputs": [
        {
          "output_type": "execute_result",
          "data": {
            "text/plain": [
              "list"
            ]
          },
          "metadata": {},
          "execution_count": 51
        }
      ]
    },
    {
      "cell_type": "code",
      "source": [
        "[1, 2] * 10 # repeat the list 10 times"
      ],
      "metadata": {
        "colab": {
          "base_uri": "https://localhost:8080/"
        },
        "id": "WFGVxedgmTu4",
        "outputId": "664a1fdc-cab6-4f03-a6b7-dda9a508d6a5"
      },
      "execution_count": null,
      "outputs": [
        {
          "output_type": "execute_result",
          "data": {
            "text/plain": [
              "[1, 2, 1, 2, 1, 2, 1, 2, 1, 2, 1, 2, 1, 2, 1, 2, 1, 2, 1, 2]"
            ]
          },
          "metadata": {},
          "execution_count": 54
        }
      ]
    },
    {
      "cell_type": "code",
      "source": [
        "[1, 2, 3] + [11, 12, 13] # [1, 2, 3, 11, 12, 13]; list + list = list (which is concatenation of the lists)"
      ],
      "metadata": {
        "colab": {
          "base_uri": "https://localhost:8080/"
        },
        "id": "8Yrhh-NNm4FD",
        "outputId": "86993739-377c-4629-d457-7ec706b21d6c"
      },
      "execution_count": null,
      "outputs": [
        {
          "output_type": "execute_result",
          "data": {
            "text/plain": [
              "[1, 2, 3, 11, 12, 13]"
            ]
          },
          "metadata": {},
          "execution_count": 53
        }
      ]
    },
    {
      "metadata": {
        "id": "h9l7kUOC43iL"
      },
      "cell_type": "markdown",
      "source": [
        "### Mixing data types\n",
        "Lists can contain multple data types"
      ]
    },
    {
      "metadata": {
        "id": "jBqfcq6Q4-Yl",
        "outputId": "7a1dd4f7-9360-40a9-dad5-99c03e48c9aa",
        "colab": {
          "base_uri": "https://localhost:8080/"
        }
      },
      "cell_type": "code",
      "source": [
        "mixed = ['a', 1, 2.0, [13], {}]\n",
        "mixed"
      ],
      "execution_count": null,
      "outputs": [
        {
          "output_type": "execute_result",
          "data": {
            "text/plain": [
              "['a', 1, 2.0, [13], {}]"
            ]
          },
          "metadata": {},
          "execution_count": 58
        }
      ]
    },
    {
      "cell_type": "code",
      "source": [
        "for elem in mixed:\n",
        "  print(type(elem))"
      ],
      "metadata": {
        "colab": {
          "base_uri": "https://localhost:8080/"
        },
        "id": "95iFNaO-nXME",
        "outputId": "2e22d907-5a5c-46df-a2a7-636945b581c4"
      },
      "execution_count": null,
      "outputs": [
        {
          "output_type": "stream",
          "name": "stdout",
          "text": [
            "<class 'str'>\n",
            "<class 'int'>\n",
            "<class 'float'>\n",
            "<class 'list'>\n",
            "<class 'dict'>\n"
          ]
        }
      ]
    },
    {
      "cell_type": "code",
      "source": [
        "a = \"abcde\""
      ],
      "metadata": {
        "id": "yAqWuguXo4Sq"
      },
      "execution_count": null,
      "outputs": []
    },
    {
      "cell_type": "code",
      "source": [
        "b = [1, 2, 3, 4]"
      ],
      "metadata": {
        "id": "19RKMGMpo7SD"
      },
      "execution_count": null,
      "outputs": []
    },
    {
      "cell_type": "code",
      "source": [
        "a[2]"
      ],
      "metadata": {
        "colab": {
          "base_uri": "https://localhost:8080/"
        },
        "id": "2uBGieCqo9vB",
        "outputId": "a523ecb9-f4ac-4608-b449-878f7875c5fd"
      },
      "execution_count": null,
      "outputs": [
        {
          "output_type": "execute_result",
          "data": {
            "text/plain": [
              "'c'"
            ]
          },
          "metadata": {},
          "execution_count": 77
        }
      ]
    },
    {
      "cell_type": "code",
      "source": [
        "b[2]"
      ],
      "metadata": {
        "colab": {
          "base_uri": "https://localhost:8080/"
        },
        "id": "EHqX11-Eo_Vg",
        "outputId": "78a5d443-16fa-4e3d-bf41-71209efb3313"
      },
      "execution_count": null,
      "outputs": [
        {
          "output_type": "execute_result",
          "data": {
            "text/plain": [
              "3"
            ]
          },
          "metadata": {},
          "execution_count": 78
        }
      ]
    },
    {
      "cell_type": "code",
      "source": [
        "a[2] = 'f'"
      ],
      "metadata": {
        "colab": {
          "base_uri": "https://localhost:8080/",
          "height": 141
        },
        "id": "TsGty8nApAyI",
        "outputId": "7151a3c9-249b-4a58-f594-54b8f5dc6dbc"
      },
      "execution_count": null,
      "outputs": [
        {
          "output_type": "error",
          "ename": "TypeError",
          "evalue": "'str' object does not support item assignment",
          "traceback": [
            "\u001b[1;31m---------------------------------------------------------------------------\u001b[0m",
            "\u001b[1;31mTypeError\u001b[0m                                 Traceback (most recent call last)",
            "\u001b[1;32mC:\\Temp/ipykernel_17448/1566897399.py\u001b[0m in \u001b[0;36m<module>\u001b[1;34m\u001b[0m\n\u001b[1;32m----> 1\u001b[1;33m \u001b[0ma\u001b[0m\u001b[1;33m[\u001b[0m\u001b[1;36m2\u001b[0m\u001b[1;33m]\u001b[0m \u001b[1;33m=\u001b[0m \u001b[1;34m'f'\u001b[0m\u001b[1;33m\u001b[0m\u001b[1;33m\u001b[0m\u001b[0m\n\u001b[0m",
            "\u001b[1;31mTypeError\u001b[0m: 'str' object does not support item assignment"
          ]
        }
      ]
    },
    {
      "cell_type": "code",
      "source": [
        "c = a.replace('c', 'f')"
      ],
      "metadata": {
        "id": "U1LDBlXmpLuF"
      },
      "execution_count": null,
      "outputs": []
    },
    {
      "cell_type": "code",
      "source": [
        "a"
      ],
      "metadata": {
        "colab": {
          "base_uri": "https://localhost:8080/"
        },
        "id": "PjGBvOJnpS_K",
        "outputId": "6c668064-81cc-4a1c-fc8c-0240af968f12"
      },
      "execution_count": null,
      "outputs": [
        {
          "output_type": "execute_result",
          "data": {
            "text/plain": [
              "'abcde'"
            ]
          },
          "metadata": {},
          "execution_count": 86
        }
      ]
    },
    {
      "cell_type": "code",
      "source": [
        "c"
      ],
      "metadata": {
        "colab": {
          "base_uri": "https://localhost:8080/"
        },
        "id": "SRFQq6vwpYuI",
        "outputId": "db38a2ea-536a-425a-cbb9-14e136ac8056"
      },
      "execution_count": null,
      "outputs": [
        {
          "output_type": "execute_result",
          "data": {
            "text/plain": [
              "'abfde'"
            ]
          },
          "metadata": {},
          "execution_count": 87
        }
      ]
    },
    {
      "cell_type": "code",
      "source": [
        "b[2] = 10"
      ],
      "metadata": {
        "id": "cPMHuyaypEJd"
      },
      "execution_count": null,
      "outputs": []
    },
    {
      "cell_type": "code",
      "source": [
        "#assignment\n",
        "\n",
        "d = b # we want d to be equal to b. This means: d is now referencing the same memory as b"
      ],
      "metadata": {
        "id": "Utv1K4Sppa0F"
      },
      "execution_count": null,
      "outputs": []
    },
    {
      "cell_type": "code",
      "source": [
        "a = c"
      ],
      "metadata": {
        "id": "0vFxrAbGqpIA"
      },
      "execution_count": null,
      "outputs": []
    },
    {
      "cell_type": "code",
      "source": [
        "a is c"
      ],
      "metadata": {
        "colab": {
          "base_uri": "https://localhost:8080/"
        },
        "id": "0vZ2T-6lqqZG",
        "outputId": "86284397-1f0e-4e89-c10c-8de0c6773c13"
      },
      "execution_count": null,
      "outputs": [
        {
          "output_type": "execute_result",
          "data": {
            "text/plain": [
              "True"
            ]
          },
          "metadata": {},
          "execution_count": 101
        }
      ]
    },
    {
      "cell_type": "code",
      "source": [
        "a"
      ],
      "metadata": {
        "colab": {
          "base_uri": "https://localhost:8080/"
        },
        "id": "hGv1Yltdqvbg",
        "outputId": "9fdec4b6-2fef-40f1-fb63-858c92289cd0"
      },
      "execution_count": null,
      "outputs": [
        {
          "output_type": "execute_result",
          "data": {
            "text/plain": [
              "'abfde'"
            ]
          },
          "metadata": {},
          "execution_count": 102
        }
      ]
    },
    {
      "cell_type": "code",
      "source": [
        "c"
      ],
      "metadata": {
        "colab": {
          "base_uri": "https://localhost:8080/"
        },
        "id": "Ln6nfP-Yqv94",
        "outputId": "3c7491c3-cb17-490b-9bd6-ca7bcea3f4c5"
      },
      "execution_count": null,
      "outputs": [
        {
          "output_type": "execute_result",
          "data": {
            "text/plain": [
              "'abfde'"
            ]
          },
          "metadata": {},
          "execution_count": 103
        }
      ]
    },
    {
      "cell_type": "code",
      "source": [
        "c = c.replace('f', 'w') # it didn't change the object (memory) referenced by c. It created new object and referenced new memory by name c"
      ],
      "metadata": {
        "id": "FvRofFe8qtTJ"
      },
      "execution_count": null,
      "outputs": []
    },
    {
      "cell_type": "code",
      "source": [
        "a"
      ],
      "metadata": {
        "colab": {
          "base_uri": "https://localhost:8080/"
        },
        "id": "kX6ZbLZAq1vy",
        "outputId": "06305d24-46b2-4fd4-e4ba-4393edfe4d79"
      },
      "execution_count": null,
      "outputs": [
        {
          "output_type": "execute_result",
          "data": {
            "text/plain": [
              "'abfde'"
            ]
          },
          "metadata": {},
          "execution_count": 105
        }
      ]
    },
    {
      "cell_type": "code",
      "source": [
        "c"
      ],
      "metadata": {
        "colab": {
          "base_uri": "https://localhost:8080/"
        },
        "id": "ZxuE-43Yq3is",
        "outputId": "976444f3-b770-48a0-af4f-317964eaadcc"
      },
      "execution_count": null,
      "outputs": [
        {
          "output_type": "execute_result",
          "data": {
            "text/plain": [
              "'abwde'"
            ]
          },
          "metadata": {},
          "execution_count": 106
        }
      ]
    },
    {
      "cell_type": "code",
      "source": [
        "a is c"
      ],
      "metadata": {
        "colab": {
          "base_uri": "https://localhost:8080/"
        },
        "id": "sOxGMyctq4JG",
        "outputId": "87ee9a29-4567-42df-e0c8-8b71acd14230"
      },
      "execution_count": null,
      "outputs": [
        {
          "output_type": "execute_result",
          "data": {
            "text/plain": [
              "False"
            ]
          },
          "metadata": {},
          "execution_count": 107
        }
      ]
    },
    {
      "cell_type": "code",
      "source": [
        "id(a)"
      ],
      "metadata": {
        "colab": {
          "base_uri": "https://localhost:8080/"
        },
        "id": "qQ8AWfd9q5Ho",
        "outputId": "7a553ec5-8c0c-4e76-ec1d-c7d82c3b8f1f"
      },
      "execution_count": null,
      "outputs": [
        {
          "output_type": "execute_result",
          "data": {
            "text/plain": [
              "1873567480496"
            ]
          },
          "metadata": {},
          "execution_count": 108
        }
      ]
    },
    {
      "cell_type": "code",
      "source": [
        "id(c)"
      ],
      "metadata": {
        "colab": {
          "base_uri": "https://localhost:8080/"
        },
        "id": "rXdxcwNdq6fc",
        "outputId": "eecd62c0-d939-45ad-994c-c9f1d706be4e"
      },
      "execution_count": null,
      "outputs": [
        {
          "output_type": "execute_result",
          "data": {
            "text/plain": [
              "1872712051824"
            ]
          },
          "metadata": {},
          "execution_count": 109
        }
      ]
    },
    {
      "cell_type": "code",
      "source": [
        "id(d)"
      ],
      "metadata": {
        "colab": {
          "base_uri": "https://localhost:8080/"
        },
        "id": "9eQehdsTqZND",
        "outputId": "c366dd67-5ff9-4912-a2df-44d6e37e0a65"
      },
      "execution_count": null,
      "outputs": [
        {
          "output_type": "execute_result",
          "data": {
            "text/plain": [
              "1875199867328"
            ]
          },
          "metadata": {},
          "execution_count": 97
        }
      ]
    },
    {
      "cell_type": "code",
      "source": [
        "id(b)"
      ],
      "metadata": {
        "colab": {
          "base_uri": "https://localhost:8080/"
        },
        "id": "iqrnNninqaT7",
        "outputId": "1e84a1ee-6b20-4fe4-a6ae-f37e06d02cfd"
      },
      "execution_count": null,
      "outputs": [
        {
          "output_type": "execute_result",
          "data": {
            "text/plain": [
              "1875199867328"
            ]
          },
          "metadata": {},
          "execution_count": 98
        }
      ]
    },
    {
      "cell_type": "code",
      "source": [
        "b is d"
      ],
      "metadata": {
        "colab": {
          "base_uri": "https://localhost:8080/"
        },
        "id": "fE-QhbIwqcAA",
        "outputId": "c63221b7-9efd-4021-85d6-6f61fadf66ba"
      },
      "execution_count": null,
      "outputs": [
        {
          "output_type": "execute_result",
          "data": {
            "text/plain": [
              "True"
            ]
          },
          "metadata": {},
          "execution_count": 99
        }
      ]
    },
    {
      "cell_type": "code",
      "source": [
        "b = [1, 2, 3]"
      ],
      "metadata": {
        "id": "-Ga57HYurT-Y"
      },
      "execution_count": null,
      "outputs": []
    },
    {
      "cell_type": "code",
      "source": [
        "b is d"
      ],
      "metadata": {
        "colab": {
          "base_uri": "https://localhost:8080/"
        },
        "id": "Twsb7dGqrYz9",
        "outputId": "6726019a-2b9f-45a2-eb75-6bf279dbbfc3"
      },
      "execution_count": null,
      "outputs": [
        {
          "output_type": "execute_result",
          "data": {
            "text/plain": [
              "False"
            ]
          },
          "metadata": {},
          "execution_count": 112
        }
      ]
    },
    {
      "cell_type": "code",
      "source": [
        "d"
      ],
      "metadata": {
        "colab": {
          "base_uri": "https://localhost:8080/"
        },
        "id": "kr0YtsmHrac4",
        "outputId": "0fd2754b-ad67-4346-a8f9-b174a83dda0f"
      },
      "execution_count": null,
      "outputs": [
        {
          "output_type": "execute_result",
          "data": {
            "text/plain": [
              "[1, 11, 10, 4]"
            ]
          },
          "metadata": {},
          "execution_count": 113
        }
      ]
    },
    {
      "cell_type": "code",
      "source": [
        "# \"d\" -- name for a variable (variable)\n",
        "# and then there is memory which is referenced by this name"
      ],
      "metadata": {
        "id": "Gz2OS3CfqEhn"
      },
      "execution_count": null,
      "outputs": []
    },
    {
      "cell_type": "code",
      "source": [
        "b"
      ],
      "metadata": {
        "colab": {
          "base_uri": "https://localhost:8080/"
        },
        "id": "rx6q7XJ0pcYv",
        "outputId": "f67a313a-dc97-4851-a169-0de8e9ec3a35"
      },
      "execution_count": null,
      "outputs": [
        {
          "output_type": "execute_result",
          "data": {
            "text/plain": [
              "[1, 2, 10, 4]"
            ]
          },
          "metadata": {},
          "execution_count": 92
        }
      ]
    },
    {
      "cell_type": "code",
      "source": [
        "d"
      ],
      "metadata": {
        "colab": {
          "base_uri": "https://localhost:8080/"
        },
        "id": "55WfFsPapdcu",
        "outputId": "0d935e8f-7a26-4dc4-c312-45118a64f7ac"
      },
      "execution_count": null,
      "outputs": [
        {
          "output_type": "execute_result",
          "data": {
            "text/plain": [
              "[1, 2, 10, 4]"
            ]
          },
          "metadata": {},
          "execution_count": 93
        }
      ]
    },
    {
      "cell_type": "code",
      "source": [
        "d[1] = 11"
      ],
      "metadata": {
        "id": "EhtWzz_apg7R"
      },
      "execution_count": null,
      "outputs": []
    },
    {
      "cell_type": "code",
      "source": [
        "d"
      ],
      "metadata": {
        "colab": {
          "base_uri": "https://localhost:8080/"
        },
        "id": "sgN0WFMiplOM",
        "outputId": "c7298743-bf9e-4c74-d96b-f50f7b062d84"
      },
      "execution_count": null,
      "outputs": [
        {
          "output_type": "execute_result",
          "data": {
            "text/plain": [
              "[1, 11, 10, 4]"
            ]
          },
          "metadata": {},
          "execution_count": 95
        }
      ]
    },
    {
      "cell_type": "code",
      "source": [
        "b"
      ],
      "metadata": {
        "colab": {
          "base_uri": "https://localhost:8080/"
        },
        "id": "smVji2nGpmN5",
        "outputId": "5136bf36-aa99-490f-97fc-314602c107a2"
      },
      "execution_count": null,
      "outputs": [
        {
          "output_type": "execute_result",
          "data": {
            "text/plain": [
              "[1, 11, 10, 4]"
            ]
          },
          "metadata": {},
          "execution_count": 96
        }
      ]
    },
    {
      "metadata": {
        "id": "_rehYX145nEk"
      },
      "cell_type": "markdown",
      "source": [
        "### Indexing\n",
        "Items in lists can be accessed using indices in a similar fashion to strings."
      ]
    },
    {
      "metadata": {
        "id": "PuGNKkIV5_64"
      },
      "cell_type": "markdown",
      "source": [
        "#### Access first item"
      ]
    },
    {
      "cell_type": "code",
      "source": [
        "numbers"
      ],
      "metadata": {
        "colab": {
          "base_uri": "https://localhost:8080/"
        },
        "id": "gzvy9JL9nrNj",
        "outputId": "ccbd36ef-0d0d-4a77-bb01-f871178412eb"
      },
      "execution_count": null,
      "outputs": [
        {
          "output_type": "execute_result",
          "data": {
            "text/plain": [
              "[0, 1, 2, 3, 4, 5, 6, 7, 8, 9]"
            ]
          },
          "metadata": {},
          "execution_count": 62
        }
      ]
    },
    {
      "metadata": {
        "id": "98QVzpN_ogFQ",
        "outputId": "ebebb3d5-03fd-429a-ac9c-fd434ce187f8",
        "colab": {
          "base_uri": "https://localhost:8080/"
        }
      },
      "cell_type": "code",
      "source": [
        "numbers[0]"
      ],
      "execution_count": null,
      "outputs": [
        {
          "output_type": "execute_result",
          "data": {
            "text/plain": [
              "0"
            ]
          },
          "metadata": {},
          "execution_count": 67
        }
      ]
    },
    {
      "metadata": {
        "id": "wYljuMmX6FDo"
      },
      "cell_type": "markdown",
      "source": [
        "#### Access last item"
      ]
    },
    {
      "metadata": {
        "id": "j5XB0hVZ6S5E",
        "outputId": "4a66be30-a54a-4b6c-d972-a211087c2ce7",
        "colab": {
          "base_uri": "https://localhost:8080/"
        }
      },
      "cell_type": "code",
      "source": [
        "numbers[-2]"
      ],
      "execution_count": null,
      "outputs": [
        {
          "output_type": "execute_result",
          "data": {
            "text/plain": [
              "8"
            ]
          },
          "metadata": {},
          "execution_count": 66
        }
      ]
    },
    {
      "metadata": {
        "id": "tZJYdQW87vwk"
      },
      "cell_type": "markdown",
      "source": [
        "#### Access any item"
      ]
    },
    {
      "metadata": {
        "id": "7EJZyQUl7y_5"
      },
      "cell_type": "code",
      "source": [
        "numbers[4] = 14"
      ],
      "execution_count": null,
      "outputs": []
    },
    {
      "cell_type": "code",
      "source": [
        "numbers"
      ],
      "metadata": {
        "colab": {
          "base_uri": "https://localhost:8080/"
        },
        "id": "RjAPO8uSoB_Q",
        "outputId": "07dd8247-2624-48ba-d9fd-b0d26a39501a"
      },
      "execution_count": null,
      "outputs": [
        {
          "output_type": "execute_result",
          "data": {
            "text/plain": [
              "[0, 1, 2, 3, 14, 5, 6, 7, 8, 9]"
            ]
          },
          "metadata": {},
          "execution_count": 70
        }
      ]
    },
    {
      "cell_type": "code",
      "source": [
        "t = (1, 2, 3, 4, 5)"
      ],
      "metadata": {
        "id": "Zbck2ZC6rs_N"
      },
      "execution_count": null,
      "outputs": []
    },
    {
      "cell_type": "code",
      "source": [
        "l = [1, 2, 3, 4, 5]"
      ],
      "metadata": {
        "id": "raRUJs4arxFp"
      },
      "execution_count": null,
      "outputs": []
    },
    {
      "cell_type": "code",
      "source": [
        "t"
      ],
      "metadata": {
        "colab": {
          "base_uri": "https://localhost:8080/"
        },
        "id": "2REkiGzsrykH",
        "outputId": "689bcd8e-9f80-4ff3-9a32-d6c6a8d265ab"
      },
      "execution_count": null,
      "outputs": [
        {
          "output_type": "execute_result",
          "data": {
            "text/plain": [
              "(1, 2, 3, 4, 5)"
            ]
          },
          "metadata": {},
          "execution_count": 116
        }
      ]
    },
    {
      "cell_type": "code",
      "source": [
        "l"
      ],
      "metadata": {
        "colab": {
          "base_uri": "https://localhost:8080/"
        },
        "id": "xWoZcWbCrzZL",
        "outputId": "57a0746c-0829-47cd-dc20-8cb53d24e651"
      },
      "execution_count": null,
      "outputs": [
        {
          "output_type": "execute_result",
          "data": {
            "text/plain": [
              "[1, 2, 3, 4, 5]"
            ]
          },
          "metadata": {},
          "execution_count": 117
        }
      ]
    },
    {
      "cell_type": "code",
      "source": [
        "l[1] = 10"
      ],
      "metadata": {
        "id": "j_-zsPtWr0vy"
      },
      "execution_count": null,
      "outputs": []
    },
    {
      "cell_type": "code",
      "source": [
        "t[1] = 10"
      ],
      "metadata": {
        "colab": {
          "base_uri": "https://localhost:8080/",
          "height": 141
        },
        "id": "vBnS2h80r3VP",
        "outputId": "308e7fa1-503b-4283-a1df-be3b6e0c1d56"
      },
      "execution_count": null,
      "outputs": [
        {
          "output_type": "error",
          "ename": "TypeError",
          "evalue": "'tuple' object does not support item assignment",
          "traceback": [
            "\u001b[1;31m---------------------------------------------------------------------------\u001b[0m",
            "\u001b[1;31mTypeError\u001b[0m                                 Traceback (most recent call last)",
            "\u001b[1;32mC:\\Temp/ipykernel_17448/1800997223.py\u001b[0m in \u001b[0;36m<module>\u001b[1;34m\u001b[0m\n\u001b[1;32m----> 1\u001b[1;33m \u001b[0mt\u001b[0m\u001b[1;33m[\u001b[0m\u001b[1;36m1\u001b[0m\u001b[1;33m]\u001b[0m \u001b[1;33m=\u001b[0m \u001b[1;36m10\u001b[0m\u001b[1;33m\u001b[0m\u001b[1;33m\u001b[0m\u001b[0m\n\u001b[0m",
            "\u001b[1;31mTypeError\u001b[0m: 'tuple' object does not support item assignment"
          ]
        }
      ]
    },
    {
      "cell_type": "code",
      "source": [
        "# list = [1, 2, 3] mutable\n",
        "# tuple = (1, 2, 3) immutable\n",
        "# str = \"123\" immutable"
      ],
      "metadata": {
        "id": "9MIch7FUsa7q"
      },
      "execution_count": null,
      "outputs": []
    },
    {
      "cell_type": "code",
      "source": [
        "s = input()"
      ],
      "metadata": {
        "colab": {
          "base_uri": "https://localhost:8080/"
        },
        "id": "fTpvg25AvScL",
        "outputId": "8e37c24d-708c-433b-fc57-9c16eaf8723b"
      },
      "execution_count": null,
      "outputs": [
        {
          "name": "stdout",
          "output_type": "stream",
          "text": [
            "abc\n"
          ]
        }
      ]
    },
    {
      "cell_type": "code",
      "source": [
        "type(s)"
      ],
      "metadata": {
        "colab": {
          "base_uri": "https://localhost:8080/"
        },
        "id": "SlHSBNHpvXJS",
        "outputId": "491f35f2-457a-47ac-8ced-6e7b22526b26"
      },
      "execution_count": null,
      "outputs": [
        {
          "output_type": "execute_result",
          "data": {
            "text/plain": [
              "str"
            ]
          },
          "metadata": {},
          "execution_count": 135
        }
      ]
    },
    {
      "cell_type": "code",
      "source": [
        "s"
      ],
      "metadata": {
        "colab": {
          "base_uri": "https://localhost:8080/"
        },
        "id": "-uzHdt17vYam",
        "outputId": "7156ccda-c34a-4d04-a96a-c997911c59f4"
      },
      "execution_count": null,
      "outputs": [
        {
          "output_type": "execute_result",
          "data": {
            "text/plain": [
              "'abc'"
            ]
          },
          "metadata": {},
          "execution_count": 136
        }
      ]
    },
    {
      "cell_type": "code",
      "source": [
        "int(s)"
      ],
      "metadata": {
        "colab": {
          "base_uri": "https://localhost:8080/",
          "height": 141
        },
        "id": "1gOKD70Qvant",
        "outputId": "98c97494-6de3-4e2e-8c18-acf744535586"
      },
      "execution_count": null,
      "outputs": [
        {
          "output_type": "error",
          "ename": "ValueError",
          "evalue": "invalid literal for int() with base 10: 'abc'",
          "traceback": [
            "\u001b[1;31m---------------------------------------------------------------------------\u001b[0m",
            "\u001b[1;31mValueError\u001b[0m                                Traceback (most recent call last)",
            "\u001b[1;32mC:\\Temp/ipykernel_17448/2179186071.py\u001b[0m in \u001b[0;36m<module>\u001b[1;34m\u001b[0m\n\u001b[1;32m----> 1\u001b[1;33m \u001b[0mint\u001b[0m\u001b[1;33m(\u001b[0m\u001b[0ms\u001b[0m\u001b[1;33m)\u001b[0m\u001b[1;33m\u001b[0m\u001b[1;33m\u001b[0m\u001b[0m\n\u001b[0m",
            "\u001b[1;31mValueError\u001b[0m: invalid literal for int() with base 10: 'abc'"
          ]
        }
      ]
    },
    {
      "cell_type": "code",
      "source": [
        "float(s)"
      ],
      "metadata": {
        "colab": {
          "base_uri": "https://localhost:8080/",
          "height": 141
        },
        "id": "gRM51d26vc7D",
        "outputId": "2ba757fd-0762-404f-d543-e981064319bc"
      },
      "execution_count": null,
      "outputs": [
        {
          "output_type": "error",
          "ename": "ValueError",
          "evalue": "could not convert string to float: 'abc'",
          "traceback": [
            "\u001b[1;31m---------------------------------------------------------------------------\u001b[0m",
            "\u001b[1;31mValueError\u001b[0m                                Traceback (most recent call last)",
            "\u001b[1;32mC:\\Temp/ipykernel_17448/3205677745.py\u001b[0m in \u001b[0;36m<module>\u001b[1;34m\u001b[0m\n\u001b[1;32m----> 1\u001b[1;33m \u001b[0mfloat\u001b[0m\u001b[1;33m(\u001b[0m\u001b[0ms\u001b[0m\u001b[1;33m)\u001b[0m\u001b[1;33m\u001b[0m\u001b[1;33m\u001b[0m\u001b[0m\n\u001b[0m",
            "\u001b[1;31mValueError\u001b[0m: could not convert string to float: 'abc'"
          ]
        }
      ]
    },
    {
      "cell_type": "code",
      "source": [
        "a = []\n",
        "for i in range(5):\n",
        "  x = input()\n",
        "  a.append(float(x))"
      ],
      "metadata": {
        "colab": {
          "base_uri": "https://localhost:8080/"
        },
        "id": "50wxguozv5LT",
        "outputId": "63453b93-0855-4b4f-b599-ec4a9a2057ab"
      },
      "execution_count": null,
      "outputs": [
        {
          "name": "stdout",
          "output_type": "stream",
          "text": [
            "1\n",
            "2\n",
            "1.10\n",
            "3\n",
            "4\n"
          ]
        }
      ]
    },
    {
      "cell_type": "code",
      "source": [
        "a"
      ],
      "metadata": {
        "colab": {
          "base_uri": "https://localhost:8080/"
        },
        "id": "LYBNu2XKwE2Q",
        "outputId": "a1f569f9-bdfb-4fbf-8c90-4c98cf78b690"
      },
      "execution_count": null,
      "outputs": [
        {
          "output_type": "execute_result",
          "data": {
            "text/plain": [
              "[1.0, 2.0, 1.1, 3.0, 4.0]"
            ]
          },
          "metadata": {},
          "execution_count": 143
        }
      ]
    },
    {
      "cell_type": "code",
      "source": [
        "for i in range(10, 20, 2): # (start, stop, step)\n",
        "  print(i)"
      ],
      "metadata": {
        "colab": {
          "base_uri": "https://localhost:8080/"
        },
        "id": "XszyLcV5vsNd",
        "outputId": "48c484c8-08bc-4ee3-88d2-df9561677fe8"
      },
      "execution_count": null,
      "outputs": [
        {
          "output_type": "stream",
          "name": "stdout",
          "text": [
            "10\n",
            "12\n",
            "14\n",
            "16\n",
            "18\n"
          ]
        }
      ]
    },
    {
      "cell_type": "code",
      "source": [
        "s = input()\n",
        "l = s.split(',')"
      ],
      "metadata": {
        "colab": {
          "base_uri": "https://localhost:8080/"
        },
        "id": "-ckobhG3wdX9",
        "outputId": "ebbcb3f5-9441-41f4-cea9-695eba391a76"
      },
      "execution_count": null,
      "outputs": [
        {
          "name": "stdout",
          "output_type": "stream",
          "text": [
            "1, 2, 3, 4, 5, 6, 7, 8, 9, 10\n"
          ]
        }
      ]
    },
    {
      "cell_type": "code",
      "source": [
        "l"
      ],
      "metadata": {
        "colab": {
          "base_uri": "https://localhost:8080/"
        },
        "id": "Z0XRixvWwmmv",
        "outputId": "60b14420-2890-46fc-f872-34da73df5ac0"
      },
      "execution_count": null,
      "outputs": [
        {
          "output_type": "execute_result",
          "data": {
            "text/plain": [
              "['1', ' 2', ' 3', ' 4', ' 5', ' 6', ' 7', ' 8', ' 9', ' 10']"
            ]
          },
          "metadata": {},
          "execution_count": 146
        }
      ]
    },
    {
      "cell_type": "code",
      "source": [
        "type(s)"
      ],
      "metadata": {
        "colab": {
          "base_uri": "https://localhost:8080/"
        },
        "id": "OjOE6cJPwu2Z",
        "outputId": "4af22a7d-82f5-4eba-802a-efa5b7fd7aa0"
      },
      "execution_count": null,
      "outputs": [
        {
          "output_type": "execute_result",
          "data": {
            "text/plain": [
              "str"
            ]
          },
          "metadata": {},
          "execution_count": 148
        }
      ]
    },
    {
      "cell_type": "code",
      "source": [
        "type(l)"
      ],
      "metadata": {
        "colab": {
          "base_uri": "https://localhost:8080/"
        },
        "id": "GSh3-cDdwwOz",
        "outputId": "621d2c02-04cd-44fe-b832-0f866e297973"
      },
      "execution_count": null,
      "outputs": [
        {
          "output_type": "execute_result",
          "data": {
            "text/plain": [
              "list"
            ]
          },
          "metadata": {},
          "execution_count": 149
        }
      ]
    },
    {
      "cell_type": "code",
      "source": [
        "l1 = []\n",
        "for elem in l:\n",
        "  l1.append(int(elem))"
      ],
      "metadata": {
        "id": "U_o5IgBuwx1V"
      },
      "execution_count": null,
      "outputs": []
    },
    {
      "cell_type": "code",
      "source": [
        "l2 = [int(elem) for elem in l]"
      ],
      "metadata": {
        "id": "891CiFbjw860"
      },
      "execution_count": null,
      "outputs": []
    },
    {
      "cell_type": "code",
      "source": [
        "l1"
      ],
      "metadata": {
        "colab": {
          "base_uri": "https://localhost:8080/"
        },
        "id": "39kI0iaMw1YL",
        "outputId": "bcea9fab-1e77-4c5d-ebc8-da238e013067"
      },
      "execution_count": null,
      "outputs": [
        {
          "output_type": "execute_result",
          "data": {
            "text/plain": [
              "[1, 2, 3, 4, 5, 6, 7, 8, 9, 10]"
            ]
          },
          "metadata": {},
          "execution_count": 153
        }
      ]
    },
    {
      "cell_type": "code",
      "source": [
        "l2"
      ],
      "metadata": {
        "colab": {
          "base_uri": "https://localhost:8080/"
        },
        "id": "YWU8aH4sxBnd",
        "outputId": "18c38f84-f106-4671-c5f7-1bd2f0684175"
      },
      "execution_count": null,
      "outputs": [
        {
          "output_type": "execute_result",
          "data": {
            "text/plain": [
              "[1, 2, 3, 4, 5, 6, 7, 8, 9, 10]"
            ]
          },
          "metadata": {},
          "execution_count": 156
        }
      ]
    },
    {
      "metadata": {
        "id": "g4-XjayC8KO7"
      },
      "cell_type": "markdown",
      "source": [
        "### Adding to a list"
      ]
    },
    {
      "metadata": {
        "id": "VVoxc0Co81iD"
      },
      "cell_type": "markdown",
      "source": [
        "#### Append to the end of a list"
      ]
    },
    {
      "metadata": {
        "id": "7l9O1BOz89Sg",
        "outputId": "f5ed7734-afd3-4dcd-8311-ac809622b29b",
        "colab": {
          "base_uri": "https://localhost:8080/",
          "height": 34
        }
      },
      "cell_type": "code",
      "source": [
        "letters = ['a']\n",
        "letters.append('c')\n",
        "letters"
      ],
      "execution_count": null,
      "outputs": [
        {
          "output_type": "execute_result",
          "data": {
            "text/plain": [
              "['a', 'c']"
            ]
          },
          "metadata": {
            "tags": []
          },
          "execution_count": 14
        }
      ]
    },
    {
      "metadata": {
        "id": "GOWYij2p9bwL"
      },
      "cell_type": "markdown",
      "source": [
        "#### Insert at beginning of list"
      ]
    },
    {
      "metadata": {
        "id": "KgMcKp5W9fI7",
        "outputId": "5f5acb75-5715-456a-f63b-76d675676766",
        "colab": {
          "base_uri": "https://localhost:8080/",
          "height": 34
        }
      },
      "cell_type": "code",
      "source": [
        "letters.insert(0, 'b')\n",
        "letters"
      ],
      "execution_count": null,
      "outputs": [
        {
          "output_type": "execute_result",
          "data": {
            "text/plain": [
              "['b', 'a', 'c']"
            ]
          },
          "metadata": {
            "tags": []
          },
          "execution_count": 15
        }
      ]
    },
    {
      "metadata": {
        "id": "z2pfGnq7-PHc"
      },
      "cell_type": "markdown",
      "source": [
        "#### Insert at arbitrary position"
      ]
    },
    {
      "metadata": {
        "id": "SgovUUMS-TxT",
        "outputId": "2d639b6d-eaa7-4f91-b837-88136a2b403a",
        "colab": {
          "base_uri": "https://localhost:8080/",
          "height": 34
        }
      },
      "cell_type": "code",
      "source": [
        "letters.insert(2, 'c')\n",
        "letters"
      ],
      "execution_count": null,
      "outputs": [
        {
          "output_type": "execute_result",
          "data": {
            "text/plain": [
              "['b', 'a', 'c', 'c']"
            ]
          },
          "metadata": {
            "tags": []
          },
          "execution_count": 16
        }
      ]
    },
    {
      "metadata": {
        "id": "W2WMgepZAjkO"
      },
      "cell_type": "markdown",
      "source": [
        "#### Extending with another list"
      ]
    },
    {
      "metadata": {
        "id": "UYn06yndAoNH",
        "outputId": "a1c34ae5-d500-44b0-98a3-c4db3b47c910",
        "colab": {
          "base_uri": "https://localhost:8080/",
          "height": 34
        }
      },
      "cell_type": "code",
      "source": [
        "more_letters = ['e', 'f', 'g']\n",
        "letters.extend(more_letters)\n",
        "letters"
      ],
      "execution_count": null,
      "outputs": [
        {
          "output_type": "execute_result",
          "data": {
            "text/plain": [
              "['b', 'a', 'c', 'c', 'e', 'f', 'g']"
            ]
          },
          "metadata": {
            "tags": []
          },
          "execution_count": 17
        }
      ]
    },
    {
      "metadata": {
        "id": "wzPgAr_s_CrC"
      },
      "cell_type": "markdown",
      "source": [
        "### Change item at some position"
      ]
    },
    {
      "metadata": {
        "id": "BZGy8c8bov2q",
        "outputId": "4fc4fd41-0e1e-4324-8302-b0ce19558908",
        "colab": {
          "base_uri": "https://localhost:8080/",
          "height": 34
        }
      },
      "cell_type": "code",
      "source": [
        "letters[3] = 'd'\n",
        "letters"
      ],
      "execution_count": null,
      "outputs": [
        {
          "output_type": "execute_result",
          "data": {
            "text/plain": [
              "['b', 'a', 'c', 'd', 'e', 'f', 'g']"
            ]
          },
          "metadata": {
            "tags": []
          },
          "execution_count": 18
        }
      ]
    },
    {
      "metadata": {
        "id": "PGcA5_5__RZm"
      },
      "cell_type": "markdown",
      "source": [
        "### Swap two items"
      ]
    },
    {
      "metadata": {
        "id": "egbXdmQ__UB4",
        "outputId": "439400af-99d2-4d6c-aaac-f16c822bf73e",
        "colab": {
          "base_uri": "https://localhost:8080/",
          "height": 34
        }
      },
      "cell_type": "code",
      "source": [
        "letters[0], letters[1] = letters[1], letters[0]\n",
        "letters"
      ],
      "execution_count": null,
      "outputs": [
        {
          "output_type": "execute_result",
          "data": {
            "text/plain": [
              "['a', 'b', 'c', 'd', 'e', 'f', 'g']"
            ]
          },
          "metadata": {
            "tags": []
          },
          "execution_count": 19
        }
      ]
    },
    {
      "cell_type": "code",
      "source": [
        "a = 10\n",
        "b = 20"
      ],
      "metadata": {
        "id": "XZZ1DdUOxNB7"
      },
      "execution_count": null,
      "outputs": []
    },
    {
      "cell_type": "code",
      "source": [
        "a, b = b, a"
      ],
      "metadata": {
        "id": "dAMGXYwHxOuz"
      },
      "execution_count": null,
      "outputs": []
    },
    {
      "cell_type": "code",
      "source": [
        "type((a, b))"
      ],
      "metadata": {
        "colab": {
          "base_uri": "https://localhost:8080/"
        },
        "id": "WxgXHdrPxSLu",
        "outputId": "f244b03b-5977-4132-d6a8-28b4a52ed96b"
      },
      "execution_count": null,
      "outputs": [
        {
          "output_type": "execute_result",
          "data": {
            "text/plain": [
              "tuple"
            ]
          },
          "metadata": {},
          "execution_count": 161
        }
      ]
    },
    {
      "cell_type": "code",
      "source": [
        "t = (a, b)"
      ],
      "metadata": {
        "id": "ozhy-vckxayh"
      },
      "execution_count": null,
      "outputs": []
    },
    {
      "cell_type": "code",
      "source": [
        "a"
      ],
      "metadata": {
        "colab": {
          "base_uri": "https://localhost:8080/"
        },
        "id": "VyZ65xDdxP1Z",
        "outputId": "bd642a68-f30d-4f46-a6c1-7fc7bde1bf66"
      },
      "execution_count": null,
      "outputs": [
        {
          "output_type": "execute_result",
          "data": {
            "text/plain": [
              "20"
            ]
          },
          "metadata": {},
          "execution_count": 159
        }
      ]
    },
    {
      "cell_type": "code",
      "source": [
        "b"
      ],
      "metadata": {
        "colab": {
          "base_uri": "https://localhost:8080/"
        },
        "id": "eYyb3b5hxQP3",
        "outputId": "bd7c7921-c7db-42d0-f93e-ff6ca9f05a67"
      },
      "execution_count": null,
      "outputs": [
        {
          "output_type": "execute_result",
          "data": {
            "text/plain": [
              "10"
            ]
          },
          "metadata": {},
          "execution_count": 160
        }
      ]
    },
    {
      "metadata": {
        "id": "RNirVSMaHOp4"
      },
      "cell_type": "markdown",
      "source": [
        "### Removing items from a list"
      ]
    },
    {
      "metadata": {
        "id": "K0ecop0OHXo_"
      },
      "cell_type": "markdown",
      "source": [
        "#### Pop from the end"
      ]
    },
    {
      "metadata": {
        "id": "ZfFG3MZ7HdXa",
        "outputId": "fe842c28-5813-4286-df92-908864af1f53",
        "colab": {
          "base_uri": "https://localhost:8080/",
          "height": 34
        }
      },
      "cell_type": "code",
      "source": [
        "letters = ['a', 'b', 'c', 'd', 'e', 'f']\n",
        "letters.pop()\n",
        "letters"
      ],
      "execution_count": null,
      "outputs": [
        {
          "output_type": "execute_result",
          "data": {
            "text/plain": [
              "['a', 'b', 'c', 'd', 'e']"
            ]
          },
          "metadata": {
            "tags": []
          },
          "execution_count": 20
        }
      ]
    },
    {
      "metadata": {
        "id": "WSm1EhxBH8a2"
      },
      "cell_type": "markdown",
      "source": [
        "#### Pop by index"
      ]
    },
    {
      "metadata": {
        "id": "R62Fg9l4IAYV",
        "outputId": "a6bc87d5-46e8-4383-ced0-e53c67026e43",
        "colab": {
          "base_uri": "https://localhost:8080/",
          "height": 34
        }
      },
      "cell_type": "code",
      "source": [
        "letters.pop(2)\n",
        "letters"
      ],
      "execution_count": null,
      "outputs": [
        {
          "output_type": "execute_result",
          "data": {
            "text/plain": [
              "['a', 'b', 'd', 'e']"
            ]
          },
          "metadata": {
            "tags": []
          },
          "execution_count": 21
        }
      ]
    },
    {
      "metadata": {
        "id": "wDhR89qxIUEh"
      },
      "cell_type": "markdown",
      "source": [
        "#### Remove specific item"
      ]
    },
    {
      "metadata": {
        "id": "cAyAJIeOpYrU",
        "outputId": "60762469-653a-4e89-8ffc-4082273b728e",
        "colab": {
          "base_uri": "https://localhost:8080/",
          "height": 34
        }
      },
      "cell_type": "code",
      "source": [
        "letters.remove('d')\n",
        "letters"
      ],
      "execution_count": null,
      "outputs": [
        {
          "output_type": "execute_result",
          "data": {
            "text/plain": [
              "['a', 'b', 'e']"
            ]
          },
          "metadata": {
            "tags": []
          },
          "execution_count": 22
        }
      ]
    },
    {
      "metadata": {
        "id": "D9_M_6cwUAaX"
      },
      "cell_type": "markdown",
      "source": [
        "### Create tuple using brackets"
      ]
    },
    {
      "metadata": {
        "id": "7Zqb_MU2UEJa",
        "outputId": "0b125537-00c5-4bd2-85d4-3dc130fcf6b7",
        "colab": {
          "base_uri": "https://localhost:8080/",
          "height": 34
        }
      },
      "cell_type": "code",
      "source": [
        "tup = (1, 2, 3)\n",
        "tup"
      ],
      "execution_count": null,
      "outputs": [
        {
          "output_type": "execute_result",
          "data": {
            "text/plain": [
              "(1, 2, 3)"
            ]
          },
          "metadata": {
            "tags": []
          },
          "execution_count": 23
        }
      ]
    },
    {
      "metadata": {
        "id": "ep3XqjhqUIS1"
      },
      "cell_type": "markdown",
      "source": [
        "### Create tuple with commas"
      ]
    },
    {
      "metadata": {
        "id": "Oz8dkzlzUNEe",
        "outputId": "999fdd29-a295-4543-8004-09a1ee0ca427",
        "colab": {
          "base_uri": "https://localhost:8080/"
        }
      },
      "cell_type": "code",
      "source": [
        "tup = 1, 2, 3\n",
        "tup"
      ],
      "execution_count": null,
      "outputs": [
        {
          "output_type": "execute_result",
          "data": {
            "text/plain": [
              "(1, 2, 3)"
            ]
          },
          "metadata": {},
          "execution_count": 176
        }
      ]
    },
    {
      "metadata": {
        "id": "p5Ie15xNUvK-"
      },
      "cell_type": "markdown",
      "source": [
        "### Create empty tuple"
      ]
    },
    {
      "metadata": {
        "id": "6M3eLXfXUxLX",
        "outputId": "7b3bbe9b-d8e9-448d-c620-baa278d5a66e",
        "colab": {
          "base_uri": "https://localhost:8080/"
        }
      },
      "cell_type": "code",
      "source": [
        "tup = ()\n",
        "tup"
      ],
      "execution_count": null,
      "outputs": [
        {
          "output_type": "execute_result",
          "data": {
            "text/plain": [
              "()"
            ]
          },
          "metadata": {},
          "execution_count": 177
        }
      ]
    },
    {
      "metadata": {
        "id": "0YKr2HU6UzgT"
      },
      "cell_type": "markdown",
      "source": [
        "### Create tuple with single item"
      ]
    },
    {
      "metadata": {
        "id": "9ib336cLU3iu",
        "outputId": "b0d285d0-1880-48c5-ec5a-61d687aefcbd",
        "colab": {
          "base_uri": "https://localhost:8080/"
        }
      },
      "cell_type": "code",
      "source": [
        "tup = 1,\n",
        "tup"
      ],
      "execution_count": null,
      "outputs": [
        {
          "output_type": "execute_result",
          "data": {
            "text/plain": [
              "(1,)"
            ]
          },
          "metadata": {},
          "execution_count": 178
        }
      ]
    },
    {
      "cell_type": "code",
      "source": [
        "t = (1,)"
      ],
      "metadata": {
        "id": "B5yA2nUAyWIt"
      },
      "execution_count": null,
      "outputs": []
    },
    {
      "cell_type": "code",
      "source": [
        "type(t)"
      ],
      "metadata": {
        "colab": {
          "base_uri": "https://localhost:8080/"
        },
        "id": "WiziHDEFyXNm",
        "outputId": "acc6de9d-66a5-4c6b-ad36-7ccb7c0470c6"
      },
      "execution_count": null,
      "outputs": [
        {
          "output_type": "execute_result",
          "data": {
            "text/plain": [
              "tuple"
            ]
          },
          "metadata": {},
          "execution_count": 183
        }
      ]
    },
    {
      "metadata": {
        "id": "a_eqCY6XTy1x"
      },
      "cell_type": "markdown",
      "source": [
        "### Behaviours shared by lists and tuples\n",
        "The following sequence behaviors are shared by lists and tuples"
      ]
    },
    {
      "metadata": {
        "id": "HpNqX6QFLmdK"
      },
      "cell_type": "markdown",
      "source": [
        "### Check item in sequence"
      ]
    },
    {
      "metadata": {
        "id": "NpIdl5Cfp7-f",
        "outputId": "e9b05453-1f0e-45bd-9868-4e377cb74d29",
        "colab": {
          "base_uri": "https://localhost:8080/"
        }
      },
      "cell_type": "code",
      "source": [
        "3 in (1, 2, 3, 4, 5)"
      ],
      "execution_count": null,
      "outputs": [
        {
          "output_type": "execute_result",
          "data": {
            "text/plain": [
              "True"
            ]
          },
          "metadata": {},
          "execution_count": 184
        }
      ]
    },
    {
      "cell_type": "code",
      "source": [
        "%%time\n",
        "# list comprehension\n",
        "\n",
        "my_list = [i for i in range(100 * 1000 * 1000)]"
      ],
      "metadata": {
        "colab": {
          "base_uri": "https://localhost:8080/"
        },
        "id": "K8olWc9DygAC",
        "outputId": "012f9844-1402-421e-aee5-7c570cf4d9db"
      },
      "execution_count": null,
      "outputs": [
        {
          "output_type": "stream",
          "name": "stdout",
          "text": [
            "Wall time: 4.03 s\n"
          ]
        }
      ]
    },
    {
      "cell_type": "code",
      "source": [
        "%%time\n",
        "\n",
        "99999999 in my_list"
      ],
      "metadata": {
        "colab": {
          "base_uri": "https://localhost:8080/"
        },
        "id": "SSDPOUHeytPN",
        "outputId": "8a3e8a80-51d4-4a04-f649-1fdd2a7afc5e"
      },
      "execution_count": null,
      "outputs": [
        {
          "output_type": "stream",
          "name": "stdout",
          "text": [
            "Wall time: 994 ms\n"
          ]
        },
        {
          "output_type": "execute_result",
          "data": {
            "text/plain": [
              "True"
            ]
          },
          "metadata": {},
          "execution_count": 209
        }
      ]
    },
    {
      "cell_type": "code",
      "source": [
        "%%time\n",
        "\n",
        "# complexity: n\n",
        "\n",
        "for elem in my_list:\n",
        "  if 99999999 == elem:\n",
        "    print(True)\n",
        "    break"
      ],
      "metadata": {
        "colab": {
          "base_uri": "https://localhost:8080/"
        },
        "id": "dOovcng0y9Me",
        "outputId": "425095bd-5e76-4ebf-c3c8-0108545dbed1"
      },
      "execution_count": null,
      "outputs": [
        {
          "output_type": "stream",
          "name": "stdout",
          "text": [
            "True\n",
            "Wall time: 3.73 s\n"
          ]
        }
      ]
    },
    {
      "cell_type": "code",
      "source": [
        "%%time\n",
        "\n",
        "my_list.sort()"
      ],
      "metadata": {
        "colab": {
          "base_uri": "https://localhost:8080/"
        },
        "id": "3BI3HbruzYH3",
        "outputId": "470fb968-1540-4e49-f0f1-e990ba1340ff"
      },
      "execution_count": null,
      "outputs": [
        {
          "output_type": "stream",
          "name": "stdout",
          "text": [
            "Wall time: 669 ms\n"
          ]
        }
      ]
    },
    {
      "cell_type": "code",
      "source": [
        "import math"
      ],
      "metadata": {
        "id": "WZ0zqKlT3ujG"
      },
      "execution_count": null,
      "outputs": []
    },
    {
      "cell_type": "code",
      "source": [
        "math.log2(100 * 1000 * 1000)"
      ],
      "metadata": {
        "colab": {
          "base_uri": "https://localhost:8080/"
        },
        "id": "1nbVKwWK3qy0",
        "outputId": "4830aed6-5879-42dd-d2a6-7e60522567d0"
      },
      "execution_count": null,
      "outputs": [
        {
          "output_type": "execute_result",
          "data": {
            "text/plain": [
              "26.575424759098897"
            ]
          },
          "metadata": {},
          "execution_count": 236
        }
      ]
    },
    {
      "cell_type": "code",
      "source": [
        "2 ** 10"
      ],
      "metadata": {
        "colab": {
          "base_uri": "https://localhost:8080/"
        },
        "id": "0elFYfjZ3xvK",
        "outputId": "2560c4c8-136b-4e14-b7cd-9ffebfc74538"
      },
      "execution_count": null,
      "outputs": [
        {
          "output_type": "execute_result",
          "data": {
            "text/plain": [
              "1024"
            ]
          },
          "metadata": {},
          "execution_count": 234
        }
      ]
    },
    {
      "cell_type": "code",
      "source": [
        "2 ** 20"
      ],
      "metadata": {
        "colab": {
          "base_uri": "https://localhost:8080/"
        },
        "id": "Hm6CfblO3zev",
        "outputId": "d5fa159a-6d6f-46f6-856e-d63a3f85a0bf"
      },
      "execution_count": null,
      "outputs": [
        {
          "output_type": "execute_result",
          "data": {
            "text/plain": [
              "1048576"
            ]
          },
          "metadata": {},
          "execution_count": 237
        }
      ]
    },
    {
      "cell_type": "code",
      "source": [
        "2 ** 27"
      ],
      "metadata": {
        "colab": {
          "base_uri": "https://localhost:8080/"
        },
        "id": "up1A0ehE3-d0",
        "outputId": "2d0a52ce-0d90-401e-f421-62174070c7ce"
      },
      "execution_count": null,
      "outputs": [
        {
          "output_type": "execute_result",
          "data": {
            "text/plain": [
              "134217728"
            ]
          },
          "metadata": {},
          "execution_count": 239
        }
      ]
    },
    {
      "cell_type": "code",
      "source": [
        "%%time\n",
        "\n",
        "# complexity: O(log n)\n",
        "\n",
        "# binary search\n",
        "to_find = 99999999\n",
        "\n",
        "left = 0\n",
        "right = len(my_list) - 1\n",
        "counter = 0\n",
        "# sorted list: [1 2 3 4 5 6 7]\n",
        "# we want to find 5\n",
        "# middle of the list is 4\n",
        "# if 5 > (element in the middle (4)), then we search in the right half\n",
        "# [4, 5, 6, 7] because elements on the left from the middle can't be equal to 5, if 5 is bigger than element in the middle\n",
        "# middle of the list is 6\n",
        "# if 5 < (element in the middle (6)), then we search in the left half\n",
        "# [4, 5] because elements on the right from the middle can't be equal to 5, if 5 is less than element in the middle\n",
        "# Important thing: each time we divide our list by half\n",
        "# if length is 8, we only need 3 steps, because 2 ** 3 == 8\n",
        "# even if the length is like 100 * 1000 * 1000 it is still only 27 steps, because 2 ** 27 > 100 * 1000 * 1000\n",
        "# so we need only 27 steps to find something in sorted array of size 100 * 1000 * 1000\n",
        "\n",
        "while left != right and left + 1 != right:\n",
        "  counter += 1\n",
        "  middle = (left + right) // 2\n",
        "  if to_find == my_list[middle] or to_find == my_list[middle + 1]:\n",
        "    print(True)\n",
        "    break\n",
        "  elif to_find > my_list[middle]:\n",
        "    left = middle\n",
        "  elif to_find < my_list[middle]:\n",
        "    right = middle\n",
        "print(counter)"
      ],
      "metadata": {
        "colab": {
          "base_uri": "https://localhost:8080/"
        },
        "id": "NK6JbiOZzTG0",
        "outputId": "d7e79ff2-7c27-494b-f796-5f611a4b6c6f"
      },
      "execution_count": null,
      "outputs": [
        {
          "output_type": "stream",
          "name": "stdout",
          "text": [
            "True\n",
            "27\n",
            "Wall time: 0 ns\n"
          ]
        }
      ]
    },
    {
      "cell_type": "code",
      "source": [
        "# log with the base 2 of n"
      ],
      "metadata": {
        "id": "HZR2LP9B3VLI"
      },
      "execution_count": null,
      "outputs": []
    },
    {
      "cell_type": "code",
      "source": [
        "# complexities\n",
        "# N = n * const\n",
        "# N = log2(n * const)\n",
        "# O(const) -- append to list or pop from the end of the list\n",
        "# where const is the comlexity cost of 1 iteration of whatever you are doing. And you can't really affect this cost (but you can consider it)"
      ],
      "metadata": {
        "id": "TkC5Lgwi5QqT"
      },
      "execution_count": null,
      "outputs": []
    },
    {
      "cell_type": "markdown",
      "source": [
        "![image.png](data:image/png;base64,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)"
      ],
      "metadata": {
        "id": "YeSt2PjB5G5B"
      }
    },
    {
      "cell_type": "code",
      "source": [
        "# math.sqrt() -- let's imagine we don't have this\n",
        "# iterating through numbers and when i * i == n -- we understand that this is the root"
      ],
      "metadata": {
        "id": "_D5jy1Vk5uXJ"
      },
      "execution_count": null,
      "outputs": []
    },
    {
      "cell_type": "markdown",
      "source": [
        "![complexity.png](data:image/png;base64,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)"
      ],
      "metadata": {
        "id": "A-B0bAVT4yvs"
      }
    },
    {
      "cell_type": "code",
      "source": [],
      "metadata": {
        "id": "yIzi_Jqb3itC"
      },
      "execution_count": null,
      "outputs": []
    },
    {
      "metadata": {
        "id": "Ms_bF8BjL79W"
      },
      "cell_type": "markdown",
      "source": [
        "### Check item not in sequence"
      ]
    },
    {
      "metadata": {
        "id": "gLXaJE6EMGyb",
        "outputId": "786985a3-a630-4617-a4d3-babd7fca9e77",
        "colab": {
          "base_uri": "https://localhost:8080/",
          "height": 34
        }
      },
      "cell_type": "code",
      "source": [
        "'a' not in [1, 2, 3, 4, 5]"
      ],
      "execution_count": null,
      "outputs": [
        {
          "output_type": "execute_result",
          "data": {
            "text/plain": [
              "True"
            ]
          },
          "metadata": {
            "tags": []
          },
          "execution_count": 30
        }
      ]
    },
    {
      "metadata": {
        "id": "UNKJxMb6Mipn"
      },
      "cell_type": "markdown",
      "source": [
        "### Slicing"
      ]
    },
    {
      "metadata": {
        "id": "r_fLVxRhNWLA"
      },
      "cell_type": "markdown",
      "source": [
        "#### Setting start, slice to the end"
      ]
    },
    {
      "metadata": {
        "id": "098SVCIvsibb",
        "outputId": "8a737bd9-05af-4f95-fdc4-aa882fef47c9",
        "colab": {
          "base_uri": "https://localhost:8080/",
          "height": 34
        }
      },
      "cell_type": "code",
      "source": [
        "letters = 'a', 'b', 'c', 'd', 'e', 'f'\n",
        "letters[3:4]\n"
      ],
      "execution_count": null,
      "outputs": [
        {
          "output_type": "execute_result",
          "data": {
            "text/plain": [
              "('d',)"
            ]
          },
          "metadata": {
            "tags": []
          },
          "execution_count": 32
        }
      ]
    },
    {
      "metadata": {
        "id": "dsNvabgmNeqw"
      },
      "cell_type": "markdown",
      "source": [
        "#### Set end, slice from beginning"
      ]
    },
    {
      "metadata": {
        "id": "QVNJeYVtNh56",
        "outputId": "249d9c60-e20c-4d78-dc02-67b74b17fe17",
        "colab": {
          "base_uri": "https://localhost:8080/",
          "height": 34
        }
      },
      "cell_type": "code",
      "source": [
        "letters[:4]"
      ],
      "execution_count": null,
      "outputs": [
        {
          "output_type": "execute_result",
          "data": {
            "text/plain": [
              "('a', 'b', 'c', 'd')"
            ]
          },
          "metadata": {
            "tags": []
          },
          "execution_count": 33
        }
      ]
    },
    {
      "metadata": {
        "id": "Lrd7HuHnNvIi"
      },
      "cell_type": "markdown",
      "source": [
        "#### Index from end of sequence"
      ]
    },
    {
      "metadata": {
        "id": "9XiynpN9M9V_",
        "outputId": "3b8497e3-1219-496f-ec24-6c99dbd3ff8c",
        "colab": {
          "base_uri": "https://localhost:8080/",
          "height": 34
        }
      },
      "cell_type": "code",
      "source": [
        "letters[-4:]"
      ],
      "execution_count": null,
      "outputs": [
        {
          "output_type": "execute_result",
          "data": {
            "text/plain": [
              "('c', 'd', 'e', 'f')"
            ]
          },
          "metadata": {
            "tags": []
          },
          "execution_count": 34
        }
      ]
    },
    {
      "metadata": {
        "id": "Lzkr-snEOEE9"
      },
      "cell_type": "markdown",
      "source": [
        "#### Setting step"
      ]
    },
    {
      "metadata": {
        "id": "fCzpKpbSOGy-",
        "outputId": "e0ef8366-b712-45ca-fcb7-d3db915adae6",
        "colab": {
          "base_uri": "https://localhost:8080/",
          "height": 34
        }
      },
      "cell_type": "code",
      "source": [
        "letters[1::-2]"
      ],
      "execution_count": null,
      "outputs": [
        {
          "output_type": "execute_result",
          "data": {
            "text/plain": [
              "('b',)"
            ]
          },
          "metadata": {
            "tags": []
          },
          "execution_count": 36
        }
      ]
    },
    {
      "metadata": {
        "id": "IR6wtY_oJlSv"
      },
      "cell_type": "markdown",
      "source": [
        "### Unpacking"
      ]
    },
    {
      "metadata": {
        "id": "iUY-WFVvP82h",
        "outputId": "928e9082-4ac2-4a18-a20f-d369c9e7e713",
        "colab": {
          "base_uri": "https://localhost:8080/",
          "height": 198
        }
      },
      "cell_type": "code",
      "source": [
        "first, middle = [1, 2, 3]\n",
        "\n",
        "f\"first = {first},  middle = {middle},  last = {last}\""
      ],
      "execution_count": null,
      "outputs": [
        {
          "output_type": "error",
          "ename": "ValueError",
          "evalue": "ignored",
          "traceback": [
            "\u001b[0;31m---------------------------------------------------------------------------\u001b[0m",
            "\u001b[0;31mValueError\u001b[0m                                Traceback (most recent call last)",
            "\u001b[0;32m<ipython-input-38-c24a37f354b9>\u001b[0m in \u001b[0;36m<module>\u001b[0;34m()\u001b[0m\n\u001b[0;32m----> 1\u001b[0;31m \u001b[0mfirst\u001b[0m\u001b[0;34m,\u001b[0m \u001b[0mmiddle\u001b[0m \u001b[0;34m=\u001b[0m \u001b[0;34m[\u001b[0m\u001b[0;36m1\u001b[0m\u001b[0;34m,\u001b[0m \u001b[0;36m2\u001b[0m\u001b[0;34m,\u001b[0m \u001b[0;36m3\u001b[0m\u001b[0;34m]\u001b[0m\u001b[0;34m\u001b[0m\u001b[0;34m\u001b[0m\u001b[0m\n\u001b[0m\u001b[1;32m      2\u001b[0m \u001b[0;34m\u001b[0m\u001b[0m\n\u001b[1;32m      3\u001b[0m \u001b[0;34mf\"first = {first},  middle = {middle},  last = {last}\"\u001b[0m\u001b[0;34m\u001b[0m\u001b[0;34m\u001b[0m\u001b[0m\n",
            "\u001b[0;31mValueError\u001b[0m: too many values to unpack (expected 2)"
          ]
        }
      ]
    },
    {
      "metadata": {
        "id": "Ryn60MRRQLhE"
      },
      "cell_type": "markdown",
      "source": [
        "### Extended unpacking"
      ]
    },
    {
      "metadata": {
        "id": "5olgXZcwQOwY",
        "outputId": "1c3babb9-a0b5-4018-cbeb-b5ea287d2e04",
        "colab": {
          "base_uri": "https://localhost:8080/",
          "height": 34
        }
      },
      "cell_type": "code",
      "source": [
        "first, *middle, last = (1, 2, 3, 4, 5)\n",
        "\n",
        "f\"first = {first},  middle = {middle},  last = {last}\""
      ],
      "execution_count": null,
      "outputs": [
        {
          "output_type": "execute_result",
          "data": {
            "text/plain": [
              "'first = 1,  middle = [2, 3, 4],  last = 5'"
            ]
          },
          "metadata": {
            "tags": []
          },
          "execution_count": 42
        }
      ]
    },
    {
      "metadata": {
        "id": "uRwRq8FkSMxF"
      },
      "cell_type": "markdown",
      "source": [
        "### Using list as Stack\n",
        "A stack is a LIFO (last in, first out) data structure which can be simulated using a list"
      ]
    },
    {
      "metadata": {
        "id": "UMhxPw8tV2ot"
      },
      "cell_type": "markdown",
      "source": [
        "#### Push onto the stack using append"
      ]
    },
    {
      "metadata": {
        "id": "47_iDnO6V6ut",
        "outputId": "18c3ccf8-0d66-4681-e576-387985c81f82",
        "colab": {
          "base_uri": "https://localhost:8080/",
          "height": 34
        }
      },
      "cell_type": "code",
      "source": [
        "stack = []\n",
        "stack.append('first on')\n",
        "stack.append('second on')\n",
        "stack.append('third on')\n",
        "stack"
      ],
      "execution_count": null,
      "outputs": [
        {
          "output_type": "execute_result",
          "data": {
            "text/plain": [
              "['first on', 'second on', 'third on']"
            ]
          },
          "metadata": {
            "tags": []
          },
          "execution_count": 43
        }
      ]
    },
    {
      "metadata": {
        "id": "M_wrgcjcWUij"
      },
      "cell_type": "markdown",
      "source": [
        "#### Retrieve items, last one first using **pop**"
      ]
    },
    {
      "metadata": {
        "id": "mY_Wbh9-WZq_",
        "outputId": "b5859dbe-52fb-47b8-b9ed-2f799e45be69",
        "colab": {
          "base_uri": "https://localhost:8080/",
          "height": 34
        }
      },
      "cell_type": "code",
      "source": [
        "f\"Retrieved first: {stack.pop()!r}, retrieved second: {stack.pop()!r}, retrieved last: {stack.pop()!r}\""
      ],
      "execution_count": null,
      "outputs": [
        {
          "output_type": "execute_result",
          "data": {
            "text/plain": [
              "\"Retrieved first: 'third on', retrieved second: 'second on', retrieved last: 'first on'\""
            ]
          },
          "metadata": {
            "tags": []
          },
          "execution_count": 44
        }
      ]
    },
    {
      "metadata": {
        "id": "SxpzGoM_Z_RU"
      },
      "cell_type": "markdown",
      "source": [
        "## 4.2 Explore dictionaries\n",
        "Dictionaries are mappings of key value pairs."
      ]
    },
    {
      "metadata": {
        "id": "l9nWQuW1oLCE"
      },
      "cell_type": "markdown",
      "source": [
        "### Create an empty dict using constructor"
      ]
    },
    {
      "metadata": {
        "id": "45C_FS-eoR-3",
        "outputId": "48bd3a77-6506-43b3-dd6d-bd9f9000b58c",
        "colab": {
          "base_uri": "https://localhost:8080/"
        }
      },
      "cell_type": "code",
      "source": [
        "dictionary = {}\n",
        "dictionary"
      ],
      "execution_count": null,
      "outputs": [
        {
          "output_type": "execute_result",
          "data": {
            "text/plain": [
              "{}"
            ]
          },
          "metadata": {},
          "execution_count": 15
        }
      ]
    },
    {
      "cell_type": "code",
      "source": [
        "dictionary['key'] = 'value'"
      ],
      "metadata": {
        "id": "B7yzr99f-6m0"
      },
      "execution_count": null,
      "outputs": []
    },
    {
      "cell_type": "code",
      "source": [
        "dictionary"
      ],
      "metadata": {
        "colab": {
          "base_uri": "https://localhost:8080/"
        },
        "id": "5VPNIWqM--ZC",
        "outputId": "21b4798b-bea2-4ccf-9836-de10e250dde4"
      },
      "execution_count": null,
      "outputs": [
        {
          "output_type": "execute_result",
          "data": {
            "text/plain": [
              "{'one': 1,\n",
              " (1, 2, 3): 'abcde',\n",
              " 10: [1, 2, 3],\n",
              " 'key': 'value',\n",
              " (1, 2, 3, 4): ['value1', 'value2', 'value3']}"
            ]
          },
          "metadata": {},
          "execution_count": 23
        }
      ]
    },
    {
      "cell_type": "code",
      "source": [
        "dictionary[[1, 2, 3]] = 'value'"
      ],
      "metadata": {
        "colab": {
          "base_uri": "https://localhost:8080/",
          "height": 141
        },
        "id": "Hpg4bAOP_DYo",
        "outputId": "6fc2b4f2-420f-4920-c697-c1e6b3d15945"
      },
      "execution_count": null,
      "outputs": [
        {
          "output_type": "error",
          "ename": "TypeError",
          "evalue": "unhashable type: 'list'",
          "traceback": [
            "\u001b[1;31m---------------------------------------------------------------------------\u001b[0m",
            "\u001b[1;31mTypeError\u001b[0m                                 Traceback (most recent call last)",
            "\u001b[1;32mC:\\Temp/ipykernel_15916/3796513273.py\u001b[0m in \u001b[0;36m<module>\u001b[1;34m\u001b[0m\n\u001b[1;32m----> 1\u001b[1;33m \u001b[0mdictionary\u001b[0m\u001b[1;33m[\u001b[0m\u001b[1;33m[\u001b[0m\u001b[1;36m1\u001b[0m\u001b[1;33m,\u001b[0m \u001b[1;36m2\u001b[0m\u001b[1;33m,\u001b[0m \u001b[1;36m3\u001b[0m\u001b[1;33m]\u001b[0m\u001b[1;33m]\u001b[0m \u001b[1;33m=\u001b[0m \u001b[1;34m'value'\u001b[0m\u001b[1;33m\u001b[0m\u001b[1;33m\u001b[0m\u001b[0m\n\u001b[0m",
            "\u001b[1;31mTypeError\u001b[0m: unhashable type: 'list'"
          ]
        }
      ]
    },
    {
      "cell_type": "code",
      "source": [
        "dictionary[(1, 2, 3, 4)] = ['value1', 'value2', 'value3']"
      ],
      "metadata": {
        "id": "o2C07aHN_KD5"
      },
      "execution_count": null,
      "outputs": []
    },
    {
      "cell_type": "code",
      "source": [
        "for i in dictionary:\n",
        "  print(i)"
      ],
      "metadata": {
        "colab": {
          "base_uri": "https://localhost:8080/"
        },
        "id": "DXMc4E0u_XaK",
        "outputId": "361bb730-d894-4e15-9f13-7dbd2ac21697"
      },
      "execution_count": null,
      "outputs": [
        {
          "output_type": "stream",
          "name": "stdout",
          "text": [
            "one\n",
            "(1, 2, 3)\n",
            "10\n",
            "key\n",
            "(1, 2, 3, 4)\n"
          ]
        }
      ]
    },
    {
      "cell_type": "code",
      "source": [
        "for i in dictionary.items():\n",
        "  print(i)"
      ],
      "metadata": {
        "colab": {
          "base_uri": "https://localhost:8080/"
        },
        "id": "PE9B3Ur8_duy",
        "outputId": "a7c549a9-147b-4378-d0e2-81ebfc3a5976"
      },
      "execution_count": null,
      "outputs": [
        {
          "output_type": "stream",
          "name": "stdout",
          "text": [
            "('one', 1)\n",
            "((1, 2, 3), 'abcde')\n",
            "(10, [1, 2, 3])\n",
            "('key', 'value')\n",
            "((1, 2, 3, 4), ['value1', 'value2', 'value3'])\n"
          ]
        }
      ]
    },
    {
      "cell_type": "code",
      "source": [
        "for key, value in dictionary.items():\n",
        "  print(key, \"||||\", value)"
      ],
      "metadata": {
        "colab": {
          "base_uri": "https://localhost:8080/"
        },
        "id": "8QduceCG_n3h",
        "outputId": "20e4c82d-d3bf-4f02-b265-032aa465a167"
      },
      "execution_count": null,
      "outputs": [
        {
          "output_type": "stream",
          "name": "stdout",
          "text": [
            "one |||| 1\n",
            "(1, 2, 3) |||| abcde\n",
            "10 |||| [1, 2, 3]\n",
            "key |||| value\n",
            "(1, 2, 3, 4) |||| ['value1', 'value2', 'value3']\n"
          ]
        }
      ]
    },
    {
      "cell_type": "code",
      "source": [
        "# list of collections: list, tuple, string, dictionary, set, (deque)"
      ],
      "metadata": {
        "id": "Drt4NjDK_vZk"
      },
      "execution_count": null,
      "outputs": []
    },
    {
      "cell_type": "markdown",
      "source": [
        "https://www.geeksforgeeks.org/complexity-cheat-sheet-for-python-operations/"
      ],
      "metadata": {
        "id": "0mkwK6JHAIsP"
      }
    },
    {
      "cell_type": "markdown",
      "source": [
        "https://wiki.python.org/moin/TimeComplexity (with deque)"
      ],
      "metadata": {
        "id": "CJvxEivbAcG7"
      }
    },
    {
      "metadata": {
        "id": "uwNpFQFGo0C_"
      },
      "cell_type": "markdown",
      "source": [
        "### Create a dictionary based on key/value pairs"
      ]
    },
    {
      "metadata": {
        "id": "VWYvp8peo5ok",
        "outputId": "ef583270-e5dc-4902-a524-696345ff0db1",
        "colab": {
          "base_uri": "https://localhost:8080/",
          "height": 34
        }
      },
      "cell_type": "code",
      "source": [
        "key_values = [['key-1','value-1'], ['key-2', 'value-2']]\n",
        "dictionary = dict(key_values)\n",
        "dictionary"
      ],
      "execution_count": null,
      "outputs": [
        {
          "output_type": "execute_result",
          "data": {
            "text/plain": [
              "{'key-1': 'value-1', 'key-2': 'value-2'}"
            ]
          },
          "metadata": {
            "tags": []
          },
          "execution_count": 47
        }
      ]
    },
    {
      "cell_type": "code",
      "source": [
        "dictionary = {'one' : 1, (1, 2, 3): 'abcde', 10 : [1, 2, 3]}"
      ],
      "metadata": {
        "id": "kr1BKgPZ7qXe"
      },
      "execution_count": null,
      "outputs": []
    },
    {
      "cell_type": "code",
      "source": [
        "dictionary"
      ],
      "metadata": {
        "colab": {
          "base_uri": "https://localhost:8080/"
        },
        "id": "j3nFJcGI75si",
        "outputId": "71e74506-63ca-4f36-f5b2-6abca8624e58"
      },
      "execution_count": null,
      "outputs": [
        {
          "output_type": "execute_result",
          "data": {
            "text/plain": [
              "{'one': 1, (1, 2, 3): 'abcde', 10: [1, 2, 3]}"
            ]
          },
          "metadata": {},
          "execution_count": 8
        }
      ]
    },
    {
      "cell_type": "code",
      "source": [
        "dictionary['one']"
      ],
      "metadata": {
        "colab": {
          "base_uri": "https://localhost:8080/"
        },
        "id": "OS46mxtk77B9",
        "outputId": "88c5c2e6-1fe6-44d2-af48-718d19b93773"
      },
      "execution_count": null,
      "outputs": [
        {
          "output_type": "execute_result",
          "data": {
            "text/plain": [
              "1"
            ]
          },
          "metadata": {},
          "execution_count": 9
        }
      ]
    },
    {
      "cell_type": "code",
      "source": [
        "dictionary[(1, 2, 3)]"
      ],
      "metadata": {
        "colab": {
          "base_uri": "https://localhost:8080/"
        },
        "id": "6oc0xieG787Y",
        "outputId": "2ed04f82-2573-4963-be90-f8ad5bee201e"
      },
      "execution_count": null,
      "outputs": [
        {
          "output_type": "execute_result",
          "data": {
            "text/plain": [
              "'abcde'"
            ]
          },
          "metadata": {},
          "execution_count": 10
        }
      ]
    },
    {
      "cell_type": "code",
      "source": [
        "dictionary[10]"
      ],
      "metadata": {
        "colab": {
          "base_uri": "https://localhost:8080/"
        },
        "id": "iTZ2rM6P7_Uj",
        "outputId": "7cab96d7-5139-4ec1-f969-5dd52f2f5225"
      },
      "execution_count": null,
      "outputs": [
        {
          "output_type": "execute_result",
          "data": {
            "text/plain": [
              "[1, 2, 3]"
            ]
          },
          "metadata": {},
          "execution_count": 11
        }
      ]
    },
    {
      "cell_type": "code",
      "source": [
        "# complexity of getting the element from dictionary by key is only O(1)\n",
        "# because it uses hash table"
      ],
      "metadata": {
        "id": "tdWjeoDC-g_s"
      },
      "execution_count": null,
      "outputs": []
    },
    {
      "cell_type": "markdown",
      "source": [
        "https://pypi.org/project/frozendict/"
      ],
      "metadata": {
        "id": "0ydDv08S-0iW"
      }
    },
    {
      "metadata": {
        "id": "oLd8LV02ofza"
      },
      "cell_type": "markdown",
      "source": [
        "### Create an empty dict using curley braces"
      ]
    },
    {
      "metadata": {
        "id": "El6HcTagolLw",
        "outputId": "696a4405-368b-4113-a0d1-99566e249446",
        "colab": {
          "base_uri": "https://localhost:8080/",
          "height": 34
        }
      },
      "cell_type": "code",
      "source": [
        "dictionary = {}\n",
        "dictionary"
      ],
      "execution_count": null,
      "outputs": [
        {
          "output_type": "execute_result",
          "data": {
            "text/plain": [
              "{}"
            ]
          },
          "metadata": {
            "tags": []
          },
          "execution_count": 48
        }
      ]
    },
    {
      "metadata": {
        "id": "yXNaZRMdpQoK"
      },
      "cell_type": "markdown",
      "source": [
        "### Use curley braces to create a dictionary with initial key/values"
      ]
    },
    {
      "metadata": {
        "id": "oRTWGBtvpYcb",
        "outputId": "922c363f-d506-4eb0-81bb-a7301155bdf7",
        "colab": {
          "base_uri": "https://localhost:8080/",
          "height": 34
        }
      },
      "cell_type": "code",
      "source": [
        "dictionary = {'key-1': 'value-1',\n",
        "              'key-2': 'value-2'}\n",
        "\n",
        "dictionary"
      ],
      "execution_count": null,
      "outputs": [
        {
          "output_type": "execute_result",
          "data": {
            "text/plain": [
              "{'key-1': 'value-1', 'key-2': 'value-2'}"
            ]
          },
          "metadata": {
            "tags": []
          },
          "execution_count": 49
        }
      ]
    },
    {
      "metadata": {
        "id": "vb9aP6o5pv_B"
      },
      "cell_type": "markdown",
      "source": [
        "### Access value using key"
      ]
    },
    {
      "metadata": {
        "id": "3-jz1H8Apzgm",
        "outputId": "3970a9a3-a15c-4a80-a2fc-81ad55cc1717",
        "colab": {
          "base_uri": "https://localhost:8080/",
          "height": 34
        }
      },
      "cell_type": "code",
      "source": [
        "dictionary['key-1']"
      ],
      "execution_count": null,
      "outputs": [
        {
          "output_type": "execute_result",
          "data": {
            "text/plain": [
              "'value-1'"
            ]
          },
          "metadata": {
            "tags": []
          },
          "execution_count": 51
        }
      ]
    },
    {
      "metadata": {
        "id": "UBSLRWEeqE-W"
      },
      "cell_type": "markdown",
      "source": [
        "### Add a key/value pair to an existing dictionary"
      ]
    },
    {
      "metadata": {
        "id": "J98co3mWqJ5I",
        "outputId": "4ec4724f-aeca-48db-d6c9-84fef9a8c849",
        "colab": {
          "base_uri": "https://localhost:8080/",
          "height": 34
        }
      },
      "cell_type": "code",
      "source": [
        "dictionary['key-3'] = 'value-3'\n",
        "\n",
        "dictionary"
      ],
      "execution_count": null,
      "outputs": [
        {
          "output_type": "execute_result",
          "data": {
            "text/plain": [
              "{'key-1': 'value-1', 'key-2': 'value-2', 'key-3': 'value-3'}"
            ]
          },
          "metadata": {
            "tags": []
          },
          "execution_count": 52
        }
      ]
    },
    {
      "metadata": {
        "id": "xmHWK2hHq7c_"
      },
      "cell_type": "markdown",
      "source": [
        "### Update value for existing key"
      ]
    },
    {
      "metadata": {
        "id": "VrV2r-vUq-JV",
        "outputId": "c7960849-de81-461f-eed5-1806f9a01ceb",
        "colab": {
          "base_uri": "https://localhost:8080/",
          "height": 34
        }
      },
      "cell_type": "code",
      "source": [
        "dictionary['key-2'] = 'new-value-2'\n",
        "dictionary['key-2']"
      ],
      "execution_count": null,
      "outputs": [
        {
          "output_type": "execute_result",
          "data": {
            "text/plain": [
              "'new-value-2'"
            ]
          },
          "metadata": {
            "tags": []
          },
          "execution_count": 53
        }
      ]
    },
    {
      "metadata": {
        "id": "_ot60Snlra6K"
      },
      "cell_type": "markdown",
      "source": [
        "### Get keys"
      ]
    },
    {
      "metadata": {
        "id": "Lv726tMhrYnh",
        "outputId": "23089819-c637-4e89-a48e-ee5507b4b550",
        "colab": {
          "base_uri": "https://localhost:8080/",
          "height": 34
        }
      },
      "cell_type": "code",
      "source": [
        "list(dictionary.keys())"
      ],
      "execution_count": null,
      "outputs": [
        {
          "output_type": "execute_result",
          "data": {
            "text/plain": [
              "['key-1', 'key-2', 'key-3']"
            ]
          },
          "metadata": {
            "tags": []
          },
          "execution_count": 55
        }
      ]
    },
    {
      "metadata": {
        "id": "WGJyKhKgrf11"
      },
      "cell_type": "markdown",
      "source": [
        "### Get values"
      ]
    },
    {
      "metadata": {
        "id": "F7F-fNMMrhT5",
        "outputId": "f9ace37c-d4de-450d-b4e3-c6b06790fbd0",
        "colab": {
          "base_uri": "https://localhost:8080/",
          "height": 34
        }
      },
      "cell_type": "code",
      "source": [
        "dictionary.values()"
      ],
      "execution_count": null,
      "outputs": [
        {
          "output_type": "execute_result",
          "data": {
            "text/plain": [
              "dict_values(['value-1', 'new-value-2', 'value-3'])"
            ]
          },
          "metadata": {
            "tags": []
          },
          "execution_count": 56
        }
      ]
    },
    {
      "metadata": {
        "id": "tCpdFg8JrqKM"
      },
      "cell_type": "markdown",
      "source": [
        "### Get iterable keys and items"
      ]
    },
    {
      "metadata": {
        "id": "0dZRJamArlLg",
        "outputId": "1d43a628-2f5e-4d4e-c179-b7cbc2373c37",
        "colab": {
          "base_uri": "https://localhost:8080/",
          "height": 34
        }
      },
      "cell_type": "code",
      "source": [
        "dictionary.items()"
      ],
      "execution_count": null,
      "outputs": [
        {
          "output_type": "execute_result",
          "data": {
            "text/plain": [
              "dict_items([('key-1', 'value-1'), ('key-2', 'new-value-2'), ('key-3', 'value-3')])"
            ]
          },
          "metadata": {
            "tags": []
          },
          "execution_count": 57
        }
      ]
    },
    {
      "metadata": {
        "id": "Cvk5OCmQrvkd"
      },
      "cell_type": "markdown",
      "source": [
        "### Use items in for loop"
      ]
    },
    {
      "metadata": {
        "id": "bzYEfTEWrxno",
        "outputId": "b8b1427b-7eb0-4f4c-c36c-3b526d9a09dd",
        "colab": {
          "base_uri": "https://localhost:8080/",
          "height": 68
        }
      },
      "cell_type": "code",
      "source": [
        "for key, value in dictionary.items():\n",
        "  print(f\"{key}: {value}\")"
      ],
      "execution_count": null,
      "outputs": [
        {
          "output_type": "stream",
          "text": [
            "key-1: value-1\n",
            "key-2: new-value-2\n",
            "key-3: value-3\n"
          ],
          "name": "stdout"
        }
      ]
    },
    {
      "metadata": {
        "id": "9fqITS30sJC6"
      },
      "cell_type": "markdown",
      "source": [
        "### Check if dictionary has key\n",
        "The 'in' syntax we used with sequences checks the dicts keys for membership."
      ]
    },
    {
      "metadata": {
        "id": "c1XdFLXNsWVq",
        "outputId": "fc5b766b-be93-4d8f-95e0-fd17f981bee0",
        "colab": {
          "base_uri": "https://localhost:8080/",
          "height": 34
        }
      },
      "cell_type": "code",
      "source": [
        "'key-5' in dictionary"
      ],
      "execution_count": null,
      "outputs": [
        {
          "output_type": "execute_result",
          "data": {
            "text/plain": [
              "False"
            ]
          },
          "metadata": {
            "tags": []
          },
          "execution_count": 60
        }
      ]
    },
    {
      "metadata": {
        "id": "G4Z2Pk3VsyUJ"
      },
      "cell_type": "markdown",
      "source": [
        "### Get method"
      ]
    },
    {
      "metadata": {
        "id": "FnHIgV8_s1eQ",
        "outputId": "50b29063-b0c2-44b8-bd97-4b1da21282a7",
        "colab": {
          "base_uri": "https://localhost:8080/",
          "height": 34
        }
      },
      "cell_type": "code",
      "source": [
        "dictionary.get(\"bad key\", \"default value\")"
      ],
      "execution_count": null,
      "outputs": [
        {
          "output_type": "execute_result",
          "data": {
            "text/plain": [
              "'default value'"
            ]
          },
          "metadata": {
            "tags": []
          },
          "execution_count": 64
        }
      ]
    },
    {
      "metadata": {
        "id": "YmWqelbJthVB"
      },
      "cell_type": "markdown",
      "source": [
        "### Remove item"
      ]
    },
    {
      "metadata": {
        "id": "tOLuWnHEtkjT",
        "outputId": "e90cf788-09a9-4e0a-9231-b29f8c070fab",
        "colab": {
          "base_uri": "https://localhost:8080/",
          "height": 34
        }
      },
      "cell_type": "code",
      "source": [
        "del(dictionary['key-1'])\n",
        "dictionary"
      ],
      "execution_count": null,
      "outputs": [
        {
          "output_type": "execute_result",
          "data": {
            "text/plain": [
              "{'key-2': 'new-value-2', 'key-3': 'value-3'}"
            ]
          },
          "metadata": {
            "tags": []
          },
          "execution_count": 65
        }
      ]
    },
    {
      "metadata": {
        "id": "AnFGTgxCiZnk"
      },
      "cell_type": "markdown",
      "source": [
        "### Keys must be immutable"
      ]
    },
    {
      "metadata": {
        "id": "rnKNsxuZinvy"
      },
      "cell_type": "markdown",
      "source": [
        "#### List as key\n",
        "Lists are mutable and not hashable"
      ]
    },
    {
      "metadata": {
        "id": "16t9F7PPipo4",
        "outputId": "ad113919-80cc-44cd-cc76-ad1d252dde27",
        "colab": {
          "base_uri": "https://localhost:8080/",
          "height": 198
        }
      },
      "cell_type": "code",
      "source": [
        "items = ['item-1', 'item-2', 'item-3']\n",
        "\n",
        "map = {}\n",
        "\n",
        "map[items] = \"some-value\""
      ],
      "execution_count": null,
      "outputs": [
        {
          "output_type": "error",
          "ename": "TypeError",
          "evalue": "ignored",
          "traceback": [
            "\u001b[0;31m---------------------------------------------------------------------------\u001b[0m",
            "\u001b[0;31mTypeError\u001b[0m                                 Traceback (most recent call last)",
            "\u001b[0;32m<ipython-input-66-25faa77a670a>\u001b[0m in \u001b[0;36m<module>\u001b[0;34m()\u001b[0m\n\u001b[1;32m      3\u001b[0m \u001b[0mmap\u001b[0m \u001b[0;34m=\u001b[0m \u001b[0;34m{\u001b[0m\u001b[0;34m}\u001b[0m\u001b[0;34m\u001b[0m\u001b[0;34m\u001b[0m\u001b[0m\n\u001b[1;32m      4\u001b[0m \u001b[0;34m\u001b[0m\u001b[0m\n\u001b[0;32m----> 5\u001b[0;31m \u001b[0mmap\u001b[0m\u001b[0;34m[\u001b[0m\u001b[0mitems\u001b[0m\u001b[0;34m]\u001b[0m \u001b[0;34m=\u001b[0m \u001b[0;34m\"some-value\"\u001b[0m\u001b[0;34m\u001b[0m\u001b[0;34m\u001b[0m\u001b[0m\n\u001b[0m",
            "\u001b[0;31mTypeError\u001b[0m: unhashable type: 'list'"
          ]
        }
      ]
    },
    {
      "metadata": {
        "id": "_9vXIamIjLER"
      },
      "cell_type": "markdown",
      "source": [
        "#### Tuple as a key\n",
        "Tuples are immutable and hence hashable"
      ]
    },
    {
      "metadata": {
        "id": "K2pFCFu3jNRM",
        "outputId": "5e1fc13f-b76f-45d5-9fff-359f6199972e",
        "colab": {
          "base_uri": "https://localhost:8080/",
          "height": 34
        }
      },
      "cell_type": "code",
      "source": [
        "items = 'item-1', 'item-2', 'item-3'\n",
        "map = {}\n",
        "map[items] = \"some-value\"\n",
        "\n",
        "map"
      ],
      "execution_count": null,
      "outputs": [
        {
          "output_type": "execute_result",
          "data": {
            "text/plain": [
              "{('item-1', 'item-2', 'item-3'): 'some-value'}"
            ]
          },
          "metadata": {
            "tags": []
          },
          "execution_count": 67
        }
      ]
    },
    {
      "metadata": {
        "id": "Y1rOvrTSaCnA"
      },
      "cell_type": "markdown",
      "source": [
        "## 4.3 Dive into sets"
      ]
    },
    {
      "metadata": {
        "id": "_Bu_DUont1Ks"
      },
      "cell_type": "markdown",
      "source": [
        "### Create set from tuple or list"
      ]
    },
    {
      "metadata": {
        "id": "epPCLrckt4Zy",
        "outputId": "df768aae-5c29-492b-a444-d60735fb0f36",
        "colab": {
          "base_uri": "https://localhost:8080/",
          "height": 34
        }
      },
      "cell_type": "code",
      "source": [
        "letters = 'a', 'a', 'a', 'b', 'c'\n",
        "unique_letters = set(letters)\n",
        "unique_letters"
      ],
      "execution_count": null,
      "outputs": [
        {
          "output_type": "execute_result",
          "data": {
            "text/plain": [
              "{'a', 'b', 'c'}"
            ]
          },
          "metadata": {
            "tags": []
          },
          "execution_count": 68
        }
      ]
    },
    {
      "metadata": {
        "id": "qnQHMNCRuebg"
      },
      "cell_type": "markdown",
      "source": [
        "### Create set from a string"
      ]
    },
    {
      "metadata": {
        "id": "IRsuJBVC_ORB",
        "outputId": "ffca987d-0534-4e4f-d660-24318b4c2795",
        "colab": {
          "base_uri": "https://localhost:8080/",
          "height": 34
        }
      },
      "cell_type": "code",
      "source": [
        "unique_chars = set('mississippi')\n",
        "unique_chars"
      ],
      "execution_count": null,
      "outputs": [
        {
          "output_type": "execute_result",
          "data": {
            "text/plain": [
              "{'i', 'm', 'p', 's'}"
            ]
          },
          "metadata": {
            "tags": []
          },
          "execution_count": 69
        }
      ]
    },
    {
      "metadata": {
        "id": "LUJyjEh1uzrv"
      },
      "cell_type": "markdown",
      "source": [
        "### Create set using curley braces"
      ]
    },
    {
      "metadata": {
        "id": "afYk3yfTu3Pt",
        "outputId": "8fc66ae0-c16c-45e0-d684-41757f68ee81",
        "colab": {
          "base_uri": "https://localhost:8080/",
          "height": 34
        }
      },
      "cell_type": "code",
      "source": [
        "unique_num = {1, 1, 2, 3, 4, 5, 5}\n",
        "unique_num"
      ],
      "execution_count": null,
      "outputs": [
        {
          "output_type": "execute_result",
          "data": {
            "text/plain": [
              "{1, 2, 3, 4, 5}"
            ]
          },
          "metadata": {
            "tags": []
          },
          "execution_count": 70
        }
      ]
    },
    {
      "metadata": {
        "id": "jDMYvC0avu_C"
      },
      "cell_type": "markdown",
      "source": [
        "### Adding to a set"
      ]
    },
    {
      "metadata": {
        "id": "hoZ7hcrBvwtc",
        "outputId": "1585f6f0-3122-480e-a69a-022460b0fbc7",
        "colab": {
          "base_uri": "https://localhost:8080/",
          "height": 34
        }
      },
      "cell_type": "code",
      "source": [
        "unique_num.add(6)\n",
        "unique_num"
      ],
      "execution_count": null,
      "outputs": [
        {
          "output_type": "execute_result",
          "data": {
            "text/plain": [
              "{1, 2, 3, 4, 5, 6}"
            ]
          },
          "metadata": {
            "tags": []
          },
          "execution_count": 72
        }
      ]
    },
    {
      "metadata": {
        "id": "o-UWnVB7v8yb"
      },
      "cell_type": "markdown",
      "source": [
        "### Popping from a set\n",
        "Pop method removes and returns a random element of the set"
      ]
    },
    {
      "metadata": {
        "id": "e9xWJPXnwF4s",
        "outputId": "3d0bc7f2-3dda-4738-975b-011d09f8ec7f",
        "colab": {
          "base_uri": "https://localhost:8080/",
          "height": 34
        }
      },
      "cell_type": "code",
      "source": [
        "unique_num.pop()"
      ],
      "execution_count": null,
      "outputs": [
        {
          "output_type": "execute_result",
          "data": {
            "text/plain": [
              "2"
            ]
          },
          "metadata": {
            "tags": []
          },
          "execution_count": 74
        }
      ]
    },
    {
      "metadata": {
        "id": "VJjl2Fv9vLOl"
      },
      "cell_type": "markdown",
      "source": [
        "### Indexing\n",
        "Sets have no order, and hence cannot be accessed via indexing"
      ]
    },
    {
      "metadata": {
        "id": "vxPCJWJOvShU",
        "outputId": "8bd70eb2-1c1d-4b64-f23b-dcf278c4a29f",
        "colab": {
          "base_uri": "https://localhost:8080/",
          "height": 164
        }
      },
      "cell_type": "code",
      "source": [
        "unique_num[4]"
      ],
      "execution_count": null,
      "outputs": [
        {
          "output_type": "error",
          "ename": "TypeError",
          "evalue": "ignored",
          "traceback": [
            "\u001b[0;31m---------------------------------------------------------------------------\u001b[0m",
            "\u001b[0;31mTypeError\u001b[0m                                 Traceback (most recent call last)",
            "\u001b[0;32m<ipython-input-75-c928415e5703>\u001b[0m in \u001b[0;36m<module>\u001b[0;34m()\u001b[0m\n\u001b[0;32m----> 1\u001b[0;31m \u001b[0munique_num\u001b[0m\u001b[0;34m[\u001b[0m\u001b[0;36m4\u001b[0m\u001b[0;34m]\u001b[0m\u001b[0;34m\u001b[0m\u001b[0;34m\u001b[0m\u001b[0m\n\u001b[0m",
            "\u001b[0;31mTypeError\u001b[0m: 'set' object does not support indexing"
          ]
        }
      ]
    },
    {
      "metadata": {
        "id": "TQyoEjgivjA3"
      },
      "cell_type": "markdown",
      "source": [
        "### Checking membership"
      ]
    },
    {
      "metadata": {
        "id": "3zOvkWX6vlf2",
        "outputId": "020d8aef-4a5a-45fc-da0c-8e5a74240487",
        "colab": {
          "base_uri": "https://localhost:8080/",
          "height": 34
        }
      },
      "cell_type": "code",
      "source": [
        "3 in unique_num"
      ],
      "execution_count": null,
      "outputs": [
        {
          "output_type": "execute_result",
          "data": {
            "text/plain": [
              "True"
            ]
          },
          "metadata": {
            "tags": []
          },
          "execution_count": 76
        }
      ]
    },
    {
      "metadata": {
        "id": "6ph_k8RUweYA"
      },
      "cell_type": "markdown",
      "source": [
        "### Set operations"
      ]
    },
    {
      "metadata": {
        "id": "7EfN4R5xwmXM"
      },
      "cell_type": "code",
      "source": [
        "s1 = { 1 ,2 ,3 ,4, 5, 6, 7}\n",
        "s2 = { 0, 2, 4, 6, 8 }"
      ],
      "execution_count": null,
      "outputs": []
    },
    {
      "metadata": {
        "id": "RAG3ATbtwtwm"
      },
      "cell_type": "markdown",
      "source": [
        "#### Items in first set, but not in the second"
      ]
    },
    {
      "metadata": {
        "id": "kCfxlj9Lwz1x",
        "outputId": "3c3b92ad-959b-46bf-ecb0-2513886923b9",
        "colab": {
          "base_uri": "https://localhost:8080/",
          "height": 34
        }
      },
      "cell_type": "code",
      "source": [
        "s1 - s2"
      ],
      "execution_count": null,
      "outputs": [
        {
          "output_type": "execute_result",
          "data": {
            "text/plain": [
              "{1, 3, 5, 7}"
            ]
          },
          "metadata": {
            "tags": []
          },
          "execution_count": 78
        }
      ]
    },
    {
      "metadata": {
        "id": "KDA6bO1Vw8Bk"
      },
      "cell_type": "markdown",
      "source": [
        "#### Items in either or both sets"
      ]
    },
    {
      "metadata": {
        "id": "a-1CBUnRw-y-",
        "outputId": "584219f7-80ba-4e24-f3ec-b833428bfc87",
        "colab": {
          "base_uri": "https://localhost:8080/",
          "height": 34
        }
      },
      "cell_type": "code",
      "source": [
        "s1 | s2"
      ],
      "execution_count": null,
      "outputs": [
        {
          "output_type": "execute_result",
          "data": {
            "text/plain": [
              "{0, 1, 2, 3, 4, 5, 6, 7, 8}"
            ]
          },
          "metadata": {
            "tags": []
          },
          "execution_count": 79
        }
      ]
    },
    {
      "metadata": {
        "id": "ADEQBlFrxIN7"
      },
      "cell_type": "markdown",
      "source": [
        "#### Items in both sets"
      ]
    },
    {
      "metadata": {
        "id": "IIudbePtxRkR",
        "outputId": "ad5fcea8-8b15-467d-a895-c11e4caa8609",
        "colab": {
          "base_uri": "https://localhost:8080/",
          "height": 34
        }
      },
      "cell_type": "code",
      "source": [
        "s1 & s2"
      ],
      "execution_count": null,
      "outputs": [
        {
          "output_type": "execute_result",
          "data": {
            "text/plain": [
              "{2, 4, 6}"
            ]
          },
          "metadata": {
            "tags": []
          },
          "execution_count": 80
        }
      ]
    },
    {
      "metadata": {
        "id": "742awPXgxat5"
      },
      "cell_type": "markdown",
      "source": [
        "#### Items in either set, but not both"
      ]
    },
    {
      "metadata": {
        "id": "03UonZ9G_jDc",
        "outputId": "b06f2369-fd8f-42a3-befb-d9af998f7076",
        "colab": {
          "base_uri": "https://localhost:8080/",
          "height": 34
        }
      },
      "cell_type": "code",
      "source": [
        "s1 ^ s2"
      ],
      "execution_count": null,
      "outputs": [
        {
          "output_type": "execute_result",
          "data": {
            "text/plain": [
              "{0, 1, 3, 5, 7, 8}"
            ]
          },
          "metadata": {
            "tags": []
          },
          "execution_count": 81
        }
      ]
    }
  ]
}